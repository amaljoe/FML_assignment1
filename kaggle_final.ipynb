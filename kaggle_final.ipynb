{
 "cells": [
  {
   "cell_type": "code",
   "id": "initial_id",
   "metadata": {
    "collapsed": true,
    "ExecuteTime": {
     "end_time": "2024-09-05T08:27:33.303312Z",
     "start_time": "2024-09-05T08:19:53.659086Z"
    }
   },
   "source": [
    "import numpy as np\n",
    "import matplotlib.pyplot as plt\n",
    "import pandas as pd\n",
    "from numpy.f2py.crackfortran import verbose\n",
    "\n",
    "np.random.seed(2024)\n",
    "\n",
    "class LinearRegressionBatchGD:\n",
    "    def __init__(self, learning_rate=0.0001, max_epochs=10, batch_size=32):\n",
    "        '''\n",
    "        Initializing the parameters of the model\n",
    "    \n",
    "        Args:\n",
    "          learning_rate : learning rate for batch gradient descent\n",
    "          max_epochs : maximum number of epochs that the batch gradient descent algorithm will run for\n",
    "          batch-size : size of the batches used for batch gradient descent.\n",
    "    \n",
    "        Returns:\n",
    "          None\n",
    "        '''\n",
    "        self.learning_rate = learning_rate\n",
    "        self.max_epochs = max_epochs\n",
    "        self.batch_size = batch_size\n",
    "        self.weights = None\n",
    "\n",
    "    def fit(self, X, y, plot=True):\n",
    "        '''\n",
    "        This function is used to train the model using batch gradient descent.\n",
    "    \n",
    "        Args:\n",
    "          X : 2D numpy array of training set data points. Dimensions (n x (d+1))\n",
    "          y : 2D numpy array of target values in the training dataset. Dimensions (n x 1)\n",
    "    \n",
    "        Returns :\n",
    "          None\n",
    "        '''\n",
    "        if self.batch_size is None:\n",
    "            self.batch_size = X.shape[0]\n",
    "\n",
    "        # Initialize the weights\n",
    "        if self.weights is None:\n",
    "            self.weights = np.zeros((X.shape[1],1))\n",
    "\n",
    "        prev_weights = self.weights\n",
    "\n",
    "        self.error_list = []  #stores the loss for every epoch\n",
    "        for epoch in range(self.max_epochs):\n",
    "\n",
    "            batches = create_batches(X, y, self.batch_size)\n",
    "            for batch in batches:\n",
    "                X_batch, y_batch = batch  #X_batch and y_batch are data points and target values for a given batch\n",
    "\n",
    "                # Complete the inner \"for\" loop to calculate the gradient of loss w.r.t weights, i.e. dw and update the weights\n",
    "                # You should use \"compute_gradient()\"  function to calculate gradient.\n",
    "                f = X_batch @ self.weights\n",
    "                dw = self.compute_gradient(X_batch, y_batch, self.weights)\n",
    "                self.weights = self.weights - self.learning_rate * dw\n",
    "\n",
    "\n",
    "            # After the inner \"for\" loop ends, calculate loss on the entire data using \"compute_rmse_loss()\" function and add the loss of each epoch to the \"error list\"\n",
    "            loss = self.compute_rmse_loss(X, y, self.weights)\n",
    "            self.error_list.append(loss)\n",
    "\n",
    "            if np.linalg.norm(self.weights - prev_weights) < 1e-5:\n",
    "                print(f\" Stopping at epoch {epoch}.\")\n",
    "                break\n",
    "\n",
    "        if plot:\n",
    "            plot_loss(self.error_list, self.max_epochs)\n",
    "\n",
    "    def predict(self, X):\n",
    "        '''\n",
    "        This function is used to predict the target values for the given set of feature values\n",
    "    \n",
    "        Args:\n",
    "          X: 2D numpy array of data points. Dimensions (n x (d+1))\n",
    "    \n",
    "        Returns:\n",
    "          2D numpy array of predicted target values. Dimensions (n x 1)\n",
    "        '''\n",
    "        return X @ self.weights\n",
    "\n",
    "    def compute_rmse_loss(self, X, y, weights):\n",
    "        '''\n",
    "        This function computes the Root Mean Square Error (RMSE)\n",
    "    \n",
    "        Args:\n",
    "          X : 2D numpy array of data points. Dimensions (n x (d+1))\n",
    "          y : 2D numpy array of target values. Dimensions (n x 1)\n",
    "          weights : 2D numpy array of weights of the model. Dimensions ((d+1) x 1)\n",
    "    \n",
    "        Returns:\n",
    "          loss : 2D numpy array of RMSE loss. float\n",
    "        '''\n",
    "        return np.sqrt(np.mean((y - X @ weights)**2))\n",
    "    \n",
    "    def compute_rounded_rmse_loss(self, X, y, weights):\n",
    "        '''\n",
    "        This function computes the Root Mean Square Error (RMSE)\n",
    "    \n",
    "        Args:\n",
    "          X : 2D numpy array of data points. Dimensions (n x (d+1))\n",
    "          y : 2D numpy array of target values. Dimensions (n x 1)\n",
    "          weights : 2D numpy array of weights of the model. Dimensions ((d+1) x 1)\n",
    "    \n",
    "        Returns:\n",
    "          loss : 2D numpy array of RMSE loss. float\n",
    "        '''\n",
    "        return np.sqrt(np.mean((y - (X @ weights).round())**2))\n",
    "\n",
    "    def compute_gradient(self, X, y, weights):\n",
    "        '''\n",
    "        This function computes the gradient of mean squared-error loss w.r.t the weights\n",
    "    \n",
    "        Args:\n",
    "          X : 2D numpy array of data points. Dimensions (n x (d+1))\n",
    "          y : 2D numpy array of target values. Dimensions (n x 1)\n",
    "          weights : 2D numpy array of weights of the model. Dimensions ((d+1) x 1)\n",
    "    \n",
    "        Returns:\n",
    "          dw : 2D numpy array of gradients w.r.t weights. Dimensions ((d+1) x 1)\n",
    "        '''\n",
    "        return -2 * X.T @ (y - X @ weights) / X.shape[0]\n",
    "\n",
    "def plot_loss(error_list, total_epochs):\n",
    "    '''\n",
    "    This function plots the loss for each epoch.\n",
    "  \n",
    "    Args:\n",
    "      error_list : list of validation loss for each epoch\n",
    "      total_epochs : Total number of epochs\n",
    "    Returns:\n",
    "      None\n",
    "    '''\n",
    "    # Complete this function to plot the graph of losses stored in model's \"error_list\"\n",
    "    plt.plot(np.arange(total_epochs), error_list)\n",
    "    plt.xlabel('Epochs')\n",
    "    plt.ylabel('Loss')\n",
    "    plt.title('Loss vs Epochs')\n",
    "    plt.show()\n",
    "\n",
    "def plot_learned_equation(X, y, y_hat):\n",
    "    '''\n",
    "    This function generates the plot to visualize how well the learned linear equation fits the dataset  \n",
    "\n",
    "    Args:\n",
    "      X : 2D numpy array of data points. Dimensions (n x 2)\n",
    "      y : 2D numpy array of target values. Dimensions (n x 1)\n",
    "      y_hat : 2D numpy array of predicted values. Dimensions (n x 1)\n",
    "\n",
    "    Returns:\n",
    "      None\n",
    "    '''\n",
    "    # Plot a 2d plot, with only  X[:,1] on x-axis (Think on why you can ignore X[:, 0])\n",
    "    # Use y_hat to plot the line. DO NOT use y.\n",
    "    plt.plot(X[:, 1], y_hat, label='Predicted line')\n",
    "    plt.scatter(X[:, 1], y, label='Data points', color='g')\n",
    "    plt.xlabel('X')\n",
    "    plt.ylabel('y')\n",
    "    plt.legend()\n",
    "    plt.title('Linear Regression with Batch Gradient Descent')\n",
    "    plt.show()\n",
    "\n",
    "############################################\n",
    "#####        Helper functions          #####\n",
    "############################################\n",
    "def generate_toy_dataset():\n",
    "    '''\n",
    "    This function generates a simple toy dataset containing 300 points with 1d feature \n",
    "    '''\n",
    "    X = np.random.rand(300, 2)\n",
    "    X[:, 0] = 1 # bias term\n",
    "    weights = np.random.rand(2,1)\n",
    "    noise = np.random.rand(300,1) / 32\n",
    "    y = np.matmul(X, weights) + noise\n",
    "\n",
    "    X_train = X[:250]\n",
    "    X_test = X[250:]\n",
    "    y_train = y[:250]\n",
    "    y_test = y[250:]\n",
    "\n",
    "    return X_train, y_train, X_test, y_test\n",
    "\n",
    "def create_batches(X, y, batch_size):\n",
    "    '''\n",
    "    This function is used to create the batches of randomly selected data points.\n",
    "  \n",
    "    Args:\n",
    "      X : 2D numpy array of data points. Dimensions (n x (d+1))\n",
    "      y : 2D numpy array of target values. Dimensions (n x 1)\n",
    "  \n",
    "    Returns:\n",
    "      batches : list of tuples with each tuple of size batch size.\n",
    "    '''\n",
    "    batches = []\n",
    "    data = np.hstack((X, y))\n",
    "    np.random.shuffle(data)\n",
    "    num_batches = data.shape[0]//batch_size\n",
    "    i = 0\n",
    "    for i in range(num_batches+1):\n",
    "        if i<num_batches:\n",
    "            batch = data[i * batch_size:(i + 1)*batch_size, :]\n",
    "            X_batch = batch[:, :-1]\n",
    "            Y_batch = batch[:, -1].reshape((-1, 1))\n",
    "            batches.append((X_batch, Y_batch))\n",
    "        if data.shape[0] % batch_size != 0 and i==num_batches:\n",
    "            batch = data[i * batch_size:data.shape[0]]\n",
    "            X_batch = batch[:, :-1]\n",
    "            Y_batch = batch[:, -1].reshape((-1, 1))\n",
    "            batches.append((X_batch, Y_batch))\n",
    "    return batches\n",
    "\n",
    "\n",
    "# Terminal text coloring\n",
    "RESET = '\\033[0m'\n",
    "GREEN = '\\033[32m'\n",
    "RED = '\\033[31m'"
   ],
   "outputs": [],
   "execution_count": 1
  },
  {
   "metadata": {
    "ExecuteTime": {
     "end_time": "2024-09-05T08:27:33.305142Z",
     "start_time": "2024-09-05T08:19:54.281728Z"
    }
   },
   "cell_type": "code",
   "source": [
    "# Create datasets\n",
    "\n",
    "train = pd.read_csv('train.csv')\n",
    "test = pd.read_csv('test.csv')\n",
    "\n",
    "def create_datasets(data):\n",
    "    X = data.drop(['score', 'ID'], axis=1)\n",
    "    y = data['score']\n",
    "    X = np.array(X)\n",
    "    y = np.array(y).reshape(-1, 1)\n",
    "    return X, y\n",
    "\n",
    "# Shuffle the data\n",
    "train = train.sample(frac=1).reset_index(drop=True)\n",
    "\n",
    "n_train = int(0.9 * train.shape[0])\n",
    "X_train, y_train = create_datasets(train[:n_train])\n",
    "X_val, y_val = create_datasets(train[n_train:])\n",
    "\n",
    "X_train.shape, X_val.shape, y_train.shape, y_val.shape"
   ],
   "id": "cb5e3780002b228",
   "outputs": [
    {
     "data": {
      "text/plain": [
       "((31489, 64), (3499, 64), (31489, 1), (3499, 1))"
      ]
     },
     "execution_count": 2,
     "metadata": {},
     "output_type": "execute_result"
    }
   ],
   "execution_count": 2
  },
  {
   "metadata": {
    "ExecuteTime": {
     "end_time": "2024-09-05T08:27:33.305856Z",
     "start_time": "2024-09-05T08:19:54.604600Z"
    }
   },
   "cell_type": "code",
   "source": [
    "# Feature engineering\n",
    "\n",
    "# Mean and variance\n",
    "mu = np.mean(X_train)\n",
    "sigma = np.std(X_train)\n",
    "\n",
    "def sigmoid(x):\n",
    "    return 1 / (1 + np.exp(-x))\n",
    "\n",
    "def gaussian_basis(x):\n",
    "    return np.exp(-0.5 * ((x - mu) / sigma)**2)\n",
    "\n",
    "def normalize(X):\n",
    "    return (X - mu) / sigma\n",
    "\n",
    "def relu(x):\n",
    "    return np.maximum(0, x)\n",
    "\n",
    "basis = np.array([\n",
    "    # ['sigmoid', sigmoid], \n",
    "    ['gaussian', gaussian_basis], \n",
    "    # ['relu', relu], \n",
    "    # ['normalize', normalize], \n",
    "    # ['polynomial', lambda x: x**2], \n",
    "    # ['sin', np.sin], \n",
    "    # ['cos', np.cos], \n",
    "    # ['tan', np.tan]\n",
    "    # ['identity', lambda x: x], \n",
    "])\n",
    "\n",
    "# Add polynomial features\n",
    "def transform_input(X, basis):\n",
    "    X_poly = X\n",
    "    for i in range(basis.shape[0]):\n",
    "        X_poly = np.hstack((X_poly, basis[i, 1](X)))\n",
    "    return X_poly\n",
    "\n",
    "\n",
    "X_train_poly = transform_input(X_train, basis)\n",
    "X_val_poly = transform_input(X_val, basis)\n",
    "print(X_train_poly.shape, X_val_poly.shape)\n",
    "\n",
    "X_train_poly"
   ],
   "id": "9db665207aef7100",
   "outputs": [
    {
     "name": "stdout",
     "output_type": "stream",
     "text": [
      "(31489, 128) (3499, 128)\n"
     ]
    },
    {
     "data": {
      "text/plain": [
       "array([[ 1.16622864, -2.45068992,  0.26548102, ...,  0.91965058,\n",
       "         0.9818237 ,  0.9966641 ],\n",
       "       [ 3.8074223 , -0.44978807, -0.0121988 , ...,  0.99971675,\n",
       "         0.99903392,  0.99380538],\n",
       "       [-2.50461228, -0.31496572, -0.47211275, ...,  0.99999218,\n",
       "         0.99952437,  0.99995337],\n",
       "       ...,\n",
       "       [-4.98934487,  2.00260126,  1.19476171, ...,  0.9955114 ,\n",
       "         0.93273194,  0.97773577],\n",
       "       [ 4.04810353, 11.88665404,  4.55790146, ...,  0.995994  ,\n",
       "         0.90427797,  0.98650464],\n",
       "       [ 0.25820368, -0.6160641 , -0.20673221, ...,  0.98705145,\n",
       "         0.99228809,  0.99528427]])"
      ]
     },
     "execution_count": 3,
     "metadata": {},
     "output_type": "execute_result"
    }
   ],
   "execution_count": 3
  },
  {
   "metadata": {
    "ExecuteTime": {
     "end_time": "2024-09-05T08:27:33.306355Z",
     "start_time": "2024-09-05T08:19:54.669488Z"
    }
   },
   "cell_type": "code",
   "source": [
    "# Train the model\n",
    "model = LinearRegressionBatchGD(learning_rate=0.001, max_epochs=100, batch_size=32)"
   ],
   "id": "36446f7007d0bc4b",
   "outputs": [],
   "execution_count": 4
  },
  {
   "metadata": {
    "ExecuteTime": {
     "end_time": "2024-09-05T08:27:33.307177Z",
     "start_time": "2024-09-05T08:19:54.714653Z"
    }
   },
   "cell_type": "code",
   "source": [
    "model.learning_rate = 0.001\n",
    "model.batch_size = 128\n",
    "model.fit(X_train_poly, y_train)\n",
    "model.compute_rounded_rmse_loss(X_val_poly, y_val, model.weights)"
   ],
   "id": "8661f18df4e99812",
   "outputs": [
    {
     "data": {
      "text/plain": [
       "<Figure size 640x480 with 1 Axes>"
      ],
      "image/png": "[encoded data removed]"
     },
     "metadata": {},
     "output_type": "display_data"
    },
    {
     "data": {
      "text/plain": [
       "0.989657866233463"
      ]
     },
     "execution_count": 5,
     "metadata": {},
     "output_type": "execute_result"
    }
   ],
   "execution_count": 5
  },
  {
   "metadata": {
    "ExecuteTime": {
     "end_time": "2024-09-05T08:27:33.307835Z",
     "start_time": "2024-09-05T08:20:02.564936Z"
    }
   },
   "cell_type": "code",
   "source": [
    "# Use tensorflow for mass experiments (for performance reasons)\n",
    "import tensorflow as tf\n",
    "import pandas as pd\n",
    "\n",
    "all_basis = np.array([\n",
    "    # ['sigmoid', sigmoid],\n",
    "    ['gaussian', gaussian_basis],\n",
    "    # ['relu', relu],\n",
    "    # ['normalize', normalize],\n",
    "    # ['sin', np.sin],\n",
    "    # ['tan', np.tan],\n",
    "    ['polynomial', lambda x: x**2],\n",
    "    # ['cos', np.cos],\n",
    "])\n",
    "\n",
    "def rounded_rmse(y_true, y_pred):\n",
    "    return tf.sqrt(tf.reduce_mean(tf.square(y_true - tf.round(y_pred))))\n",
    "\n",
    "results = np.array([])\n",
    "\n",
    "n_experiments = 2**all_basis.shape[0]\n",
    "\n",
    "for i in range(n_experiments):\n",
    "    basis = all_basis[(i & (1 << np.arange(all_basis.shape[0])) > 0)]\n",
    "    X_train_poly = transform_input(X_train, basis)\n",
    "    X_val_poly = transform_input(X_val, basis)\n",
    "\n",
    "    model = tf.keras.models.Sequential([\n",
    "        tf.keras.Input(shape=(X_train_poly.shape[1],)),\n",
    "        tf.keras.layers.Dense(1)\n",
    "    ])\n",
    "\n",
    "    opt = tf.keras.optimizers.Adam(learning_rate=0.0001)\n",
    "    model.compile(optimizer=opt, loss='mean_squared_error', metrics=['root_mean_squared_error', rounded_rmse])\n",
    "    history = model.fit(X_train_poly, y_train, validation_data=(X_val_poly, y_val), epochs=100, batch_size=64, verbose=0)\n",
    "    res = {'basis': str(basis[:, 0]), 'rmse': history.history['root_mean_squared_error'][-1], 'rounded_rmse': history.history['rounded_rmse'][-1], 'rmse_val': history.history['val_root_mean_squared_error'][-1], 'rounded_rmse_val': history.history['val_rounded_rmse'][-1]}\n",
    "    print(f'{i + 1}/{n_experiments}: {res[\"rmse\"]}, {res[\"rounded_rmse\"]}, {res[\"rmse_val\"]}, {res[\"rounded_rmse_val\"]}')\n",
    "    res = np.array([res['basis'], res['rmse'], res['rounded_rmse'], res['rmse_val'], res['rounded_rmse_val']])\n",
    "    results = np.append(results, res)\n",
    "\n",
    "\n",
    "# Dataframe with columns: basis, rmse, rounded_rmse\n",
    "results = results.reshape(-1, 5)\n",
    "results_df = pd.DataFrame(results, columns=['basis', 'rmse', 'rounded_rmse', 'rmse_val', 'rounded_rmse_val'])\n",
    "results_df"
   ],
   "id": "4771495f6c6959d7",
   "outputs": [
    {
     "name": "stderr",
     "output_type": "stream",
     "text": [
      "/Users/amaljoe/Desktop/Workspace/IITB/FML/assignment1/venv/lib/python3.9/site-packages/urllib3/__init__.py:35: NotOpenSSLWarning: urllib3 v2 only supports OpenSSL 1.1.1+, currently the 'ssl' module is compiled with 'LibreSSL 2.8.3'. See: https://github.com/urllib3/urllib3/issues/3020\n",
      "  warnings.warn(\n"
     ]
    },
    {
     "name": "stdout",
     "output_type": "stream",
     "text": [
      "1/4: 0.9406543970108032, 0.9788971543312073, 0.9308991432189941, 0.9636353254318237\n",
      "2/4: 0.9377894401550293, 0.9746975302696228, 0.9257973432540894, 0.9569767117500305\n",
      "3/4: 0.9607266783714294, 0.9996393322944641, 0.958180844783783, 0.9978431463241577\n",
      "4/4: 0.9365900158882141, 0.9756160974502563, 0.9269742965698242, 0.958710253238678\n"
     ]
    },
    {
     "data": {
      "text/plain": [
       "                       basis                rmse        rounded_rmse  \\\n",
       "0                         []  0.9406543970108032  0.9788971543312073   \n",
       "1               ['gaussian']  0.9377894401550293  0.9746975302696228   \n",
       "2             ['polynomial']  0.9607266783714294  0.9996393322944641   \n",
       "3  ['gaussian' 'polynomial']  0.9365900158882141  0.9756160974502563   \n",
       "\n",
       "             rmse_val    rounded_rmse_val  \n",
       "0  0.9308991432189941  0.9636353254318237  \n",
       "1  0.9257973432540894  0.9569767117500305  \n",
       "2   0.958180844783783  0.9978431463241577  \n",
       "3  0.9269742965698242   0.958710253238678  "
      ],
      "text/html": [
       "<div>\n",
       "<style scoped>\n",
       "    .dataframe tbody tr th:only-of-type {\n",
       "        vertical-align: middle;\n",
       "    }\n",
       "\n",
       "    .dataframe tbody tr th {\n",
       "        vertical-align: top;\n",
       "    }\n",
       "\n",
       "    .dataframe thead th {\n",
       "        text-align: right;\n",
       "    }\n",
       "</style>\n",
       "<table border=\"1\" class=\"dataframe\">\n",
       "  <thead>\n",
       "    <tr style=\"text-align: right;\">\n",
       "      <th></th>\n",
       "      <th>basis</th>\n",
       "      <th>rmse</th>\n",
       "      <th>rounded_rmse</th>\n",
       "      <th>rmse_val</th>\n",
       "      <th>rounded_rmse_val</th>\n",
       "    </tr>\n",
       "  </thead>\n",
       "  <tbody>\n",
       "    <tr>\n",
       "      <th>0</th>\n",
       "      <td>[]</td>\n",
       "      <td>0.9406543970108032</td>\n",
       "      <td>0.9788971543312073</td>\n",
       "      <td>0.9308991432189941</td>\n",
       "      <td>0.9636353254318237</td>\n",
       "    </tr>\n",
       "    <tr>\n",
       "      <th>1</th>\n",
       "      <td>['gaussian']</td>\n",
       "      <td>0.9377894401550293</td>\n",
       "      <td>0.9746975302696228</td>\n",
       "      <td>0.9257973432540894</td>\n",
       "      <td>0.9569767117500305</td>\n",
       "    </tr>\n",
       "    <tr>\n",
       "      <th>2</th>\n",
       "      <td>['polynomial']</td>\n",
       "      <td>0.9607266783714294</td>\n",
       "      <td>0.9996393322944641</td>\n",
       "      <td>0.958180844783783</td>\n",
       "      <td>0.9978431463241577</td>\n",
       "    </tr>\n",
       "    <tr>\n",
       "      <th>3</th>\n",
       "      <td>['gaussian' 'polynomial']</td>\n",
       "      <td>0.9365900158882141</td>\n",
       "      <td>0.9756160974502563</td>\n",
       "      <td>0.9269742965698242</td>\n",
       "      <td>0.958710253238678</td>\n",
       "    </tr>\n",
       "  </tbody>\n",
       "</table>\n",
       "</div>"
      ]
     },
     "execution_count": 6,
     "metadata": {},
     "output_type": "execute_result"
    }
   ],
   "execution_count": 6
  },
  {
   "metadata": {
    "ExecuteTime": {
     "end_time": "2024-09-05T08:27:33.321289Z",
     "start_time": "2024-09-05T08:21:03.178117Z"
    }
   },
   "cell_type": "code",
   "source": [
    "basis = np.array([\n",
    "    # ['gaussian', gaussian_basis], \n",
    "    # ['polynomial', lambda x: x**2], \n",
    "])\n",
    "\n",
    "X_train_poly = transform_input(X_train, basis)\n",
    "X_val_poly = transform_input(X_val, basis)\n",
    "\n",
    "model = tf.keras.models.Sequential([\n",
    "    tf.keras.Input(shape=(X_train_poly.shape[1],)),\n",
    "    tf.keras.layers.Dense(16, activation='sigmoid'),\n",
    "    tf.keras.layers.Dense(8, activation='sigmoid'),\n",
    "    tf.keras.layers.Dense(1)\n",
    "])"
   ],
   "id": "62a0c8c8e7df7c41",
   "outputs": [],
   "execution_count": 7
  },
  {
   "metadata": {
    "ExecuteTime": {
     "end_time": "2024-09-05T08:27:33.321742Z",
     "start_time": "2024-09-05T08:21:03.219797Z"
    }
   },
   "cell_type": "code",
   "source": [
    "opt = tf.keras.optimizers.Adam(learning_rate=0.001)\n",
    "model.compile(optimizer=opt, loss='mean_squared_error', metrics=['root_mean_squared_error', rounded_rmse])\n",
    "history = model.fit(X_train_poly, y_train, validation_data=(X_val_poly, y_val), epochs=100, batch_size=256, verbose=0)\n",
    "model.evaluate(X_val_poly, y_val, verbose=0)"
   ],
   "id": "87a43f73d933e18e",
   "outputs": [
    {
     "data": {
      "text/plain": [
       "[0.7824633717536926, 0.8845695853233337, 0.9062820672988892]"
      ]
     },
     "execution_count": 8,
     "metadata": {},
     "output_type": "execute_result"
    }
   ],
   "execution_count": 8
  },
  {
   "metadata": {
    "ExecuteTime": {
     "end_time": "2024-09-05T08:21:33.575838Z",
     "start_time": "2024-09-05T08:21:08.789743Z"
    }
   },
   "cell_type": "code",
   "source": [
    "# Experiment with hyperparams\n",
    "\n",
    "params = [\n",
    "    [16, 8, 'sigmoid', 0, 0],\n",
    "    [16, 8, 'sigmoid', 0.2, 0],\n",
    "    [16, 8, 'sigmoid', 0.2, 0.2],\n",
    "]\n",
    "\n",
    "for param in params:\n",
    "    model = tf.keras.models.Sequential([\n",
    "        tf.keras.Input(shape=(X_train_poly.shape[1],)),\n",
    "        tf.keras.layers.Dense(param[0], activation=param[2]),\n",
    "        tf.keras.layers.Dropout(param[3]),\n",
    "        tf.keras.layers.Dense(param[1], activation=param[2]),\n",
    "        tf.keras.layers.Dropout(param[4]),\n",
    "        tf.keras.layers.Dense(1)\n",
    "    ])\n",
    "    opt = tf.keras.optimizers.Adam(learning_rate=0.001)\n",
    "    model.compile(optimizer=opt, loss='mean_squared_error', metrics=['root_mean_squared_error', rounded_rmse])\n",
    "    history = model.fit(X_train_poly, y_train, validation_data=(X_val_poly, y_val), epochs=50, batch_size=64, verbose=0)\n",
    "    res = model.evaluate(X_val_poly, y_val, verbose=0)\n",
    "    print(f'{param}: {res}')"
   ],
   "id": "38d19b157016995a",
   "outputs": [
    {
     "name": "stdout",
     "output_type": "stream",
     "text": [
      "[16, 8, 'sigmoid', 0, 0]: [0.779619038105011, 0.8829603791236877, 0.9031426310539246]\n",
      "[16, 8, 'sigmoid', 0.2, 0]: [0.7815946936607361, 0.8840784430503845, 0.9030422568321228]\n",
      "[16, 8, 'sigmoid', 0.2, 0.2]: [0.7880433797836304, 0.8877180814743042, 0.9133396744728088]\n"
     ]
    }
   ],
   "execution_count": 9
  },
  {
   "metadata": {
    "ExecuteTime": {
     "end_time": "2024-09-05T08:21:33.595392Z",
     "start_time": "2024-09-05T08:21:33.592722Z"
    }
   },
   "cell_type": "code",
   "source": "history.history['root_mean_squared_error'][-1], history.history['rounded_rmse'][-1], history.history['val_root_mean_squared_error'][-1], history.history['val_rounded_rmse'][-1]",
   "id": "2ac56da4af6aa64b",
   "outputs": [
    {
     "data": {
      "text/plain": [
       "(0.9144743084907532,\n",
       " 0.9641462564468384,\n",
       " 0.8877179622650146,\n",
       " 0.9211264252662659)"
      ]
     },
     "execution_count": 10,
     "metadata": {},
     "output_type": "execute_result"
    }
   ],
   "execution_count": 10
  },
  {
   "metadata": {
    "ExecuteTime": {
     "end_time": "2024-09-05T08:21:33.661195Z",
     "start_time": "2024-09-05T08:21:33.611283Z"
    }
   },
   "cell_type": "code",
   "source": [
    "# Plot history\n",
    "plt.plot(history.history['val_rounded_rmse'][:], label='rmse')"
   ],
   "id": "6d132d9ffc0f59c2",
   "outputs": [
    {
     "data": {
      "text/plain": [
       "[<matplotlib.lines.Line2D at 0x38815bf40>]"
      ]
     },
     "execution_count": 11,
     "metadata": {},
     "output_type": "execute_result"
    },
    {
     "data": {
      "text/plain": [
       "<Figure size 640x480 with 1 Axes>"
      ],
      "image/png": "[encoded data removed]"
     },
     "metadata": {},
     "output_type": "display_data"
    }
   ],
   "execution_count": 11
  },
  {
   "metadata": {
    "ExecuteTime": {
     "end_time": "2024-09-05T08:21:33.882966Z",
     "start_time": "2024-09-05T08:21:33.676636Z"
    }
   },
   "cell_type": "code",
   "source": [
    "# Get output for final test data\n",
    "X_final_test = np.array(test.drop('ID', axis=1))\n",
    "X_final_test_poly = transform_input(X_final_test, basis)\n",
    "\n",
    "y_final_test = model.predict(X_final_test_poly)\n",
    "y_final_test = np.round(y_final_test)\n",
    "\n",
    "output = pd.DataFrame({'ID': test['ID'], 'score': y_final_test.flatten()})\n",
    "\n",
    "# output['score'] = output['score'].clip(0, 5)\n",
    "\n",
    "# count score < 0\n",
    "below0 = output[output['score'] < 0].shape[0]\n",
    "\n",
    "# count score > 5\n",
    "above5 = output[output['score'] > 5].shape[0]\n",
    "\n",
    "print(output.shape[0], below0, above5)\n",
    "\n",
    "output.to_csv('output_sept4_2.csv', index=False)\n"
   ],
   "id": "7ad91c7fbab70814",
   "outputs": [
    {
     "name": "stdout",
     "output_type": "stream",
     "text": [
      "\u001B[1m469/469\u001B[0m \u001B[32m━━━━━━━━━━━━━━━━━━━━\u001B[0m\u001B[37m\u001B[0m \u001B[1m0s\u001B[0m 246us/step\n",
      "14996 0 0\n"
     ]
    }
   ],
   "execution_count": 12
  },
  {
   "metadata": {
    "ExecuteTime": {
     "end_time": "2024-09-05T08:21:33.904295Z",
     "start_time": "2024-09-05T08:21:33.899930Z"
    }
   },
   "cell_type": "code",
   "source": [
    "import numpy as np\n",
    "import matplotlib.pyplot as plt\n",
    "import pandas as pd\n",
    "\n",
    "np.random.seed(2024)\n",
    "\n",
    "class LinearRegressionClosedForm:\n",
    "    def __init__(self):\n",
    "        '''\n",
    "        Initializing the parameters of the model\n",
    "    \n",
    "        Returns:\n",
    "          None\n",
    "        '''\n",
    "        self.weights = None\n",
    "\n",
    "    def fit(self, X, y):\n",
    "        '''\n",
    "        This function is used to obtain the weights of the model using closed form solution.\n",
    "    \n",
    "        Args:\n",
    "          X : 2D numpy array of training set data points. Dimensions (n x (d+1))\n",
    "          y : 2D numpy array of target values in the training dataset. Dimensions (n x 1)\n",
    "    \n",
    "        Returns :\n",
    "          None\n",
    "        '''\n",
    "        # Calculate the weights\n",
    "        self.weights = np.linalg.inv(X.T @ X) @ X.T @ y\n",
    "\n",
    "    def predict(self, X):\n",
    "        '''\n",
    "        This function is used to predict the target values for the given set of feature values\n",
    "    \n",
    "        Args:\n",
    "          X: 2D numpy array of data points. Dimensions (n x (d+1))\n",
    "    \n",
    "        Returns:\n",
    "          2D numpy array of predicted target values. Dimensions (n x 1)\n",
    "        '''\n",
    "        # Write your code here\n",
    "        return X @ self.weights\n",
    "\n",
    "def plot_learned_equation(X, y, y_hat):\n",
    "    '''\n",
    "    This function generates the plot to visualize how well the learned linear equation fits the dataset  \n",
    "\n",
    "    Args:\n",
    "      X : 2D numpy array of data points. Dimensions (n x 2)\n",
    "      y : 2D numpy array of target values. Dimensions (n x 1)\n",
    "      y_hat : 2D numpy array of predicted values. Dimensions (n x 1)\n",
    "\n",
    "    Returns:\n",
    "      None\n",
    "    '''\n",
    "    # Plot a 2d plot, with only  X[:,1] on x-axis (Think about why you can ignore X[:, 0])\n",
    "    # Use y_hat to plot the line. DO NOT use y.\n",
    "    plt.plot(X[:, 1], y_hat, label='Predicted line')\n",
    "    plt.scatter(X[:, 1], y, label='Data points', color='g')\n",
    "    plt.xlabel('X')\n",
    "    plt.ylabel('y')\n",
    "    plt.legend()\n",
    "    plt.title('Linear Regression with Closed Form Solution')\n",
    "    plt.show()\n",
    "\n",
    "############################################\n",
    "#####        Helper functions          #####\n",
    "############################################\n",
    "def generate_toy_dataset():\n",
    "    '''\n",
    "    This function generates a simple toy dataset containing 300 points with 1d feature \n",
    "    '''\n",
    "    X = np.random.rand(300, 2)\n",
    "    X[:, 0] = 1 # bias term\n",
    "    weights = np.random.rand(2,1)\n",
    "    noise = np.random.rand(300,1) / 32\n",
    "    y = np.matmul(X, weights) + noise\n",
    "\n",
    "    X_train = X[:250]\n",
    "    X_test = X[250:]\n",
    "    y_train = y[:250]\n",
    "    y_test = y[250:]\n",
    "    return X_train, y_train, X_test, y_test"
   ],
   "id": "9f5c36be392f5abe",
   "outputs": [],
   "execution_count": 13
  },
  {
   "metadata": {
    "ExecuteTime": {
     "end_time": "2024-09-05T09:01:27.496366Z",
     "start_time": "2024-09-05T09:01:21.433534Z"
    }
   },
   "cell_type": "code",
   "source": [
    "# closed form solution for polynomial input\n",
    "\n",
    "def rmse(y_true, y_pred):\n",
    "    return np.sqrt(np.mean((y_true - y_pred)**2))\n",
    "\n",
    "def rounded_rmse(y_true, y_pred):\n",
    "    return np.sqrt(np.mean((y_true - np.round(y_pred))**2))\n",
    "\n",
    "\n",
    "# Use tensorflow for mass experiments (for performance reasons)\n",
    "import tensorflow as tf\n",
    "import pandas as pd\n",
    "\n",
    "def gaussian_basis_controlled(mu_local, sigma_local):\n",
    "    return lambda x: np.exp(-0.5 * ((x - mu_local) / sigma_local)**2)\n",
    "\n",
    "def polynomial_basis_controlled(i):\n",
    "    # multiply ith column with others\n",
    "    return lambda x: x * x[:, i].reshape(-1, 1)\n",
    "\n",
    "all_basis = np.array([\n",
    "    ['gaussian', gaussian_basis],\n",
    "    ['polynomial63', polynomial_basis_controlled(0)],\n",
    "    ['cos', np.cos],\n",
    "    ['tanh', np.tanh],\n",
    "    ['exp', np.exp],\n",
    "    ['square_log', lambda x: np.log(x**2)],\n",
    "])\n",
    "\n",
    "results = np.array([])\n",
    "\n",
    "n_experiments = 2 ** all_basis.shape[0]\n",
    "\n",
    "print(f'Running {n_experiments} experiments')\n",
    "\n",
    "for i in range(n_experiments):\n",
    "    basis = all_basis[(i & (1 << np.arange(all_basis.shape[0])) > 0)]\n",
    "    X_train_poly = transform_input(X_train, basis)\n",
    "    X_val_poly = transform_input(X_val, basis)\n",
    "    \n",
    "    linear_reg_closed = LinearRegressionClosedForm()\n",
    "    linear_reg_closed.fit(X_train_poly, y_train)\n",
    "    \n",
    "    y_hat = linear_reg_closed.predict(X_train_poly)\n",
    "    y_hat_val = linear_reg_closed.predict(X_val_poly)\n",
    "    res = {\n",
    "        'basis': str(basis[:, 0]),\n",
    "        'rmse': rmse(y_train, y_hat),\n",
    "        'rounded_rmse': rounded_rmse(y_train, y_hat),\n",
    "        'rmse_val': rmse(y_val, y_hat_val),\n",
    "        'rounded_rmse_val': rounded_rmse(y_val, y_hat_val)\n",
    "    }\n",
    "    res = np.array([res['basis'], res['rmse'], res['rounded_rmse'], res['rmse_val'], res['rounded_rmse_val']])\n",
    "    results = np.append(results, res)\n",
    "    if (i + 1) % 100 == 0:\n",
    "        print(f'{i + 1}/{n_experiments} experiments completed')\n",
    "\n",
    "# Dataframe with columns: basis, rmse, rounded_rmse\n",
    "results = results.reshape(-1, 5)\n",
    "results_df = pd.DataFrame(results, columns=['basis', 'rmse', 'rounded_rmse', 'rmse_val', 'rounded_rmse_val'])\n",
    "results_df"
   ],
   "id": "2555b24688cfb833",
   "outputs": [
    {
     "name": "stdout",
     "output_type": "stream",
     "text": [
      "Running 64 experiments\n"
     ]
    },
    {
     "data": {
      "text/plain": [
       "                                                          basis  \\\n",
       "0                                                            []   \n",
       "1                                                  ['gaussian']   \n",
       "2                                              ['polynomial63']   \n",
       "3                                   ['gaussian' 'polynomial63']   \n",
       "4                                                       ['cos']   \n",
       "..                                                          ...   \n",
       "59        ['gaussian' 'polynomial63' 'tanh' 'exp' 'square_log']   \n",
       "60                            ['cos' 'tanh' 'exp' 'square_log']   \n",
       "61                 ['gaussian' 'cos' 'tanh' 'exp' 'square_log']   \n",
       "62             ['polynomial63' 'cos' 'tanh' 'exp' 'square_log']   \n",
       "63  ['gaussian' 'polynomial63' 'cos' 'tanh' 'exp' 'square_log']   \n",
       "\n",
       "                  rmse        rounded_rmse            rmse_val  \\\n",
       "0   3.2544359354572854  3.2704091843330922   3.252862153360806   \n",
       "1   0.9352804559710954  0.9803882090087077  0.9245545374936734   \n",
       "2   1.0061577890255733  1.0469010356279174  0.9993429556483658   \n",
       "3   0.9313511797030747  0.9762494426999705  0.9226076458898866   \n",
       "4   0.9354964608611963  0.9806311218732143  0.9263372936861013   \n",
       "..                 ...                 ...                 ...   \n",
       "59   0.926891543175306  0.9678203860532174  0.9247461017262694   \n",
       "60  0.9309206136375552  0.9733336784563281  0.9277064059301008   \n",
       "61   0.929402770745881  0.9718316698050914  0.9284710054287848   \n",
       "62  0.9271175631633184   0.968968161586135  0.9258189712390805   \n",
       "63  0.9256735478124992  0.9672131544615293  0.9269004978711967   \n",
       "\n",
       "      rounded_rmse_val  \n",
       "0   3.2718149080023387  \n",
       "1   0.9609405224180296  \n",
       "2   1.0380032274516573  \n",
       "3    0.959601231840475  \n",
       "4   0.9622779489837198  \n",
       "..                 ...  \n",
       "59  0.9606430636514482  \n",
       "60   0.962574902531595  \n",
       "61  0.9677568397811129  \n",
       "62  0.9619809037693623  \n",
       "63  0.9652433734215775  \n",
       "\n",
       "[64 rows x 5 columns]"
      ],
      "text/html": [
       "<div>\n",
       "<style scoped>\n",
       "    .dataframe tbody tr th:only-of-type {\n",
       "        vertical-align: middle;\n",
       "    }\n",
       "\n",
       "    .dataframe tbody tr th {\n",
       "        vertical-align: top;\n",
       "    }\n",
       "\n",
       "    .dataframe thead th {\n",
       "        text-align: right;\n",
       "    }\n",
       "</style>\n",
       "<table border=\"1\" class=\"dataframe\">\n",
       "  <thead>\n",
       "    <tr style=\"text-align: right;\">\n",
       "      <th></th>\n",
       "      <th>basis</th>\n",
       "      <th>rmse</th>\n",
       "      <th>rounded_rmse</th>\n",
       "      <th>rmse_val</th>\n",
       "      <th>rounded_rmse_val</th>\n",
       "    </tr>\n",
       "  </thead>\n",
       "  <tbody>\n",
       "    <tr>\n",
       "      <th>0</th>\n",
       "      <td>[]</td>\n",
       "      <td>3.2544359354572854</td>\n",
       "      <td>3.2704091843330922</td>\n",
       "      <td>3.252862153360806</td>\n",
       "      <td>3.2718149080023387</td>\n",
       "    </tr>\n",
       "    <tr>\n",
       "      <th>1</th>\n",
       "      <td>['gaussian']</td>\n",
       "      <td>0.9352804559710954</td>\n",
       "      <td>0.9803882090087077</td>\n",
       "      <td>0.9245545374936734</td>\n",
       "      <td>0.9609405224180296</td>\n",
       "    </tr>\n",
       "    <tr>\n",
       "      <th>2</th>\n",
       "      <td>['polynomial63']</td>\n",
       "      <td>1.0061577890255733</td>\n",
       "      <td>1.0469010356279174</td>\n",
       "      <td>0.9993429556483658</td>\n",
       "      <td>1.0380032274516573</td>\n",
       "    </tr>\n",
       "    <tr>\n",
       "      <th>3</th>\n",
       "      <td>['gaussian' 'polynomial63']</td>\n",
       "      <td>0.9313511797030747</td>\n",
       "      <td>0.9762494426999705</td>\n",
       "      <td>0.9226076458898866</td>\n",
       "      <td>0.959601231840475</td>\n",
       "    </tr>\n",
       "    <tr>\n",
       "      <th>4</th>\n",
       "      <td>['cos']</td>\n",
       "      <td>0.9354964608611963</td>\n",
       "      <td>0.9806311218732143</td>\n",
       "      <td>0.9263372936861013</td>\n",
       "      <td>0.9622779489837198</td>\n",
       "    </tr>\n",
       "    <tr>\n",
       "      <th>...</th>\n",
       "      <td>...</td>\n",
       "      <td>...</td>\n",
       "      <td>...</td>\n",
       "      <td>...</td>\n",
       "      <td>...</td>\n",
       "    </tr>\n",
       "    <tr>\n",
       "      <th>59</th>\n",
       "      <td>['gaussian' 'polynomial63' 'tanh' 'exp' 'square_log']</td>\n",
       "      <td>0.926891543175306</td>\n",
       "      <td>0.9678203860532174</td>\n",
       "      <td>0.9247461017262694</td>\n",
       "      <td>0.9606430636514482</td>\n",
       "    </tr>\n",
       "    <tr>\n",
       "      <th>60</th>\n",
       "      <td>['cos' 'tanh' 'exp' 'square_log']</td>\n",
       "      <td>0.9309206136375552</td>\n",
       "      <td>0.9733336784563281</td>\n",
       "      <td>0.9277064059301008</td>\n",
       "      <td>0.962574902531595</td>\n",
       "    </tr>\n",
       "    <tr>\n",
       "      <th>61</th>\n",
       "      <td>['gaussian' 'cos' 'tanh' 'exp' 'square_log']</td>\n",
       "      <td>0.929402770745881</td>\n",
       "      <td>0.9718316698050914</td>\n",
       "      <td>0.9284710054287848</td>\n",
       "      <td>0.9677568397811129</td>\n",
       "    </tr>\n",
       "    <tr>\n",
       "      <th>62</th>\n",
       "      <td>['polynomial63' 'cos' 'tanh' 'exp' 'square_log']</td>\n",
       "      <td>0.9271175631633184</td>\n",
       "      <td>0.968968161586135</td>\n",
       "      <td>0.9258189712390805</td>\n",
       "      <td>0.9619809037693623</td>\n",
       "    </tr>\n",
       "    <tr>\n",
       "      <th>63</th>\n",
       "      <td>['gaussian' 'polynomial63' 'cos' 'tanh' 'exp' 'square_log']</td>\n",
       "      <td>0.9256735478124992</td>\n",
       "      <td>0.9672131544615293</td>\n",
       "      <td>0.9269004978711967</td>\n",
       "      <td>0.9652433734215775</td>\n",
       "    </tr>\n",
       "  </tbody>\n",
       "</table>\n",
       "<p>64 rows × 5 columns</p>\n",
       "</div>"
      ]
     },
     "execution_count": 64,
     "metadata": {},
     "output_type": "execute_result"
    }
   ],
   "execution_count": 64
  },
  {
   "metadata": {
    "ExecuteTime": {
     "end_time": "2024-09-05T08:27:40.539878Z",
     "start_time": "2024-09-05T08:27:40.531339Z"
    }
   },
   "cell_type": "code",
   "source": [
    "# Dataframe with columns: basis, rmse, rounded_rmse\n",
    "results = results.reshape(-1, 5)\n",
    "results_df = pd.DataFrame(results, columns=['basis', 'rmse', 'rounded_rmse', 'rmse_val', 'rounded_rmse_val'])\n",
    "results_df"
   ],
   "id": "184b409205b0ef2d",
   "outputs": [
    {
     "data": {
      "text/plain": [
       "                                                       basis  \\\n",
       "0                                                         []   \n",
       "1                                                ['sigmoid']   \n",
       "2                                               ['gaussian']   \n",
       "3                                     ['sigmoid' 'gaussian']   \n",
       "4                                                   ['relu']   \n",
       "...                                                      ...   \n",
       "1926            ['gaussian' 'relu' 'cos' 'log' 'exp' 'root']   \n",
       "1927  ['sigmoid' 'gaussian' 'relu' 'cos' 'log' 'exp' 'root']   \n",
       "1928                  ['normalize' 'cos' 'log' 'exp' 'root']   \n",
       "1929        ['sigmoid' 'normalize' 'cos' 'log' 'exp' 'root']   \n",
       "1930       ['gaussian' 'normalize' 'cos' 'log' 'exp' 'root']   \n",
       "\n",
       "                    rmse        rounded_rmse            rmse_val  \\\n",
       "0     3.2544359354572854  3.2704091843330922   3.252862153360806   \n",
       "1     0.9383940466498342  0.9811653184845853  0.9304012704452204   \n",
       "2     0.9352804559710954  0.9803882090087077  0.9245545374936734   \n",
       "3     0.9334952965751754  0.9778258613683981  0.9237710929558611   \n",
       "4     0.9861633116477831   1.028292331301196  0.9877594682097757   \n",
       "...                  ...                 ...                 ...   \n",
       "1926                 nan                 nan                 nan   \n",
       "1927                 nan                 nan                 nan   \n",
       "1928                 nan                 nan                 nan   \n",
       "1929                 nan                 nan                 nan   \n",
       "1930                 nan                 nan                 nan   \n",
       "\n",
       "        rounded_rmse_val  \n",
       "0     3.2718149080023387  \n",
       "1     0.9740854820990428  \n",
       "2     0.9609405224180296  \n",
       "3     0.9597501341971538  \n",
       "4       1.02873824275484  \n",
       "...                  ...  \n",
       "1926                 nan  \n",
       "1927                 nan  \n",
       "1928                 nan  \n",
       "1929                 nan  \n",
       "1930                 nan  \n",
       "\n",
       "[1931 rows x 5 columns]"
      ],
      "text/html": [
       "<div>\n",
       "<style scoped>\n",
       "    .dataframe tbody tr th:only-of-type {\n",
       "        vertical-align: middle;\n",
       "    }\n",
       "\n",
       "    .dataframe tbody tr th {\n",
       "        vertical-align: top;\n",
       "    }\n",
       "\n",
       "    .dataframe thead th {\n",
       "        text-align: right;\n",
       "    }\n",
       "</style>\n",
       "<table border=\"1\" class=\"dataframe\">\n",
       "  <thead>\n",
       "    <tr style=\"text-align: right;\">\n",
       "      <th></th>\n",
       "      <th>basis</th>\n",
       "      <th>rmse</th>\n",
       "      <th>rounded_rmse</th>\n",
       "      <th>rmse_val</th>\n",
       "      <th>rounded_rmse_val</th>\n",
       "    </tr>\n",
       "  </thead>\n",
       "  <tbody>\n",
       "    <tr>\n",
       "      <th>0</th>\n",
       "      <td>[]</td>\n",
       "      <td>3.2544359354572854</td>\n",
       "      <td>3.2704091843330922</td>\n",
       "      <td>3.252862153360806</td>\n",
       "      <td>3.2718149080023387</td>\n",
       "    </tr>\n",
       "    <tr>\n",
       "      <th>1</th>\n",
       "      <td>['sigmoid']</td>\n",
       "      <td>0.9383940466498342</td>\n",
       "      <td>0.9811653184845853</td>\n",
       "      <td>0.9304012704452204</td>\n",
       "      <td>0.9740854820990428</td>\n",
       "    </tr>\n",
       "    <tr>\n",
       "      <th>2</th>\n",
       "      <td>['gaussian']</td>\n",
       "      <td>0.9352804559710954</td>\n",
       "      <td>0.9803882090087077</td>\n",
       "      <td>0.9245545374936734</td>\n",
       "      <td>0.9609405224180296</td>\n",
       "    </tr>\n",
       "    <tr>\n",
       "      <th>3</th>\n",
       "      <td>['sigmoid' 'gaussian']</td>\n",
       "      <td>0.9334952965751754</td>\n",
       "      <td>0.9778258613683981</td>\n",
       "      <td>0.9237710929558611</td>\n",
       "      <td>0.9597501341971538</td>\n",
       "    </tr>\n",
       "    <tr>\n",
       "      <th>4</th>\n",
       "      <td>['relu']</td>\n",
       "      <td>0.9861633116477831</td>\n",
       "      <td>1.028292331301196</td>\n",
       "      <td>0.9877594682097757</td>\n",
       "      <td>1.02873824275484</td>\n",
       "    </tr>\n",
       "    <tr>\n",
       "      <th>...</th>\n",
       "      <td>...</td>\n",
       "      <td>...</td>\n",
       "      <td>...</td>\n",
       "      <td>...</td>\n",
       "      <td>...</td>\n",
       "    </tr>\n",
       "    <tr>\n",
       "      <th>1926</th>\n",
       "      <td>['gaussian' 'relu' 'cos' 'log' 'exp' 'root']</td>\n",
       "      <td>nan</td>\n",
       "      <td>nan</td>\n",
       "      <td>nan</td>\n",
       "      <td>nan</td>\n",
       "    </tr>\n",
       "    <tr>\n",
       "      <th>1927</th>\n",
       "      <td>['sigmoid' 'gaussian' 'relu' 'cos' 'log' 'exp' 'root']</td>\n",
       "      <td>nan</td>\n",
       "      <td>nan</td>\n",
       "      <td>nan</td>\n",
       "      <td>nan</td>\n",
       "    </tr>\n",
       "    <tr>\n",
       "      <th>1928</th>\n",
       "      <td>['normalize' 'cos' 'log' 'exp' 'root']</td>\n",
       "      <td>nan</td>\n",
       "      <td>nan</td>\n",
       "      <td>nan</td>\n",
       "      <td>nan</td>\n",
       "    </tr>\n",
       "    <tr>\n",
       "      <th>1929</th>\n",
       "      <td>['sigmoid' 'normalize' 'cos' 'log' 'exp' 'root']</td>\n",
       "      <td>nan</td>\n",
       "      <td>nan</td>\n",
       "      <td>nan</td>\n",
       "      <td>nan</td>\n",
       "    </tr>\n",
       "    <tr>\n",
       "      <th>1930</th>\n",
       "      <td>['gaussian' 'normalize' 'cos' 'log' 'exp' 'root']</td>\n",
       "      <td>nan</td>\n",
       "      <td>nan</td>\n",
       "      <td>nan</td>\n",
       "      <td>nan</td>\n",
       "    </tr>\n",
       "  </tbody>\n",
       "</table>\n",
       "<p>1931 rows × 5 columns</p>\n",
       "</div>"
      ]
     },
     "execution_count": 16,
     "metadata": {},
     "output_type": "execute_result"
    }
   ],
   "execution_count": 16
  },
  {
   "metadata": {
    "ExecuteTime": {
     "end_time": "2024-09-05T09:12:39.076482Z",
     "start_time": "2024-09-05T09:12:38.960436Z"
    }
   },
   "cell_type": "code",
   "source": [
    "# Get output for final test data\n",
    "basis = np.array([\n",
    "    ['gaussian', gaussian_basis], \n",
    "    ['cos', np.cos],\n",
    "    ['exp', np.exp],\n",
    "])\n",
    "\n",
    "mu = np.mean(X_train)\n",
    "sigma = np.std(X_train)\n",
    "\n",
    "X_train_poly = transform_input(X_train, basis)\n",
    "\n",
    "X_final_test = np.array(test.drop('ID', axis=1))\n",
    "\n",
    "mu = np.mean(X_final_test)\n",
    "sigma = np.std(X_final_test)\n",
    "\n",
    "X_final_test_poly = transform_input(X_final_test, basis)\n",
    "\n",
    "linear_reg_closed = LinearRegressionClosedForm()\n",
    "linear_reg_closed.fit(X_train_poly, y_train)\n",
    "\n",
    "y_final_test = linear_reg_closed.predict(X_final_test_poly)\n",
    "y_final_test = np.round(y_final_test)\n",
    "\n",
    "output = pd.DataFrame({'ID': test['ID'], 'score': y_final_test.flatten()})\n",
    "\n",
    "output['score'] = output['score'].clip(0, 5)\n",
    "\n",
    "# count score < 0\n",
    "below0 = output[output['score'] < 0].shape[0]\n",
    "\n",
    "# count score > 5\n",
    "above5 = output[output['score'] > 5].shape[0]\n",
    "\n",
    "print(output.shape[0], below0, above5)\n",
    "\n",
    "output.to_csv('output_sept5_5.csv', index=False)"
   ],
   "id": "fc765f2a6b4b856d",
   "outputs": [
    {
     "name": "stdout",
     "output_type": "stream",
     "text": [
      "14996 0 0\n"
     ]
    }
   ],
   "execution_count": 76
  },
  {
   "metadata": {
    "ExecuteTime": {
     "end_time": "2024-09-05T09:13:20.373078Z",
     "start_time": "2024-09-05T09:13:20.370327Z"
    }
   },
   "cell_type": "code",
   "source": "277 / y_final_test.shape[0]",
   "id": "9f67807df7d509e",
   "outputs": [
    {
     "data": {
      "text/plain": [
       "0.018471592424646573"
      ]
     },
     "execution_count": 80,
     "metadata": {},
     "output_type": "execute_result"
    }
   ],
   "execution_count": 80
  },
  {
   "metadata": {
    "ExecuteTime": {
     "end_time": "2024-09-05T09:12:50.152041Z",
     "start_time": "2024-09-05T09:12:50.144264Z"
    }
   },
   "cell_type": "code",
   "source": [
    "# compare with previous output\n",
    "\n",
    "output1 = pd.read_csv('output_sept5_4.csv')\n",
    "output2 = pd.read_csv('output_sept5_5.csv')\n",
    "\n",
    "diff = output1['score'] - output2['score']\n",
    "diff[diff != 0].shape[0]"
   ],
   "id": "fdb61faaa64b9513",
   "outputs": [
    {
     "data": {
      "text/plain": [
       "277"
      ]
     },
     "execution_count": 77,
     "metadata": {},
     "output_type": "execute_result"
    }
   ],
   "execution_count": 77
  },
  {
   "metadata": {
    "ExecuteTime": {
     "end_time": "2024-09-05T09:10:44.610650Z",
     "start_time": "2024-09-05T09:10:42.715738Z"
    }
   },
   "cell_type": "code",
   "source": [
    "# visualise input\n",
    "import matplotlib.pyplot as plt\n",
    "\n",
    "X_df = pd.DataFrame(X_train)\n",
    "# show summary\n",
    "X_df.describe()\n",
    "\n",
    "# see how skewed the dataset is\n",
    "X_df.hist()"
   ],
   "id": "51a6f59dbe27e640",
   "outputs": [
    {
     "data": {
      "text/plain": [
       "array([[<Axes: title={'center': '0'}>, <Axes: title={'center': '1'}>,\n",
       "        <Axes: title={'center': '2'}>, <Axes: title={'center': '3'}>,\n",
       "        <Axes: title={'center': '4'}>, <Axes: title={'center': '5'}>,\n",
       "        <Axes: title={'center': '6'}>, <Axes: title={'center': '7'}>],\n",
       "       [<Axes: title={'center': '8'}>, <Axes: title={'center': '9'}>,\n",
       "        <Axes: title={'center': '10'}>, <Axes: title={'center': '11'}>,\n",
       "        <Axes: title={'center': '12'}>, <Axes: title={'center': '13'}>,\n",
       "        <Axes: title={'center': '14'}>, <Axes: title={'center': '15'}>],\n",
       "       [<Axes: title={'center': '16'}>, <Axes: title={'center': '17'}>,\n",
       "        <Axes: title={'center': '18'}>, <Axes: title={'center': '19'}>,\n",
       "        <Axes: title={'center': '20'}>, <Axes: title={'center': '21'}>,\n",
       "        <Axes: title={'center': '22'}>, <Axes: title={'center': '23'}>],\n",
       "       [<Axes: title={'center': '24'}>, <Axes: title={'center': '25'}>,\n",
       "        <Axes: title={'center': '26'}>, <Axes: title={'center': '27'}>,\n",
       "        <Axes: title={'center': '28'}>, <Axes: title={'center': '29'}>,\n",
       "        <Axes: title={'center': '30'}>, <Axes: title={'center': '31'}>],\n",
       "       [<Axes: title={'center': '32'}>, <Axes: title={'center': '33'}>,\n",
       "        <Axes: title={'center': '34'}>, <Axes: title={'center': '35'}>,\n",
       "        <Axes: title={'center': '36'}>, <Axes: title={'center': '37'}>,\n",
       "        <Axes: title={'center': '38'}>, <Axes: title={'center': '39'}>],\n",
       "       [<Axes: title={'center': '40'}>, <Axes: title={'center': '41'}>,\n",
       "        <Axes: title={'center': '42'}>, <Axes: title={'center': '43'}>,\n",
       "        <Axes: title={'center': '44'}>, <Axes: title={'center': '45'}>,\n",
       "        <Axes: title={'center': '46'}>, <Axes: title={'center': '47'}>],\n",
       "       [<Axes: title={'center': '48'}>, <Axes: title={'center': '49'}>,\n",
       "        <Axes: title={'center': '50'}>, <Axes: title={'center': '51'}>,\n",
       "        <Axes: title={'center': '52'}>, <Axes: title={'center': '53'}>,\n",
       "        <Axes: title={'center': '54'}>, <Axes: title={'center': '55'}>],\n",
       "       [<Axes: title={'center': '56'}>, <Axes: title={'center': '57'}>,\n",
       "        <Axes: title={'center': '58'}>, <Axes: title={'center': '59'}>,\n",
       "        <Axes: title={'center': '60'}>, <Axes: title={'center': '61'}>,\n",
       "        <Axes: title={'center': '62'}>, <Axes: title={'center': '63'}>]],\n",
       "      dtype=object)"
      ]
     },
     "execution_count": 73,
     "metadata": {},
     "output_type": "execute_result"
    },
    {
     "data": {
      "text/plain": [
       "<Figure size 640x480 with 64 Axes>"
      ],
      "image/png": "[encoded data removed]"
     },
     "metadata": {},
     "output_type": "display_data"
    }
   ],
   "execution_count": 73
  }
 ],
 "metadata": {
  "kernelspec": {
   "display_name": "Python 3",
   "language": "python",
   "name": "python3"
  },
  "language_info": {
   "codemirror_mode": {
    "name": "ipython",
    "version": 2
   },
   "file_extension": ".py",
   "mimetype": "text/x-python",
   "name": "python",
   "nbconvert_exporter": "python",
   "pygments_lexer": "ipython2",
   "version": "2.7.6"
  }
 },
 "nbformat": 4,
 "nbformat_minor": 5
}
