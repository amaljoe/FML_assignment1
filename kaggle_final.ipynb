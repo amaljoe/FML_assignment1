{
 "cells": [
  {
   "cell_type": "code",
   "id": "initial_id",
   "metadata": {
    "collapsed": true,
    "ExecuteTime": {
     "end_time": "2024-09-04T05:16:43.590548Z",
     "start_time": "2024-09-04T05:16:43.577103Z"
    }
   },
   "source": [
    "import numpy as np\n",
    "import matplotlib.pyplot as plt\n",
    "import pandas as pd\n",
    "from numpy.f2py.crackfortran import verbose\n",
    "\n",
    "np.random.seed(2024)\n",
    "\n",
    "class LinearRegressionBatchGD:\n",
    "    def __init__(self, learning_rate=0.0001, max_epochs=10, batch_size=32):\n",
    "        '''\n",
    "        Initializing the parameters of the model\n",
    "    \n",
    "        Args:\n",
    "          learning_rate : learning rate for batch gradient descent\n",
    "          max_epochs : maximum number of epochs that the batch gradient descent algorithm will run for\n",
    "          batch-size : size of the batches used for batch gradient descent.\n",
    "    \n",
    "        Returns:\n",
    "          None\n",
    "        '''\n",
    "        self.learning_rate = learning_rate\n",
    "        self.max_epochs = max_epochs\n",
    "        self.batch_size = batch_size\n",
    "        self.weights = None\n",
    "\n",
    "    def fit(self, X, y, plot=True):\n",
    "        '''\n",
    "        This function is used to train the model using batch gradient descent.\n",
    "    \n",
    "        Args:\n",
    "          X : 2D numpy array of training set data points. Dimensions (n x (d+1))\n",
    "          y : 2D numpy array of target values in the training dataset. Dimensions (n x 1)\n",
    "    \n",
    "        Returns :\n",
    "          None\n",
    "        '''\n",
    "        if self.batch_size is None:\n",
    "            self.batch_size = X.shape[0]\n",
    "\n",
    "        # Initialize the weights\n",
    "        if self.weights is None:\n",
    "            self.weights = np.zeros((X.shape[1],1))\n",
    "\n",
    "        prev_weights = self.weights\n",
    "\n",
    "        self.error_list = []  #stores the loss for every epoch\n",
    "        for epoch in range(self.max_epochs):\n",
    "\n",
    "            batches = create_batches(X, y, self.batch_size)\n",
    "            for batch in batches:\n",
    "                X_batch, y_batch = batch  #X_batch and y_batch are data points and target values for a given batch\n",
    "\n",
    "                # Complete the inner \"for\" loop to calculate the gradient of loss w.r.t weights, i.e. dw and update the weights\n",
    "                # You should use \"compute_gradient()\"  function to calculate gradient.\n",
    "                f = X_batch @ self.weights\n",
    "                dw = self.compute_gradient(X_batch, y_batch, self.weights)\n",
    "                self.weights = self.weights - self.learning_rate * dw\n",
    "\n",
    "\n",
    "            # After the inner \"for\" loop ends, calculate loss on the entire data using \"compute_rmse_loss()\" function and add the loss of each epoch to the \"error list\"\n",
    "            loss = self.compute_rmse_loss(X, y, self.weights)\n",
    "            self.error_list.append(loss)\n",
    "\n",
    "            if np.linalg.norm(self.weights - prev_weights) < 1e-5:\n",
    "                print(f\" Stopping at epoch {epoch}.\")\n",
    "                break\n",
    "\n",
    "        if plot:\n",
    "            plot_loss(self.error_list, self.max_epochs)\n",
    "\n",
    "    def predict(self, X):\n",
    "        '''\n",
    "        This function is used to predict the target values for the given set of feature values\n",
    "    \n",
    "        Args:\n",
    "          X: 2D numpy array of data points. Dimensions (n x (d+1))\n",
    "    \n",
    "        Returns:\n",
    "          2D numpy array of predicted target values. Dimensions (n x 1)\n",
    "        '''\n",
    "        return X @ self.weights\n",
    "\n",
    "    def compute_rmse_loss(self, X, y, weights):\n",
    "        '''\n",
    "        This function computes the Root Mean Square Error (RMSE)\n",
    "    \n",
    "        Args:\n",
    "          X : 2D numpy array of data points. Dimensions (n x (d+1))\n",
    "          y : 2D numpy array of target values. Dimensions (n x 1)\n",
    "          weights : 2D numpy array of weights of the model. Dimensions ((d+1) x 1)\n",
    "    \n",
    "        Returns:\n",
    "          loss : 2D numpy array of RMSE loss. float\n",
    "        '''\n",
    "        return np.sqrt(np.mean((y - X @ weights)**2))\n",
    "    \n",
    "    def compute_rounded_rmse_loss(self, X, y, weights):\n",
    "        '''\n",
    "        This function computes the Root Mean Square Error (RMSE)\n",
    "    \n",
    "        Args:\n",
    "          X : 2D numpy array of data points. Dimensions (n x (d+1))\n",
    "          y : 2D numpy array of target values. Dimensions (n x 1)\n",
    "          weights : 2D numpy array of weights of the model. Dimensions ((d+1) x 1)\n",
    "    \n",
    "        Returns:\n",
    "          loss : 2D numpy array of RMSE loss. float\n",
    "        '''\n",
    "        return np.sqrt(np.mean((y - (X @ weights).round())**2))\n",
    "\n",
    "    def compute_gradient(self, X, y, weights):\n",
    "        '''\n",
    "        This function computes the gradient of mean squared-error loss w.r.t the weights\n",
    "    \n",
    "        Args:\n",
    "          X : 2D numpy array of data points. Dimensions (n x (d+1))\n",
    "          y : 2D numpy array of target values. Dimensions (n x 1)\n",
    "          weights : 2D numpy array of weights of the model. Dimensions ((d+1) x 1)\n",
    "    \n",
    "        Returns:\n",
    "          dw : 2D numpy array of gradients w.r.t weights. Dimensions ((d+1) x 1)\n",
    "        '''\n",
    "        return -2 * X.T @ (y - X @ weights) / X.shape[0]\n",
    "\n",
    "def plot_loss(error_list, total_epochs):\n",
    "    '''\n",
    "    This function plots the loss for each epoch.\n",
    "  \n",
    "    Args:\n",
    "      error_list : list of validation loss for each epoch\n",
    "      total_epochs : Total number of epochs\n",
    "    Returns:\n",
    "      None\n",
    "    '''\n",
    "    # Complete this function to plot the graph of losses stored in model's \"error_list\"\n",
    "    plt.plot(np.arange(total_epochs), error_list)\n",
    "    plt.xlabel('Epochs')\n",
    "    plt.ylabel('Loss')\n",
    "    plt.title('Loss vs Epochs')\n",
    "    plt.show()\n",
    "\n",
    "def plot_learned_equation(X, y, y_hat):\n",
    "    '''\n",
    "    This function generates the plot to visualize how well the learned linear equation fits the dataset  \n",
    "\n",
    "    Args:\n",
    "      X : 2D numpy array of data points. Dimensions (n x 2)\n",
    "      y : 2D numpy array of target values. Dimensions (n x 1)\n",
    "      y_hat : 2D numpy array of predicted values. Dimensions (n x 1)\n",
    "\n",
    "    Returns:\n",
    "      None\n",
    "    '''\n",
    "    # Plot a 2d plot, with only  X[:,1] on x-axis (Think on why you can ignore X[:, 0])\n",
    "    # Use y_hat to plot the line. DO NOT use y.\n",
    "    plt.plot(X[:, 1], y_hat, label='Predicted line')\n",
    "    plt.scatter(X[:, 1], y, label='Data points', color='g')\n",
    "    plt.xlabel('X')\n",
    "    plt.ylabel('y')\n",
    "    plt.legend()\n",
    "    plt.title('Linear Regression with Batch Gradient Descent')\n",
    "    plt.show()\n",
    "\n",
    "############################################\n",
    "#####        Helper functions          #####\n",
    "############################################\n",
    "def generate_toy_dataset():\n",
    "    '''\n",
    "    This function generates a simple toy dataset containing 300 points with 1d feature \n",
    "    '''\n",
    "    X = np.random.rand(300, 2)\n",
    "    X[:, 0] = 1 # bias term\n",
    "    weights = np.random.rand(2,1)\n",
    "    noise = np.random.rand(300,1) / 32\n",
    "    y = np.matmul(X, weights) + noise\n",
    "\n",
    "    X_train = X[:250]\n",
    "    X_test = X[250:]\n",
    "    y_train = y[:250]\n",
    "    y_test = y[250:]\n",
    "\n",
    "    return X_train, y_train, X_test, y_test\n",
    "\n",
    "def create_batches(X, y, batch_size):\n",
    "    '''\n",
    "    This function is used to create the batches of randomly selected data points.\n",
    "  \n",
    "    Args:\n",
    "      X : 2D numpy array of data points. Dimensions (n x (d+1))\n",
    "      y : 2D numpy array of target values. Dimensions (n x 1)\n",
    "  \n",
    "    Returns:\n",
    "      batches : list of tuples with each tuple of size batch size.\n",
    "    '''\n",
    "    batches = []\n",
    "    data = np.hstack((X, y))\n",
    "    np.random.shuffle(data)\n",
    "    num_batches = data.shape[0]//batch_size\n",
    "    i = 0\n",
    "    for i in range(num_batches+1):\n",
    "        if i<num_batches:\n",
    "            batch = data[i * batch_size:(i + 1)*batch_size, :]\n",
    "            X_batch = batch[:, :-1]\n",
    "            Y_batch = batch[:, -1].reshape((-1, 1))\n",
    "            batches.append((X_batch, Y_batch))\n",
    "        if data.shape[0] % batch_size != 0 and i==num_batches:\n",
    "            batch = data[i * batch_size:data.shape[0]]\n",
    "            X_batch = batch[:, :-1]\n",
    "            Y_batch = batch[:, -1].reshape((-1, 1))\n",
    "            batches.append((X_batch, Y_batch))\n",
    "    return batches\n",
    "\n",
    "\n",
    "# Terminal text coloring\n",
    "RESET = '\\033[0m'\n",
    "GREEN = '\\033[32m'\n",
    "RED = '\\033[31m'"
   ],
   "outputs": [],
   "execution_count": 4
  },
  {
   "metadata": {
    "ExecuteTime": {
     "end_time": "2024-09-04T05:15:06.424506Z",
     "start_time": "2024-09-04T05:15:06.118472Z"
    }
   },
   "cell_type": "code",
   "source": [
    "# Create datasets\n",
    "\n",
    "train = pd.read_csv('train.csv')\n",
    "test = pd.read_csv('test.csv')\n",
    "\n",
    "def create_datasets(data):\n",
    "    X = data.drop(['score', 'ID'], axis=1)\n",
    "    y = data['score']\n",
    "    X = np.array(X)\n",
    "    y = np.array(y).reshape(-1, 1)\n",
    "    return X, y\n",
    "\n",
    "# Shuffle the data\n",
    "train = train.sample(frac=1).reset_index(drop=True)\n",
    "\n",
    "n_train = int(0.9 * train.shape[0])\n",
    "X_train, y_train = create_datasets(train[:n_train])\n",
    "X_val, y_val = create_datasets(train[n_train:])\n",
    "\n",
    "X_train.shape, X_val.shape, y_train.shape, y_val.shape"
   ],
   "id": "cb5e3780002b228",
   "outputs": [
    {
     "data": {
      "text/plain": [
       "((31489, 64), (3499, 64), (31489, 1), (3499, 1))"
      ]
     },
     "execution_count": 3,
     "metadata": {},
     "output_type": "execute_result"
    }
   ],
   "execution_count": 3
  },
  {
   "metadata": {
    "ExecuteTime": {
     "end_time": "2024-09-04T06:05:15.289585Z",
     "start_time": "2024-09-04T06:05:15.264179Z"
    }
   },
   "cell_type": "code",
   "source": [
    "# Feature engineering\n",
    "\n",
    "# Mean and variance\n",
    "mu = np.mean(X_train)\n",
    "sigma = np.std(X_train)\n",
    "\n",
    "def sigmoid(x):\n",
    "    return 1 / (1 + np.exp(-x))\n",
    "\n",
    "def gaussian_basis(x):\n",
    "    return np.exp(-0.5 * ((x - mu) / sigma)**2)\n",
    "\n",
    "def normalize(X):\n",
    "    return (X - mu) / sigma\n",
    "\n",
    "def relu(x):\n",
    "    return np.maximum(0, x)\n",
    "\n",
    "basis = np.array([\n",
    "    # ['sigmoid', sigmoid], \n",
    "    ['gaussian', gaussian_basis], \n",
    "    # ['relu', relu], \n",
    "    # ['normalize', normalize], \n",
    "    # ['polynomial', lambda x: x**2], \n",
    "    # ['sin', np.sin], \n",
    "    # ['cos', np.cos], \n",
    "    # ['tan', np.tan]\n",
    "    # ['identity', lambda x: x], \n",
    "])\n",
    "\n",
    "# Add polynomial features\n",
    "def transform_input(X, basis):\n",
    "    X_poly = X\n",
    "    for i in range(basis.shape[0]):\n",
    "        X_poly = np.hstack((X_poly, basis[i, 1](X)))\n",
    "    return X_poly\n",
    "\n",
    "\n",
    "X_train_poly = transform_input(X_train, basis)\n",
    "X_val_poly = transform_input(X_val, basis)\n",
    "print(X_train_poly.shape, X_val_poly.shape)\n",
    "\n",
    "X_train_poly"
   ],
   "id": "9db665207aef7100",
   "outputs": [
    {
     "name": "stdout",
     "output_type": "stream",
     "text": [
      "(31489, 128) (3499, 128)\n"
     ]
    },
    {
     "data": {
      "text/plain": [
       "array([[ 1.16622864, -2.45068992,  0.26548102, ...,  0.91965058,\n",
       "         0.9818237 ,  0.9966641 ],\n",
       "       [ 3.8074223 , -0.44978807, -0.0121988 , ...,  0.99971675,\n",
       "         0.99903392,  0.99380538],\n",
       "       [-2.50461228, -0.31496572, -0.47211275, ...,  0.99999218,\n",
       "         0.99952437,  0.99995337],\n",
       "       ...,\n",
       "       [-4.98934487,  2.00260126,  1.19476171, ...,  0.9955114 ,\n",
       "         0.93273194,  0.97773577],\n",
       "       [ 4.04810353, 11.88665404,  4.55790146, ...,  0.995994  ,\n",
       "         0.90427797,  0.98650464],\n",
       "       [ 0.25820368, -0.6160641 , -0.20673221, ...,  0.98705145,\n",
       "         0.99228809,  0.99528427]])"
      ]
     },
     "execution_count": 92,
     "metadata": {},
     "output_type": "execute_result"
    }
   ],
   "execution_count": 92
  },
  {
   "metadata": {
    "ExecuteTime": {
     "end_time": "2024-09-04T06:05:55.827216Z",
     "start_time": "2024-09-04T06:05:55.825445Z"
    }
   },
   "cell_type": "code",
   "source": [
    "# Train the model\n",
    "model = LinearRegressionBatchGD(learning_rate=0.001, max_epochs=100, batch_size=32)"
   ],
   "id": "36446f7007d0bc4b",
   "outputs": [],
   "execution_count": 98
  },
  {
   "metadata": {
    "ExecuteTime": {
     "end_time": "2024-09-04T06:07:07.615740Z",
     "start_time": "2024-09-04T06:07:02.039491Z"
    }
   },
   "cell_type": "code",
   "source": [
    "model.learning_rate = 0.0001\n",
    "model.batch_size = 128\n",
    "model.fit(X_train_poly, y_train)\n",
    "model.compute_rounded_rmse_loss(X_val_poly, y_val, model.weights)"
   ],
   "id": "8661f18df4e99812",
   "outputs": [
    {
     "data": {
      "text/plain": [
       "<Figure size 640x480 with 1 Axes>"
      ],
      "image/png": "[encoded data removed]"
     },
     "metadata": {},
     "output_type": "display_data"
    },
    {
     "data": {
      "text/plain": [
       "0.9600478696267442"
      ]
     },
     "execution_count": 103,
     "metadata": {},
     "output_type": "execute_result"
    }
   ],
   "execution_count": 103
  },
  {
   "metadata": {
    "ExecuteTime": {
     "end_time": "2024-09-04T06:11:00.932860Z",
     "start_time": "2024-09-04T06:10:06.496407Z"
    }
   },
   "cell_type": "code",
   "source": [
    "# Use tensorflow for mass experiments (for performance reasons)\n",
    "import tensorflow as tf\n",
    "import pandas as pd\n",
    "\n",
    "all_basis = np.array([\n",
    "    # ['sigmoid', sigmoid],\n",
    "    ['gaussian', gaussian_basis],\n",
    "    # ['relu', relu],\n",
    "    # ['normalize', normalize],\n",
    "    # ['sin', np.sin],\n",
    "    # ['tan', np.tan],\n",
    "    ['polynomial', lambda x: x**2],\n",
    "    # ['cos', np.cos],\n",
    "])\n",
    "\n",
    "def rounded_rmse(y_true, y_pred):\n",
    "    return tf.sqrt(tf.reduce_mean(tf.square(y_true - tf.round(y_pred))))\n",
    "\n",
    "results = np.array([])\n",
    "\n",
    "n_experiments = 2**all_basis.shape[0]\n",
    "\n",
    "for i in range(n_experiments):\n",
    "    basis = all_basis[(i & (1 << np.arange(all_basis.shape[0])) > 0)]\n",
    "    X_train_poly = transform_input(X_train, basis)\n",
    "    X_val_poly = transform_input(X_val, basis)\n",
    "\n",
    "    model = tf.keras.models.Sequential([\n",
    "        tf.keras.Input(shape=(X_train_poly.shape[1],)),\n",
    "        tf.keras.layers.Dense(1)\n",
    "    ])\n",
    "\n",
    "    opt = tf.keras.optimizers.Adam(learning_rate=0.0001)\n",
    "    model.compile(optimizer=opt, loss='mean_squared_error', metrics=['root_mean_squared_error', rounded_rmse])\n",
    "    history = model.fit(X_train_poly, y_train, validation_data=(X_val_poly, y_val), epochs=100, batch_size=64, verbose=0)\n",
    "    res = {'basis': str(basis[:, 0]), 'rmse': history.history['root_mean_squared_error'][-1], 'rounded_rmse': history.history['rounded_rmse'][-1], 'rmse_val': history.history['val_root_mean_squared_error'][-1], 'rounded_rmse_val': history.history['val_rounded_rmse'][-1]}\n",
    "    print(f'{i + 1}/{n_experiments}: {res[\"rmse\"]}, {res[\"rounded_rmse\"]}, {res[\"rmse_val\"]}, {res[\"rounded_rmse_val\"]}')\n",
    "    res = np.array([res['basis'], res['rmse'], res['rounded_rmse'], res['rmse_val'], res['rounded_rmse_val']])\n",
    "    results = np.append(results, res)\n",
    "\n",
    "\n",
    "# Dataframe with columns: basis, rmse, rounded_rmse\n",
    "results = results.reshape(-1, 5)\n",
    "results_df = pd.DataFrame(results, columns=['basis', 'rmse', 'rounded_rmse', 'rmse_val', 'rounded_rmse_val'])\n",
    "results_df"
   ],
   "id": "4771495f6c6959d7",
   "outputs": [
    {
     "name": "stdout",
     "output_type": "stream",
     "text": [
      "0/4: 0.9406694173812866, 0.9796655178070068, 0.9311515092849731, 0.9627998471260071\n",
      "1/4: 0.938785195350647, 0.9751651287078857, 0.9265940189361572, 0.9609262347221375\n",
      "2/4: 0.9607046842575073, 1.00178861618042, 0.9567806124687195, 0.9968282580375671\n",
      "3/4: 0.9367742538452148, 0.9741500616073608, 0.9261729717254639, 0.9570701718330383\n"
     ]
    },
    {
     "data": {
      "text/plain": [
       "                       basis                rmse        rounded_rmse  \\\n",
       "0                         []  0.9406694173812866  0.9796655178070068   \n",
       "1               ['gaussian']   0.938785195350647  0.9751651287078857   \n",
       "2             ['polynomial']  0.9607046842575073    1.00178861618042   \n",
       "3  ['gaussian' 'polynomial']  0.9367742538452148  0.9741500616073608   \n",
       "\n",
       "             rmse_val    rounded_rmse_val  \n",
       "0  0.9311515092849731  0.9627998471260071  \n",
       "1  0.9265940189361572  0.9609262347221375  \n",
       "2  0.9567806124687195  0.9968282580375671  \n",
       "3  0.9261729717254639  0.9570701718330383  "
      ],
      "text/html": [
       "<div>\n",
       "<style scoped>\n",
       "    .dataframe tbody tr th:only-of-type {\n",
       "        vertical-align: middle;\n",
       "    }\n",
       "\n",
       "    .dataframe tbody tr th {\n",
       "        vertical-align: top;\n",
       "    }\n",
       "\n",
       "    .dataframe thead th {\n",
       "        text-align: right;\n",
       "    }\n",
       "</style>\n",
       "<table border=\"1\" class=\"dataframe\">\n",
       "  <thead>\n",
       "    <tr style=\"text-align: right;\">\n",
       "      <th></th>\n",
       "      <th>basis</th>\n",
       "      <th>rmse</th>\n",
       "      <th>rounded_rmse</th>\n",
       "      <th>rmse_val</th>\n",
       "      <th>rounded_rmse_val</th>\n",
       "    </tr>\n",
       "  </thead>\n",
       "  <tbody>\n",
       "    <tr>\n",
       "      <th>0</th>\n",
       "      <td>[]</td>\n",
       "      <td>0.9406694173812866</td>\n",
       "      <td>0.9796655178070068</td>\n",
       "      <td>0.9311515092849731</td>\n",
       "      <td>0.9627998471260071</td>\n",
       "    </tr>\n",
       "    <tr>\n",
       "      <th>1</th>\n",
       "      <td>['gaussian']</td>\n",
       "      <td>0.938785195350647</td>\n",
       "      <td>0.9751651287078857</td>\n",
       "      <td>0.9265940189361572</td>\n",
       "      <td>0.9609262347221375</td>\n",
       "    </tr>\n",
       "    <tr>\n",
       "      <th>2</th>\n",
       "      <td>['polynomial']</td>\n",
       "      <td>0.9607046842575073</td>\n",
       "      <td>1.00178861618042</td>\n",
       "      <td>0.9567806124687195</td>\n",
       "      <td>0.9968282580375671</td>\n",
       "    </tr>\n",
       "    <tr>\n",
       "      <th>3</th>\n",
       "      <td>['gaussian' 'polynomial']</td>\n",
       "      <td>0.9367742538452148</td>\n",
       "      <td>0.9741500616073608</td>\n",
       "      <td>0.9261729717254639</td>\n",
       "      <td>0.9570701718330383</td>\n",
       "    </tr>\n",
       "  </tbody>\n",
       "</table>\n",
       "</div>"
      ]
     },
     "execution_count": 104,
     "metadata": {},
     "output_type": "execute_result"
    }
   ],
   "execution_count": 104
  },
  {
   "metadata": {
    "ExecuteTime": {
     "end_time": "2024-09-04T09:16:43.617820Z",
     "start_time": "2024-09-04T09:16:43.602363Z"
    }
   },
   "cell_type": "code",
   "source": [
    "basis = np.array([\n",
    "    # ['gaussian', gaussian_basis], \n",
    "    # ['polynomial', lambda x: x**2], \n",
    "])\n",
    "\n",
    "X_train_poly = transform_input(X_train, basis)\n",
    "X_val_poly = transform_input(X_val, basis)\n",
    "\n",
    "model = tf.keras.models.Sequential([\n",
    "    tf.keras.Input(shape=(X_train_poly.shape[1],)),\n",
    "    tf.keras.layers.Dense(16, activation='sigmoid'),\n",
    "    tf.keras.layers.Dense(8, activation='sigmoid'),\n",
    "    tf.keras.layers.Dense(1)\n",
    "])"
   ],
   "id": "62a0c8c8e7df7c41",
   "outputs": [],
   "execution_count": 196
  },
  {
   "metadata": {
    "ExecuteTime": {
     "end_time": "2024-09-04T09:17:12.395027Z",
     "start_time": "2024-09-04T09:17:07.227785Z"
    }
   },
   "cell_type": "code",
   "source": [
    "opt = tf.keras.optimizers.Adam(learning_rate=0.001)\n",
    "model.compile(optimizer=opt, loss='mean_squared_error', metrics=['root_mean_squared_error', rounded_rmse])\n",
    "history = model.fit(X_train_poly, y_train, validation_data=(X_val_poly, y_val), epochs=100, batch_size=256, verbose=0)\n",
    "model.evaluate(X_val_poly, y_val, verbose=0)"
   ],
   "id": "87a43f73d933e18e",
   "outputs": [
    {
     "data": {
      "text/plain": [
       "[0.780867338180542, 0.8836669921875, 0.9025094509124756]"
      ]
     },
     "execution_count": 199,
     "metadata": {},
     "output_type": "execute_result"
    }
   ],
   "execution_count": 199
  },
  {
   "metadata": {
    "ExecuteTime": {
     "end_time": "2024-09-04T09:16:18.500141Z",
     "start_time": "2024-09-04T09:15:55.131278Z"
    }
   },
   "cell_type": "code",
   "source": [
    "# Experiment with hyperparams\n",
    "\n",
    "params = [\n",
    "    [16, 8, 'sigmoid', 0, 0],\n",
    "    [16, 8, 'sigmoid', 0.2, 0],\n",
    "    [16, 8, 'sigmoid', 0.2, 0.2],\n",
    "]\n",
    "\n",
    "for param in params:\n",
    "    model = tf.keras.models.Sequential([\n",
    "        tf.keras.Input(shape=(X_train_poly.shape[1],)),\n",
    "        tf.keras.layers.Dense(param[0], activation=param[2]),\n",
    "        tf.keras.layers.Dropout(param[3]),\n",
    "        tf.keras.layers.Dense(param[1], activation=param[2]),\n",
    "        tf.keras.layers.Dropout(param[4]),\n",
    "        tf.keras.layers.Dense(1)\n",
    "    ])\n",
    "    opt = tf.keras.optimizers.Adam(learning_rate=0.001)\n",
    "    model.compile(optimizer=opt, loss='mean_squared_error', metrics=['root_mean_squared_error', rounded_rmse])\n",
    "    history = model.fit(X_train_poly, y_train, validation_data=(X_val_poly, y_val), epochs=50, batch_size=64, verbose=0)\n",
    "    res = model.evaluate(X_val_poly, y_val, verbose=0)\n",
    "    print(f'{param}: {res}')"
   ],
   "id": "38d19b157016995a",
   "outputs": [
    {
     "name": "stdout",
     "output_type": "stream",
     "text": [
      "[16, 8, 'sigmoid', 0, 0]: [0.7809878587722778, 0.883735179901123, 0.9009562134742737]\n",
      "[16, 8, 'sigmoid', 0.2, 0]: [0.7807883620262146, 0.8836222887039185, 0.9009905457496643]\n",
      "[16, 8, 'sigmoid', 0.2, 0.2]: [0.7894836664199829, 0.8885289430618286, 0.9142010807991028]\n"
     ]
    }
   ],
   "execution_count": 195
  },
  {
   "metadata": {
    "ExecuteTime": {
     "end_time": "2024-09-04T09:12:00.698444Z",
     "start_time": "2024-09-04T09:12:00.693393Z"
    }
   },
   "cell_type": "code",
   "source": "history.history['root_mean_squared_error'][-1], history.history['rounded_rmse'][-1], history.history['val_root_mean_squared_error'][-1], history.history['val_rounded_rmse'][-1]",
   "id": "2ac56da4af6aa64b",
   "outputs": [
    {
     "data": {
      "text/plain": [
       "(0.883611261844635, 0.9228898882865906, 0.8881294131278992, 0.9222400188446045)"
      ]
     },
     "execution_count": 183,
     "metadata": {},
     "output_type": "execute_result"
    }
   ],
   "execution_count": 183
  },
  {
   "metadata": {
    "ExecuteTime": {
     "end_time": "2024-09-04T09:14:22.127059Z",
     "start_time": "2024-09-04T09:14:22.069939Z"
    }
   },
   "cell_type": "code",
   "source": [
    "# Plot history\n",
    "plt.plot(history.history['val_rounded_rmse'][:], label='rmse')"
   ],
   "id": "6d132d9ffc0f59c2",
   "outputs": [
    {
     "data": {
      "text/plain": [
       "[<matplotlib.lines.Line2D at 0x451f288b0>]"
      ]
     },
     "execution_count": 194,
     "metadata": {},
     "output_type": "execute_result"
    },
    {
     "data": {
      "text/plain": [
       "<Figure size 640x480 with 1 Axes>"
      ],
      "image/png": "[encoded data removed]"
     },
     "metadata": {},
     "output_type": "display_data"
    }
   ],
   "execution_count": 194
  },
  {
   "metadata": {
    "ExecuteTime": {
     "end_time": "2024-09-04T09:17:24.830782Z",
     "start_time": "2024-09-04T09:17:24.613534Z"
    }
   },
   "cell_type": "code",
   "source": [
    "# Get output for final test data\n",
    "X_final_test = np.array(test.drop('ID', axis=1))\n",
    "X_final_test_poly = transform_input(X_final_test, basis)\n",
    "\n",
    "y_final_test = model.predict(X_final_test_poly)\n",
    "y_final_test = np.round(y_final_test)\n",
    "\n",
    "output = pd.DataFrame({'ID': test['ID'], 'score': y_final_test.flatten()})\n",
    "\n",
    "# output['score'] = output['score'].clip(0, 5)\n",
    "\n",
    "# count score < 0\n",
    "below0 = output[output['score'] < 0].shape[0]\n",
    "\n",
    "# count score > 5\n",
    "above5 = output[output['score'] > 5].shape[0]\n",
    "\n",
    "print(output.shape[0], below0, above5)\n",
    "\n",
    "output.to_csv('output_sept4_2.csv', index=False)\n"
   ],
   "id": "7ad91c7fbab70814",
   "outputs": [
    {
     "name": "stdout",
     "output_type": "stream",
     "text": [
      "\u001B[1m469/469\u001B[0m \u001B[32m━━━━━━━━━━━━━━━━━━━━\u001B[0m\u001B[37m\u001B[0m \u001B[1m0s\u001B[0m 277us/step\n",
      "14996 0 0\n"
     ]
    }
   ],
   "execution_count": 200
  }
 ],
 "metadata": {
  "kernelspec": {
   "display_name": "Python 3",
   "language": "python",
   "name": "python3"
  },
  "language_info": {
   "codemirror_mode": {
    "name": "ipython",
    "version": 2
   },
   "file_extension": ".py",
   "mimetype": "text/x-python",
   "name": "python",
   "nbconvert_exporter": "python",
   "pygments_lexer": "ipython2",
   "version": "2.7.6"
  }
 },
 "nbformat": 4,
 "nbformat_minor": 5
}
