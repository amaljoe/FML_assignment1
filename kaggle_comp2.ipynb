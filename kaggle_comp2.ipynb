{
 "cells": [
  {
   "metadata": {
    "ExecuteTime": {
     "end_time": "2024-08-24T11:47:45.494305Z",
     "start_time": "2024-08-24T11:47:44.874453Z"
    }
   },
   "cell_type": "code",
   "source": [
    "import numpy as np\n",
    "import pandas as pd\n",
    "import matplotlib.pyplot as plt\n",
    "from numpy.f2py.crackfortran import verbose\n",
    "\n",
    "np.set_printoptions(precision=3, suppress=True)"
   ],
   "id": "31d98030e2236191",
   "outputs": [],
   "execution_count": 1
  },
  {
   "metadata": {
    "ExecuteTime": {
     "end_time": "2024-08-24T11:47:45.747802Z",
     "start_time": "2024-08-24T11:47:45.497830Z"
    }
   },
   "cell_type": "code",
   "source": [
    "# Load the data\n",
    "train = pd.read_csv('iitb-cs-725-1-2024/train.csv')\n",
    "test = pd.read_csv('iitb-cs-725-1-2024/test.csv')\n",
    "sample = pd.read_csv('iitb-cs-725-1-2024/sample.csv')"
   ],
   "id": "fbff6d9f01e7c820",
   "outputs": [],
   "execution_count": 2
  },
  {
   "metadata": {
    "ExecuteTime": {
     "end_time": "2024-08-24T11:49:57.411875Z",
     "start_time": "2024-08-24T11:49:57.389265Z"
    }
   },
   "cell_type": "code",
   "source": [
    "# Create datasets\n",
    "def create_datasets(data):\n",
    "    X = data.drop(['score', 'ID'], axis=1)\n",
    "    y = data['score']\n",
    "    X = np.array(X)\n",
    "    y = np.array(y).reshape(-1, 1)\n",
    "    return X, y\n",
    "\n",
    "# Shuffle the data\n",
    "train = train.sample(frac=1).reset_index(drop=True)\n",
    "\n",
    "n1 = int(0.8 * train.shape[0])\n",
    "n2 = int(0.9 * train.shape[0])\n",
    "X_train, y_train = create_datasets(train[:n1])\n",
    "X_val, y_val = create_datasets(train[n1:n2])\n",
    "X_test, y_test = create_datasets(train[n2:])\n",
    "X_sample = np.array(test.drop('ID', axis=1))\n",
    "print(\"X_train shape:\", X_train.shape)\n",
    "print(\"y_train shape:\", y_train.shape)\n",
    "print(\"X_val shape:\", X_val.shape)\n",
    "print(\"y_val shape:\", y_val.shape)\n",
    "print(\"X_test shape:\", X_test.shape)\n",
    "print(\"y_test shape:\", y_test.shape)\n",
    "print(\"X_sample shape:\", X_sample.shape)"
   ],
   "id": "cd2a392e41ee5b4e",
   "outputs": [
    {
     "name": "stdout",
     "output_type": "stream",
     "text": [
      "X_train shape: (27990, 64)\n",
      "y_train shape: (27990, 1)\n",
      "X_val shape: (3499, 64)\n",
      "y_val shape: (3499, 1)\n",
      "X_test shape: (3499, 64)\n",
      "y_test shape: (3499, 1)\n",
      "X_sample shape: (14996, 64)\n"
     ]
    }
   ],
   "execution_count": 4
  },
  {
   "metadata": {
    "ExecuteTime": {
     "end_time": "2024-08-24T13:08:05.462152Z",
     "start_time": "2024-08-24T13:08:05.452977Z"
    }
   },
   "cell_type": "code",
   "source": [
    "mu = X_train.mean(axis=0)\n",
    "sigma = X_train.std(axis=0)\n",
    "\n",
    "def sigmoid(x):\n",
    "    return 1 / (1 + np.exp(-x))\n",
    "\n",
    "def gaussian(x, mu=mu, sigma=sigma):\n",
    "    return np.exp(-0.5 * ((x - mu) / sigma)**2)\n",
    "\n",
    "def transform_data(X):\n",
    "    X_trans = X\n",
    "    # for i in range(-10, 10):\n",
    "    #     X_trans = np.hstack([X_trans, gaussian(X, mu=mu+i)])\n",
    "    return X_trans\n",
    "\n",
    "X_train_trans = transform_data(X_train)\n",
    "X_val_trans = transform_data(X_val)"
   ],
   "id": "ccb199d482e102d5",
   "outputs": [],
   "execution_count": 72
  },
  {
   "metadata": {
    "ExecuteTime": {
     "end_time": "2024-08-24T13:18:58.766760Z",
     "start_time": "2024-08-24T13:18:58.754370Z"
    }
   },
   "cell_type": "code",
   "source": [
    "# Use tensorflow to get best scores\n",
    "import tensorflow as tf\n",
    "\n",
    "X = X_train_trans\n",
    "\n",
    "tf_model = tf.keras.models.Sequential([\n",
    "    tf.keras.Input(shape=(X.shape[1],)),\n",
    "    tf.keras.layers.Dense(32, activation='sigmoid'),\n",
    "    tf.keras.layers.Dense(1),\n",
    "])"
   ],
   "id": "695ea1c2f9e58136",
   "outputs": [],
   "execution_count": 90
  },
  {
   "metadata": {
    "ExecuteTime": {
     "end_time": "2024-08-24T13:24:30.353960Z",
     "start_time": "2024-08-24T13:24:25.009474Z"
    }
   },
   "cell_type": "code",
   "source": [
    "optimizer = tf.keras.optimizers.Adam(0.0001)\n",
    "tf_model.compile(optimizer=optimizer, loss='mean_squared_error')\n",
    "checkpoint_callback = tf.keras.callbacks.ModelCheckpoint(\n",
    "    filepath=\"best_weights.weights.h5\",\n",
    "    monitor=\"val_loss\",  # Monitor validation loss\n",
    "    save_best_only=True,  # Save only the best weights\n",
    "    save_weights_only=True  # Save only the weights, not the entire model\n",
    ")\n",
    "\n",
    "history = tf_model.fit(X, y_train, epochs=20, batch_size=32, validation_data=(X_val_trans, y_val), callbacks=[checkpoint_callback])\n",
    "val_loss = np.array(history.history['val_loss'])\n",
    "loss = np.array(history.history['loss'])\n",
    "plt.plot(val_loss, label='val_loss')\n",
    "plt.plot(loss, label='loss')\n",
    "plt.legend()\n",
    "plt.show()\n",
    "print(\"Best validation loss(rmse):\", val_loss.min())"
   ],
   "id": "65cb10b31b1501ca",
   "outputs": [
    {
     "name": "stdout",
     "output_type": "stream",
     "text": [
      "Epoch 1/20\n",
      "\u001B[1m875/875\u001B[0m \u001B[32m━━━━━━━━━━━━━━━━━━━━\u001B[0m\u001B[37m\u001B[0m \u001B[1m1s\u001B[0m 390us/step - loss: 0.8534 - val_loss: 0.9086\n",
      "Epoch 2/20\n",
      "\u001B[1m875/875\u001B[0m \u001B[32m━━━━━━━━━━━━━━━━━━━━\u001B[0m\u001B[37m\u001B[0m \u001B[1m0s\u001B[0m 291us/step - loss: 0.8604 - val_loss: 0.9080\n",
      "Epoch 3/20\n",
      "\u001B[1m875/875\u001B[0m \u001B[32m━━━━━━━━━━━━━━━━━━━━\u001B[0m\u001B[37m\u001B[0m \u001B[1m0s\u001B[0m 277us/step - loss: 0.8614 - val_loss: 0.9077\n",
      "Epoch 4/20\n",
      "\u001B[1m875/875\u001B[0m \u001B[32m━━━━━━━━━━━━━━━━━━━━\u001B[0m\u001B[37m\u001B[0m \u001B[1m0s\u001B[0m 265us/step - loss: 0.8747 - val_loss: 0.9075\n",
      "Epoch 5/20\n",
      "\u001B[1m875/875\u001B[0m \u001B[32m━━━━━━━━━━━━━━━━━━━━\u001B[0m\u001B[37m\u001B[0m \u001B[1m0s\u001B[0m 257us/step - loss: 0.8619 - val_loss: 0.9080\n",
      "Epoch 6/20\n",
      "\u001B[1m875/875\u001B[0m \u001B[32m━━━━━━━━━━━━━━━━━━━━\u001B[0m\u001B[37m\u001B[0m \u001B[1m0s\u001B[0m 264us/step - loss: 0.8609 - val_loss: 0.9078\n",
      "Epoch 7/20\n",
      "\u001B[1m875/875\u001B[0m \u001B[32m━━━━━━━━━━━━━━━━━━━━\u001B[0m\u001B[37m\u001B[0m \u001B[1m0s\u001B[0m 262us/step - loss: 0.8733 - val_loss: 0.9075\n",
      "Epoch 8/20\n",
      "\u001B[1m875/875\u001B[0m \u001B[32m━━━━━━━━━━━━━━━━━━━━\u001B[0m\u001B[37m\u001B[0m \u001B[1m0s\u001B[0m 274us/step - loss: 0.8593 - val_loss: 0.9071\n",
      "Epoch 9/20\n",
      "\u001B[1m875/875\u001B[0m \u001B[32m━━━━━━━━━━━━━━━━━━━━\u001B[0m\u001B[37m\u001B[0m \u001B[1m0s\u001B[0m 272us/step - loss: 0.8752 - val_loss: 0.9064\n",
      "Epoch 10/20\n",
      "\u001B[1m875/875\u001B[0m \u001B[32m━━━━━━━━━━━━━━━━━━━━\u001B[0m\u001B[37m\u001B[0m \u001B[1m0s\u001B[0m 293us/step - loss: 0.8647 - val_loss: 0.9064\n",
      "Epoch 11/20\n",
      "\u001B[1m875/875\u001B[0m \u001B[32m━━━━━━━━━━━━━━━━━━━━\u001B[0m\u001B[37m\u001B[0m \u001B[1m0s\u001B[0m 292us/step - loss: 0.8593 - val_loss: 0.9064\n",
      "Epoch 12/20\n",
      "\u001B[1m875/875\u001B[0m \u001B[32m━━━━━━━━━━━━━━━━━━━━\u001B[0m\u001B[37m\u001B[0m \u001B[1m0s\u001B[0m 279us/step - loss: 0.8577 - val_loss: 0.9065\n",
      "Epoch 13/20\n",
      "\u001B[1m875/875\u001B[0m \u001B[32m━━━━━━━━━━━━━━━━━━━━\u001B[0m\u001B[37m\u001B[0m \u001B[1m0s\u001B[0m 278us/step - loss: 0.8640 - val_loss: 0.9058\n",
      "Epoch 14/20\n",
      "\u001B[1m875/875\u001B[0m \u001B[32m━━━━━━━━━━━━━━━━━━━━\u001B[0m\u001B[37m\u001B[0m \u001B[1m0s\u001B[0m 287us/step - loss: 0.8616 - val_loss: 0.9062\n",
      "Epoch 15/20\n",
      "\u001B[1m875/875\u001B[0m \u001B[32m━━━━━━━━━━━━━━━━━━━━\u001B[0m\u001B[37m\u001B[0m \u001B[1m0s\u001B[0m 275us/step - loss: 0.8557 - val_loss: 0.9059\n",
      "Epoch 16/20\n",
      "\u001B[1m875/875\u001B[0m \u001B[32m━━━━━━━━━━━━━━━━━━━━\u001B[0m\u001B[37m\u001B[0m \u001B[1m0s\u001B[0m 277us/step - loss: 0.8560 - val_loss: 0.9062\n",
      "Epoch 17/20\n",
      "\u001B[1m875/875\u001B[0m \u001B[32m━━━━━━━━━━━━━━━━━━━━\u001B[0m\u001B[37m\u001B[0m \u001B[1m0s\u001B[0m 276us/step - loss: 0.8681 - val_loss: 0.9050\n",
      "Epoch 18/20\n",
      "\u001B[1m875/875\u001B[0m \u001B[32m━━━━━━━━━━━━━━━━━━━━\u001B[0m\u001B[37m\u001B[0m \u001B[1m0s\u001B[0m 277us/step - loss: 0.8562 - val_loss: 0.9056\n",
      "Epoch 19/20\n",
      "\u001B[1m875/875\u001B[0m \u001B[32m━━━━━━━━━━━━━━━━━━━━\u001B[0m\u001B[37m\u001B[0m \u001B[1m0s\u001B[0m 277us/step - loss: 0.8677 - val_loss: 0.9050\n",
      "Epoch 20/20\n",
      "\u001B[1m875/875\u001B[0m \u001B[32m━━━━━━━━━━━━━━━━━━━━\u001B[0m\u001B[37m\u001B[0m \u001B[1m0s\u001B[0m 280us/step - loss: 0.8559 - val_loss: 0.9047\n"
     ]
    },
    {
     "data": {
      "text/plain": [
       "<Figure size 640x480 with 1 Axes>"
      ],
      "image/png": "[encoded data removed]"
     },
     "metadata": {},
     "output_type": "display_data"
    },
    {
     "name": "stdout",
     "output_type": "stream",
     "text": [
      "Best validation loss(rmse): 0.9047017693519592\n"
     ]
    }
   ],
   "execution_count": 96
  },
  {
   "metadata": {
    "ExecuteTime": {
     "end_time": "2024-08-24T13:25:52.345870Z",
     "start_time": "2024-08-24T13:25:52.282375Z"
    }
   },
   "cell_type": "code",
   "source": [
    "y_val_pred = tf_model.predict(X_val_trans)\n",
    "# round\n",
    "y_val_pred = np.round(y_val_pred)\n",
    "\n",
    "# mse\n",
    "MSE = np.mean((y_val_pred - y_val)**2)\n",
    "print(\"Validation MSE:\", MSE)"
   ],
   "id": "c02f1b1e4512a8d0",
   "outputs": [
    {
     "name": "stdout",
     "output_type": "stream",
     "text": [
      "\u001B[1m110/110\u001B[0m \u001B[32m━━━━━━━━━━━━━━━━━━━━\u001B[0m\u001B[37m\u001B[0m \u001B[1m0s\u001B[0m 229us/step\n",
      "Validation MSE: 0.9871391826236068\n"
     ]
    }
   ],
   "execution_count": 100
  }
 ],
 "metadata": {
  "kernelspec": {
   "display_name": "Python 3",
   "language": "python",
   "name": "python3"
  },
  "language_info": {
   "codemirror_mode": {
    "name": "ipython",
    "version": 2
   },
   "file_extension": ".py",
   "mimetype": "text/x-python",
   "name": "python",
   "nbconvert_exporter": "python",
   "pygments_lexer": "ipython2",
   "version": "2.7.6"
  }
 },
 "nbformat": 4,
 "nbformat_minor": 5
}
