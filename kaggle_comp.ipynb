{
 "cells": [
  {
   "cell_type": "code",
   "id": "initial_id",
   "metadata": {
    "collapsed": true,
    "ExecuteTime": {
     "end_time": "2024-08-24T12:20:31.755490Z",
     "start_time": "2024-08-24T12:20:31.263652Z"
    }
   },
   "source": [
    "import numpy as np\n",
    "import pandas as pd\n",
    "import matplotlib.pyplot as plt\n",
    "from numpy.f2py.crackfortran import verbose\n",
    "\n",
    "np.set_printoptions(precision=3, suppress=True)"
   ],
   "outputs": [],
   "execution_count": 1
  },
  {
   "metadata": {
    "ExecuteTime": {
     "end_time": "2024-08-24T12:20:32.167149Z",
     "start_time": "2024-08-24T12:20:31.892390Z"
    }
   },
   "cell_type": "code",
   "source": [
    "# Load the data\n",
    "train = pd.read_csv('iitb-cs-725-1-2024/train.csv')\n",
    "test = pd.read_csv('iitb-cs-725-1-2024/test.csv')\n",
    "sample = pd.read_csv('iitb-cs-725-1-2024/sample.csv')"
   ],
   "id": "e22c4fd90e032e7a",
   "outputs": [],
   "execution_count": 2
  },
  {
   "metadata": {
    "ExecuteTime": {
     "end_time": "2024-08-23T06:34:13.690787Z",
     "start_time": "2024-08-23T06:34:13.677740Z"
    }
   },
   "cell_type": "code",
   "source": [
    "# Display the data\n",
    "train.head()"
   ],
   "id": "fb0600bd244c422f",
   "outputs": [
    {
     "data": {
      "text/plain": [
       "   ID  feature_0  feature_1  feature_2  feature_3  feature_4  feature_5  \\\n",
       "0   0   0.040776   2.247366   0.486094  -1.791148  -0.260466  -0.693494   \n",
       "1   1   2.885314  -1.228567  -0.023254   1.243954  -0.276285   0.791822   \n",
       "2   2   2.612578   0.978922   0.402049   0.628482   0.481488  -0.421969   \n",
       "3   3   0.333623   0.658054  -0.747531  -0.505702   0.359609   0.459562   \n",
       "4   4  -0.873343  -0.650602   0.336838   0.100677  -0.317427  -0.072732   \n",
       "\n",
       "   feature_6  feature_7  feature_8  ...  feature_55  feature_56  feature_57  \\\n",
       "0  -0.007988  -0.390353   0.342489  ...    0.116905    0.004497    0.045408   \n",
       "1  -0.390133   0.048296  -0.007136  ...    0.111936   -0.050685   -0.163769   \n",
       "2  -0.090971  -0.496587   0.314399  ...   -0.066646   -0.092024   -0.078880   \n",
       "3   0.278906   0.078858   0.330526  ...    0.121561    0.065324    0.114508   \n",
       "4  -0.187683   0.493616  -0.234106  ...    0.143080    0.051453    0.032550   \n",
       "\n",
       "   feature_58  feature_59  feature_60  feature_61  feature_62  feature_63  \\\n",
       "0   -0.160795    0.018927    0.038400   -0.224252   -0.095052   -0.060982   \n",
       "1   -0.068437    0.082455   -0.013019   -0.052774   -0.042545   -0.027698   \n",
       "2   -0.005543    0.104462    0.136459   -0.064776    0.074138    0.030638   \n",
       "3    0.007231    0.055410    0.016136   -0.049182   -0.059409   -0.144704   \n",
       "4   -0.088987    0.003385    0.097682   -0.020679   -0.115271   -0.014201   \n",
       "\n",
       "   score  \n",
       "0    0.0  \n",
       "1    3.0  \n",
       "2    0.0  \n",
       "3    3.0  \n",
       "4    3.0  \n",
       "\n",
       "[5 rows x 66 columns]"
      ],
      "text/html": [
       "<div>\n",
       "<style scoped>\n",
       "    .dataframe tbody tr th:only-of-type {\n",
       "        vertical-align: middle;\n",
       "    }\n",
       "\n",
       "    .dataframe tbody tr th {\n",
       "        vertical-align: top;\n",
       "    }\n",
       "\n",
       "    .dataframe thead th {\n",
       "        text-align: right;\n",
       "    }\n",
       "</style>\n",
       "<table border=\"1\" class=\"dataframe\">\n",
       "  <thead>\n",
       "    <tr style=\"text-align: right;\">\n",
       "      <th></th>\n",
       "      <th>ID</th>\n",
       "      <th>feature_0</th>\n",
       "      <th>feature_1</th>\n",
       "      <th>feature_2</th>\n",
       "      <th>feature_3</th>\n",
       "      <th>feature_4</th>\n",
       "      <th>feature_5</th>\n",
       "      <th>feature_6</th>\n",
       "      <th>feature_7</th>\n",
       "      <th>feature_8</th>\n",
       "      <th>...</th>\n",
       "      <th>feature_55</th>\n",
       "      <th>feature_56</th>\n",
       "      <th>feature_57</th>\n",
       "      <th>feature_58</th>\n",
       "      <th>feature_59</th>\n",
       "      <th>feature_60</th>\n",
       "      <th>feature_61</th>\n",
       "      <th>feature_62</th>\n",
       "      <th>feature_63</th>\n",
       "      <th>score</th>\n",
       "    </tr>\n",
       "  </thead>\n",
       "  <tbody>\n",
       "    <tr>\n",
       "      <th>0</th>\n",
       "      <td>0</td>\n",
       "      <td>0.040776</td>\n",
       "      <td>2.247366</td>\n",
       "      <td>0.486094</td>\n",
       "      <td>-1.791148</td>\n",
       "      <td>-0.260466</td>\n",
       "      <td>-0.693494</td>\n",
       "      <td>-0.007988</td>\n",
       "      <td>-0.390353</td>\n",
       "      <td>0.342489</td>\n",
       "      <td>...</td>\n",
       "      <td>0.116905</td>\n",
       "      <td>0.004497</td>\n",
       "      <td>0.045408</td>\n",
       "      <td>-0.160795</td>\n",
       "      <td>0.018927</td>\n",
       "      <td>0.038400</td>\n",
       "      <td>-0.224252</td>\n",
       "      <td>-0.095052</td>\n",
       "      <td>-0.060982</td>\n",
       "      <td>0.0</td>\n",
       "    </tr>\n",
       "    <tr>\n",
       "      <th>1</th>\n",
       "      <td>1</td>\n",
       "      <td>2.885314</td>\n",
       "      <td>-1.228567</td>\n",
       "      <td>-0.023254</td>\n",
       "      <td>1.243954</td>\n",
       "      <td>-0.276285</td>\n",
       "      <td>0.791822</td>\n",
       "      <td>-0.390133</td>\n",
       "      <td>0.048296</td>\n",
       "      <td>-0.007136</td>\n",
       "      <td>...</td>\n",
       "      <td>0.111936</td>\n",
       "      <td>-0.050685</td>\n",
       "      <td>-0.163769</td>\n",
       "      <td>-0.068437</td>\n",
       "      <td>0.082455</td>\n",
       "      <td>-0.013019</td>\n",
       "      <td>-0.052774</td>\n",
       "      <td>-0.042545</td>\n",
       "      <td>-0.027698</td>\n",
       "      <td>3.0</td>\n",
       "    </tr>\n",
       "    <tr>\n",
       "      <th>2</th>\n",
       "      <td>2</td>\n",
       "      <td>2.612578</td>\n",
       "      <td>0.978922</td>\n",
       "      <td>0.402049</td>\n",
       "      <td>0.628482</td>\n",
       "      <td>0.481488</td>\n",
       "      <td>-0.421969</td>\n",
       "      <td>-0.090971</td>\n",
       "      <td>-0.496587</td>\n",
       "      <td>0.314399</td>\n",
       "      <td>...</td>\n",
       "      <td>-0.066646</td>\n",
       "      <td>-0.092024</td>\n",
       "      <td>-0.078880</td>\n",
       "      <td>-0.005543</td>\n",
       "      <td>0.104462</td>\n",
       "      <td>0.136459</td>\n",
       "      <td>-0.064776</td>\n",
       "      <td>0.074138</td>\n",
       "      <td>0.030638</td>\n",
       "      <td>0.0</td>\n",
       "    </tr>\n",
       "    <tr>\n",
       "      <th>3</th>\n",
       "      <td>3</td>\n",
       "      <td>0.333623</td>\n",
       "      <td>0.658054</td>\n",
       "      <td>-0.747531</td>\n",
       "      <td>-0.505702</td>\n",
       "      <td>0.359609</td>\n",
       "      <td>0.459562</td>\n",
       "      <td>0.278906</td>\n",
       "      <td>0.078858</td>\n",
       "      <td>0.330526</td>\n",
       "      <td>...</td>\n",
       "      <td>0.121561</td>\n",
       "      <td>0.065324</td>\n",
       "      <td>0.114508</td>\n",
       "      <td>0.007231</td>\n",
       "      <td>0.055410</td>\n",
       "      <td>0.016136</td>\n",
       "      <td>-0.049182</td>\n",
       "      <td>-0.059409</td>\n",
       "      <td>-0.144704</td>\n",
       "      <td>3.0</td>\n",
       "    </tr>\n",
       "    <tr>\n",
       "      <th>4</th>\n",
       "      <td>4</td>\n",
       "      <td>-0.873343</td>\n",
       "      <td>-0.650602</td>\n",
       "      <td>0.336838</td>\n",
       "      <td>0.100677</td>\n",
       "      <td>-0.317427</td>\n",
       "      <td>-0.072732</td>\n",
       "      <td>-0.187683</td>\n",
       "      <td>0.493616</td>\n",
       "      <td>-0.234106</td>\n",
       "      <td>...</td>\n",
       "      <td>0.143080</td>\n",
       "      <td>0.051453</td>\n",
       "      <td>0.032550</td>\n",
       "      <td>-0.088987</td>\n",
       "      <td>0.003385</td>\n",
       "      <td>0.097682</td>\n",
       "      <td>-0.020679</td>\n",
       "      <td>-0.115271</td>\n",
       "      <td>-0.014201</td>\n",
       "      <td>3.0</td>\n",
       "    </tr>\n",
       "  </tbody>\n",
       "</table>\n",
       "<p>5 rows × 66 columns</p>\n",
       "</div>"
      ]
     },
     "execution_count": 107,
     "metadata": {},
     "output_type": "execute_result"
    }
   ],
   "execution_count": 107
  },
  {
   "metadata": {
    "ExecuteTime": {
     "end_time": "2024-08-23T05:39:44.077631Z",
     "start_time": "2024-08-23T05:39:43.974027Z"
    }
   },
   "cell_type": "code",
   "source": "train.describe()",
   "id": "9fbeacd7f2c52355",
   "outputs": [
    {
     "data": {
      "text/plain": [
       "                 ID     feature_0     feature_1     feature_2     feature_3  \\\n",
       "count  34988.000000  34988.000000  34988.000000  34988.000000  34988.000000   \n",
       "mean   17493.500000     -0.025667      0.005326     -0.015741     -0.004780   \n",
       "std    10100.309946      3.030748      2.171696      0.909885      0.676247   \n",
       "min        0.000000    -15.945959     -6.853446     -3.450916     -3.371233   \n",
       "25%     8746.750000     -2.061522     -1.405245     -0.617246     -0.439032   \n",
       "50%    17493.500000      0.230517     -0.278906     -0.073073     -0.033572   \n",
       "75%    26240.250000      2.271520      1.090409      0.530538      0.414171   \n",
       "max    34987.000000      8.828334     20.064835      7.041929      4.111352   \n",
       "\n",
       "          feature_4     feature_5     feature_6     feature_7     feature_8  \\\n",
       "count  34988.000000  34988.000000  34988.000000  34988.000000  34988.000000   \n",
       "mean      -0.008944     -0.004670     -0.018182      0.004407     -0.006715   \n",
       "std        0.625618      0.529283      0.490776      0.446237      0.411561   \n",
       "min       -6.351802     -2.003163     -1.482526     -2.353964     -1.659474   \n",
       "25%       -0.372987     -0.368630     -0.356968     -0.241367     -0.279038   \n",
       "50%        0.030238     -0.033410     -0.055696      0.040935     -0.012411   \n",
       "75%        0.409971      0.330293      0.281676      0.280784      0.260926   \n",
       "max        1.978701      2.511990      6.510805      8.411146      2.536084   \n",
       "\n",
       "       ...    feature_55    feature_56    feature_57    feature_58  \\\n",
       "count  ...  34988.000000  34988.000000  34988.000000  34988.000000   \n",
       "mean   ...     -0.000510      0.000518      0.000264     -0.001224   \n",
       "std    ...      0.095402      0.093816      0.093434      0.091614   \n",
       "min    ...     -0.942247     -0.588330     -0.771596     -0.597644   \n",
       "25%    ...     -0.058841     -0.060398     -0.060151     -0.058916   \n",
       "50%    ...     -0.000265     -0.000856      0.000478     -0.000103   \n",
       "75%    ...      0.058520      0.059978      0.061082      0.057753   \n",
       "max    ...      0.975914      0.696887      0.532025      0.622193   \n",
       "\n",
       "         feature_59    feature_60    feature_61    feature_62    feature_63  \\\n",
       "count  34988.000000  34988.000000  34988.000000  34988.000000  34988.000000   \n",
       "mean       0.001429      0.001177      0.000770      0.000382      0.000216   \n",
       "std        0.090396      0.089828      0.088973      0.087636      0.087134   \n",
       "min       -0.495204     -0.429300     -0.509795     -0.415701     -0.629959   \n",
       "25%       -0.056803     -0.055921     -0.056793     -0.056750     -0.055648   \n",
       "50%        0.002216      0.001734      0.000313     -0.000057      0.000577   \n",
       "75%        0.059987      0.058986      0.057766      0.057200      0.056666   \n",
       "max        0.452759      0.549956      0.471785      0.565583      0.621282   \n",
       "\n",
       "              score  \n",
       "count  34988.000000  \n",
       "mean       3.144707  \n",
       "std        1.162853  \n",
       "min        0.000000  \n",
       "25%        3.000000  \n",
       "50%        4.000000  \n",
       "75%        4.000000  \n",
       "max        4.000000  \n",
       "\n",
       "[8 rows x 66 columns]"
      ],
      "text/html": [
       "<div>\n",
       "<style scoped>\n",
       "    .dataframe tbody tr th:only-of-type {\n",
       "        vertical-align: middle;\n",
       "    }\n",
       "\n",
       "    .dataframe tbody tr th {\n",
       "        vertical-align: top;\n",
       "    }\n",
       "\n",
       "    .dataframe thead th {\n",
       "        text-align: right;\n",
       "    }\n",
       "</style>\n",
       "<table border=\"1\" class=\"dataframe\">\n",
       "  <thead>\n",
       "    <tr style=\"text-align: right;\">\n",
       "      <th></th>\n",
       "      <th>ID</th>\n",
       "      <th>feature_0</th>\n",
       "      <th>feature_1</th>\n",
       "      <th>feature_2</th>\n",
       "      <th>feature_3</th>\n",
       "      <th>feature_4</th>\n",
       "      <th>feature_5</th>\n",
       "      <th>feature_6</th>\n",
       "      <th>feature_7</th>\n",
       "      <th>feature_8</th>\n",
       "      <th>...</th>\n",
       "      <th>feature_55</th>\n",
       "      <th>feature_56</th>\n",
       "      <th>feature_57</th>\n",
       "      <th>feature_58</th>\n",
       "      <th>feature_59</th>\n",
       "      <th>feature_60</th>\n",
       "      <th>feature_61</th>\n",
       "      <th>feature_62</th>\n",
       "      <th>feature_63</th>\n",
       "      <th>score</th>\n",
       "    </tr>\n",
       "  </thead>\n",
       "  <tbody>\n",
       "    <tr>\n",
       "      <th>count</th>\n",
       "      <td>34988.000000</td>\n",
       "      <td>34988.000000</td>\n",
       "      <td>34988.000000</td>\n",
       "      <td>34988.000000</td>\n",
       "      <td>34988.000000</td>\n",
       "      <td>34988.000000</td>\n",
       "      <td>34988.000000</td>\n",
       "      <td>34988.000000</td>\n",
       "      <td>34988.000000</td>\n",
       "      <td>34988.000000</td>\n",
       "      <td>...</td>\n",
       "      <td>34988.000000</td>\n",
       "      <td>34988.000000</td>\n",
       "      <td>34988.000000</td>\n",
       "      <td>34988.000000</td>\n",
       "      <td>34988.000000</td>\n",
       "      <td>34988.000000</td>\n",
       "      <td>34988.000000</td>\n",
       "      <td>34988.000000</td>\n",
       "      <td>34988.000000</td>\n",
       "      <td>34988.000000</td>\n",
       "    </tr>\n",
       "    <tr>\n",
       "      <th>mean</th>\n",
       "      <td>17493.500000</td>\n",
       "      <td>-0.025667</td>\n",
       "      <td>0.005326</td>\n",
       "      <td>-0.015741</td>\n",
       "      <td>-0.004780</td>\n",
       "      <td>-0.008944</td>\n",
       "      <td>-0.004670</td>\n",
       "      <td>-0.018182</td>\n",
       "      <td>0.004407</td>\n",
       "      <td>-0.006715</td>\n",
       "      <td>...</td>\n",
       "      <td>-0.000510</td>\n",
       "      <td>0.000518</td>\n",
       "      <td>0.000264</td>\n",
       "      <td>-0.001224</td>\n",
       "      <td>0.001429</td>\n",
       "      <td>0.001177</td>\n",
       "      <td>0.000770</td>\n",
       "      <td>0.000382</td>\n",
       "      <td>0.000216</td>\n",
       "      <td>3.144707</td>\n",
       "    </tr>\n",
       "    <tr>\n",
       "      <th>std</th>\n",
       "      <td>10100.309946</td>\n",
       "      <td>3.030748</td>\n",
       "      <td>2.171696</td>\n",
       "      <td>0.909885</td>\n",
       "      <td>0.676247</td>\n",
       "      <td>0.625618</td>\n",
       "      <td>0.529283</td>\n",
       "      <td>0.490776</td>\n",
       "      <td>0.446237</td>\n",
       "      <td>0.411561</td>\n",
       "      <td>...</td>\n",
       "      <td>0.095402</td>\n",
       "      <td>0.093816</td>\n",
       "      <td>0.093434</td>\n",
       "      <td>0.091614</td>\n",
       "      <td>0.090396</td>\n",
       "      <td>0.089828</td>\n",
       "      <td>0.088973</td>\n",
       "      <td>0.087636</td>\n",
       "      <td>0.087134</td>\n",
       "      <td>1.162853</td>\n",
       "    </tr>\n",
       "    <tr>\n",
       "      <th>min</th>\n",
       "      <td>0.000000</td>\n",
       "      <td>-15.945959</td>\n",
       "      <td>-6.853446</td>\n",
       "      <td>-3.450916</td>\n",
       "      <td>-3.371233</td>\n",
       "      <td>-6.351802</td>\n",
       "      <td>-2.003163</td>\n",
       "      <td>-1.482526</td>\n",
       "      <td>-2.353964</td>\n",
       "      <td>-1.659474</td>\n",
       "      <td>...</td>\n",
       "      <td>-0.942247</td>\n",
       "      <td>-0.588330</td>\n",
       "      <td>-0.771596</td>\n",
       "      <td>-0.597644</td>\n",
       "      <td>-0.495204</td>\n",
       "      <td>-0.429300</td>\n",
       "      <td>-0.509795</td>\n",
       "      <td>-0.415701</td>\n",
       "      <td>-0.629959</td>\n",
       "      <td>0.000000</td>\n",
       "    </tr>\n",
       "    <tr>\n",
       "      <th>25%</th>\n",
       "      <td>8746.750000</td>\n",
       "      <td>-2.061522</td>\n",
       "      <td>-1.405245</td>\n",
       "      <td>-0.617246</td>\n",
       "      <td>-0.439032</td>\n",
       "      <td>-0.372987</td>\n",
       "      <td>-0.368630</td>\n",
       "      <td>-0.356968</td>\n",
       "      <td>-0.241367</td>\n",
       "      <td>-0.279038</td>\n",
       "      <td>...</td>\n",
       "      <td>-0.058841</td>\n",
       "      <td>-0.060398</td>\n",
       "      <td>-0.060151</td>\n",
       "      <td>-0.058916</td>\n",
       "      <td>-0.056803</td>\n",
       "      <td>-0.055921</td>\n",
       "      <td>-0.056793</td>\n",
       "      <td>-0.056750</td>\n",
       "      <td>-0.055648</td>\n",
       "      <td>3.000000</td>\n",
       "    </tr>\n",
       "    <tr>\n",
       "      <th>50%</th>\n",
       "      <td>17493.500000</td>\n",
       "      <td>0.230517</td>\n",
       "      <td>-0.278906</td>\n",
       "      <td>-0.073073</td>\n",
       "      <td>-0.033572</td>\n",
       "      <td>0.030238</td>\n",
       "      <td>-0.033410</td>\n",
       "      <td>-0.055696</td>\n",
       "      <td>0.040935</td>\n",
       "      <td>-0.012411</td>\n",
       "      <td>...</td>\n",
       "      <td>-0.000265</td>\n",
       "      <td>-0.000856</td>\n",
       "      <td>0.000478</td>\n",
       "      <td>-0.000103</td>\n",
       "      <td>0.002216</td>\n",
       "      <td>0.001734</td>\n",
       "      <td>0.000313</td>\n",
       "      <td>-0.000057</td>\n",
       "      <td>0.000577</td>\n",
       "      <td>4.000000</td>\n",
       "    </tr>\n",
       "    <tr>\n",
       "      <th>75%</th>\n",
       "      <td>26240.250000</td>\n",
       "      <td>2.271520</td>\n",
       "      <td>1.090409</td>\n",
       "      <td>0.530538</td>\n",
       "      <td>0.414171</td>\n",
       "      <td>0.409971</td>\n",
       "      <td>0.330293</td>\n",
       "      <td>0.281676</td>\n",
       "      <td>0.280784</td>\n",
       "      <td>0.260926</td>\n",
       "      <td>...</td>\n",
       "      <td>0.058520</td>\n",
       "      <td>0.059978</td>\n",
       "      <td>0.061082</td>\n",
       "      <td>0.057753</td>\n",
       "      <td>0.059987</td>\n",
       "      <td>0.058986</td>\n",
       "      <td>0.057766</td>\n",
       "      <td>0.057200</td>\n",
       "      <td>0.056666</td>\n",
       "      <td>4.000000</td>\n",
       "    </tr>\n",
       "    <tr>\n",
       "      <th>max</th>\n",
       "      <td>34987.000000</td>\n",
       "      <td>8.828334</td>\n",
       "      <td>20.064835</td>\n",
       "      <td>7.041929</td>\n",
       "      <td>4.111352</td>\n",
       "      <td>1.978701</td>\n",
       "      <td>2.511990</td>\n",
       "      <td>6.510805</td>\n",
       "      <td>8.411146</td>\n",
       "      <td>2.536084</td>\n",
       "      <td>...</td>\n",
       "      <td>0.975914</td>\n",
       "      <td>0.696887</td>\n",
       "      <td>0.532025</td>\n",
       "      <td>0.622193</td>\n",
       "      <td>0.452759</td>\n",
       "      <td>0.549956</td>\n",
       "      <td>0.471785</td>\n",
       "      <td>0.565583</td>\n",
       "      <td>0.621282</td>\n",
       "      <td>4.000000</td>\n",
       "    </tr>\n",
       "  </tbody>\n",
       "</table>\n",
       "<p>8 rows × 66 columns</p>\n",
       "</div>"
      ]
     },
     "execution_count": 4,
     "metadata": {},
     "output_type": "execute_result"
    }
   ],
   "execution_count": 4
  },
  {
   "metadata": {
    "ExecuteTime": {
     "end_time": "2024-08-23T05:39:47.298608Z",
     "start_time": "2024-08-23T05:39:47.292385Z"
    }
   },
   "cell_type": "code",
   "source": [
    "# Check for missing values\n",
    "train.isnull().sum()"
   ],
   "id": "ea89dda4c1f12f25",
   "outputs": [
    {
     "data": {
      "text/plain": [
       "ID            0\n",
       "feature_0     0\n",
       "feature_1     0\n",
       "feature_2     0\n",
       "feature_3     0\n",
       "             ..\n",
       "feature_60    0\n",
       "feature_61    0\n",
       "feature_62    0\n",
       "feature_63    0\n",
       "score         0\n",
       "Length: 66, dtype: int64"
      ]
     },
     "execution_count": 5,
     "metadata": {},
     "output_type": "execute_result"
    }
   ],
   "execution_count": 5
  },
  {
   "metadata": {
    "ExecuteTime": {
     "end_time": "2024-08-24T12:22:38.927257Z",
     "start_time": "2024-08-24T12:22:38.909677Z"
    }
   },
   "cell_type": "code",
   "source": [
    "# Create datasets\n",
    "def create_datasets(data):\n",
    "    X = data.drop(['score', 'ID'], axis=1)\n",
    "    y = data['score']\n",
    "    X = np.array(X)\n",
    "    y = np.array(y).reshape(-1, 1)\n",
    "    return X, y\n",
    "\n",
    "# Shuffle the data\n",
    "train = train.sample(frac=1).reset_index(drop=True)\n",
    "\n",
    "n_train = int(0.9 * train.shape[0])\n",
    "X_train, y_train = create_datasets(train[:n_train])\n",
    "X_val, y_val = create_datasets(train[n_train:])\n",
    "\n",
    "X_train.shape, X_val.shape"
   ],
   "id": "51514d8dfadf7680",
   "outputs": [
    {
     "data": {
      "text/plain": [
       "((31489, 64), (3499, 64))"
      ]
     },
     "execution_count": 13,
     "metadata": {},
     "output_type": "execute_result"
    }
   ],
   "execution_count": 13
  },
  {
   "metadata": {
    "ExecuteTime": {
     "end_time": "2024-08-23T06:34:52.156571Z",
     "start_time": "2024-08-23T06:34:52.153614Z"
    }
   },
   "cell_type": "code",
   "source": [
    "# No. of features\n",
    "N = X_train.shape[1]\n",
    "\n",
    "# Weight vector (N x 1)\n",
    "W = np.random.randn(N, 1)"
   ],
   "id": "e762e814123f10dc",
   "outputs": [],
   "execution_count": 110
  },
  {
   "metadata": {
    "ExecuteTime": {
     "end_time": "2024-08-23T06:23:26.318252Z",
     "start_time": "2024-08-23T06:23:23.644557Z"
    }
   },
   "cell_type": "code",
   "source": [
    "import tensorflow as tf\n",
    "\n",
    "model = tf.keras.models.Sequential([\n",
    "    tf.keras.Input(shape=(N,)),\n",
    "    tf.keras.layers.Dense(32, activation='relu'),\n",
    "    tf.keras.layers.Dense(1, input_shape=(N,))\n",
    "])\n",
    "\n",
    "model.compile(optimizer='adam', loss='mse')\n",
    "\n",
    "model.fit(X_train, y_train, validation_data=(X_val, y_val), epochs=10)"
   ],
   "id": "a5fcf1d82994fa15",
   "outputs": [
    {
     "name": "stdout",
     "output_type": "stream",
     "text": [
      "Epoch 1/10\n",
      "\u001B[1m  1/875\u001B[0m \u001B[37m━━━━━━━━━━━━━━━━━━━━\u001B[0m \u001B[1m2:35\u001B[0m 178ms/step - loss: 10.9344"
     ]
    },
    {
     "name": "stderr",
     "output_type": "stream",
     "text": [
      "/Users/amaljoe/Desktop/Workspace/IITB/FML/assignment1/venv/lib/python3.9/site-packages/keras/src/layers/core/dense.py:87: UserWarning: Do not pass an `input_shape`/`input_dim` argument to a layer. When using Sequential models, prefer using an `Input(shape)` object as the first layer in the model instead.\n",
      "  super().__init__(activity_regularizer=activity_regularizer, **kwargs)\n"
     ]
    },
    {
     "name": "stdout",
     "output_type": "stream",
     "text": [
      "\u001B[1m875/875\u001B[0m \u001B[32m━━━━━━━━━━━━━━━━━━━━\u001B[0m\u001B[37m\u001B[0m \u001B[1m0s\u001B[0m 320us/step - loss: 3.2019 - val_loss: 0.9124\n",
      "Epoch 2/10\n",
      "\u001B[1m875/875\u001B[0m \u001B[32m━━━━━━━━━━━━━━━━━━━━\u001B[0m\u001B[37m\u001B[0m \u001B[1m0s\u001B[0m 257us/step - loss: 0.9180 - val_loss: 0.8635\n",
      "Epoch 3/10\n",
      "\u001B[1m875/875\u001B[0m \u001B[32m━━━━━━━━━━━━━━━━━━━━\u001B[0m\u001B[37m\u001B[0m \u001B[1m0s\u001B[0m 283us/step - loss: 0.8648 - val_loss: 0.8327\n",
      "Epoch 4/10\n",
      "\u001B[1m875/875\u001B[0m \u001B[32m━━━━━━━━━━━━━━━━━━━━\u001B[0m\u001B[37m\u001B[0m \u001B[1m0s\u001B[0m 256us/step - loss: 0.8300 - val_loss: 0.8150\n",
      "Epoch 5/10\n",
      "\u001B[1m875/875\u001B[0m \u001B[32m━━━━━━━━━━━━━━━━━━━━\u001B[0m\u001B[37m\u001B[0m \u001B[1m0s\u001B[0m 262us/step - loss: 0.8102 - val_loss: 0.8148\n",
      "Epoch 6/10\n",
      "\u001B[1m875/875\u001B[0m \u001B[32m━━━━━━━━━━━━━━━━━━━━\u001B[0m\u001B[37m\u001B[0m \u001B[1m0s\u001B[0m 252us/step - loss: 0.8063 - val_loss: 0.7958\n",
      "Epoch 7/10\n",
      "\u001B[1m875/875\u001B[0m \u001B[32m━━━━━━━━━━━━━━━━━━━━\u001B[0m\u001B[37m\u001B[0m \u001B[1m0s\u001B[0m 271us/step - loss: 0.7995 - val_loss: 0.7955\n",
      "Epoch 8/10\n",
      "\u001B[1m875/875\u001B[0m \u001B[32m━━━━━━━━━━━━━━━━━━━━\u001B[0m\u001B[37m\u001B[0m \u001B[1m0s\u001B[0m 278us/step - loss: 0.7886 - val_loss: 0.7991\n",
      "Epoch 9/10\n",
      "\u001B[1m875/875\u001B[0m \u001B[32m━━━━━━━━━━━━━━━━━━━━\u001B[0m\u001B[37m\u001B[0m \u001B[1m0s\u001B[0m 283us/step - loss: 0.7764 - val_loss: 0.7943\n",
      "Epoch 10/10\n",
      "\u001B[1m875/875\u001B[0m \u001B[32m━━━━━━━━━━━━━━━━━━━━\u001B[0m\u001B[37m\u001B[0m \u001B[1m0s\u001B[0m 276us/step - loss: 0.7928 - val_loss: 0.8037\n"
     ]
    },
    {
     "data": {
      "text/plain": [
       "<keras.src.callbacks.history.History at 0x38de1ab50>"
      ]
     },
     "execution_count": 76,
     "metadata": {},
     "output_type": "execute_result"
    }
   ],
   "execution_count": 76
  },
  {
   "metadata": {
    "ExecuteTime": {
     "end_time": "2024-08-24T13:27:54.079168Z",
     "start_time": "2024-08-24T13:27:54.072211Z"
    }
   },
   "cell_type": "code",
   "source": [
    "import random\n",
    "\n",
    "def predict(X, W):\n",
    "    return X @ W\n",
    "\n",
    "def mse(y_true, y_pred):\n",
    "    return np.mean((y_true - y_pred)**2)\n",
    "\n",
    "def rmse(y_true, y_pred):\n",
    "    return np.sqrt(mse(y_true, y_pred))\n",
    "\n",
    "def compute_gradients(X, y, y_pred):\n",
    "    dW = -2 * X.T @ (y - y_pred) / X.shape[0]\n",
    "    return dW\n",
    "\n",
    "def fit(X, y, W, Xval, yval, lr=0.01, epochs=100, print_every=100, batch_size=32):\n",
    "    # Error list\n",
    "    errors = []\n",
    "    val_errors = []\n",
    "    best_val_error = float('inf')\n",
    "    best_W = None\n",
    "    \n",
    "    for i in range(epochs):\n",
    "        # Mini-batch gradient descent\n",
    "        idx = random.sample(range(X.shape[0]), batch_size)\n",
    "        X_batch, y_batch = X[idx], y[idx]\n",
    "        y_pred = predict(X_batch, W)\n",
    "        y_pred_round = y_pred.round()\n",
    "\n",
    "        if i % print_every == 0 or i == epochs - 1:\n",
    "            train_loss = mse(y, predict(X, W))\n",
    "            y_val_pred = predict(Xval, W)\n",
    "            val_loss = mse(yval, y_val_pred)\n",
    "            Y_val_round = y_val_pred.round()\n",
    "            Y_val_rounded_loss = mse(yval, Y_val_round)\n",
    "            print(f'Epoch {i}, Loss: {train_loss}, Val Loss: {val_loss}, Rounded Val Loss: {Y_val_rounded_loss}')\n",
    "            errors.append(train_loss)\n",
    "            val_errors.append(val_loss)\n",
    "            if val_loss < best_val_error:\n",
    "                best_val_error = val_loss\n",
    "                best_W = W\n",
    "            if train_loss < 0.8 and val_loss < 0.87:\n",
    "                print(f'Early stopping at epoch {i}, Loss: {train_loss}, Val Loss: {val_loss}')\n",
    "                break\n",
    "        \n",
    "        dW = compute_gradients(X_batch, y_batch, y_pred_round)\n",
    "        W -= lr * dW\n",
    "        \n",
    "        \n",
    "    return best_W, errors, val_errors"
   ],
   "id": "c180fbdca030deee",
   "outputs": [],
   "execution_count": 107
  },
  {
   "metadata": {
    "ExecuteTime": {
     "end_time": "2024-08-24T12:20:47.842247Z",
     "start_time": "2024-08-24T12:20:47.807622Z"
    }
   },
   "cell_type": "code",
   "source": [
    "# Closed form solution\n",
    "\n",
    "from closedForm import LinearRegressionClosedForm\n",
    "\n",
    "model = LinearRegressionClosedForm()\n",
    "\n",
    "model.fit(X_train, y_train)\n",
    "\n",
    "y_pred = model.predict(X_val)\n",
    "rmse(y_val, y_pred)"
   ],
   "id": "4c91e943fbd0d643",
   "outputs": [
    {
     "data": {
      "text/plain": [
       "3.2682933059181574"
      ]
     },
     "execution_count": 6,
     "metadata": {},
     "output_type": "execute_result"
    }
   ],
   "execution_count": 6
  },
  {
   "metadata": {
    "ExecuteTime": {
     "end_time": "2024-08-24T12:20:46.293882Z",
     "start_time": "2024-08-24T12:20:46.290019Z"
    }
   },
   "cell_type": "code",
   "source": [
    "def plot_errors(errors, val_errors):\n",
    "    plt.plot(errors, label='Train')\n",
    "    plt.plot(val_errors, label='Validation')\n",
    "    plt.xlabel('Epochs')\n",
    "    plt.ylabel('Loss')\n",
    "    plt.legend()\n",
    "    plt.show()"
   ],
   "id": "b5a34a0664c55127",
   "outputs": [],
   "execution_count": 5
  },
  {
   "metadata": {
    "ExecuteTime": {
     "end_time": "2024-08-24T12:20:50.335821Z",
     "start_time": "2024-08-24T12:20:50.194971Z"
    }
   },
   "cell_type": "code",
   "source": [
    "# Gradient Descent\n",
    "W, errors, val_errors = fit(X_train, y_train, W, X_val, y_val, lr=0.0001, epochs=1000)\n",
    "\n",
    "y_pred = predict(X_val, W)\n",
    "\n",
    "plot_errors(errors, val_errors)\n",
    "\n",
    "rmse(y_val, y_pred)"
   ],
   "id": "a9b9a9aed346322b",
   "outputs": [
    {
     "ename": "NameError",
     "evalue": "name 'W' is not defined",
     "output_type": "error",
     "traceback": [
      "\u001B[0;31m---------------------------------------------------------------------------\u001B[0m",
      "\u001B[0;31mNameError\u001B[0m                                 Traceback (most recent call last)",
      "Cell \u001B[0;32mIn[7], line 2\u001B[0m\n\u001B[1;32m      1\u001B[0m \u001B[38;5;66;03m# Gradient Descent\u001B[39;00m\n\u001B[0;32m----> 2\u001B[0m W, errors, val_errors \u001B[38;5;241m=\u001B[39m fit(X_train, y_train, \u001B[43mW\u001B[49m, X_val, y_val, lr\u001B[38;5;241m=\u001B[39m\u001B[38;5;241m0.0001\u001B[39m, epochs\u001B[38;5;241m=\u001B[39m\u001B[38;5;241m1000\u001B[39m)\n\u001B[1;32m      4\u001B[0m y_pred \u001B[38;5;241m=\u001B[39m predict(X_val, W)\n\u001B[1;32m      6\u001B[0m plot_errors(errors, val_errors)\n",
      "\u001B[0;31mNameError\u001B[0m: name 'W' is not defined"
     ]
    }
   ],
   "execution_count": 7
  },
  {
   "metadata": {
    "ExecuteTime": {
     "end_time": "2024-08-24T13:29:04.003409Z",
     "start_time": "2024-08-24T13:29:03.965512Z"
    }
   },
   "cell_type": "code",
   "source": [
    "# Feature engineering\n",
    "\n",
    "# Mean and variance\n",
    "mu = np.mean(X_train)\n",
    "sigma = np.std(X_train)\n",
    "\n",
    "def sigmoid(x):\n",
    "    return 1 / (1 + np.exp(-x))\n",
    "\n",
    "def gaussian_basis(x, mu, sigma):\n",
    "    return np.exp(-0.5 * ((x - mu) / sigma)**2)\n",
    "\n",
    "def normalize(X, mu, sigma):\n",
    "    return (X - mu) / sigma\n",
    "\n",
    "def relu(x):\n",
    "    return np.maximum(0, x)\n",
    "\n",
    "# Add polynomial features\n",
    "def transform_input(X):\n",
    "    X_new = X\n",
    "    for i in range(-1, 1):\n",
    "        j = i\n",
    "        X_new = np.hstack([X_new, gaussian_basis(X, mu + j, sigma)])\n",
    "    return X_new\n",
    "        \n",
    "\n",
    "X_train_poly = transform_input(X_train)\n",
    "X_val_poly = transform_input(X_val)\n",
    "print(X_train_poly.shape, X_val_poly.shape)\n",
    "\n",
    "W_poly = np.random.randn(X_train_poly.shape[1], 1)"
   ],
   "id": "486672be6ba5336c",
   "outputs": [
    {
     "name": "stdout",
     "output_type": "stream",
     "text": [
      "(31489, 192) (3499, 192)\n"
     ]
    }
   ],
   "execution_count": 110
  },
  {
   "metadata": {
    "ExecuteTime": {
     "end_time": "2024-08-24T12:21:19.252656Z",
     "start_time": "2024-08-24T12:21:19.249889Z"
    }
   },
   "cell_type": "code",
   "source": "W_poly = np.load('weights5.npy')",
   "id": "88eca1d4ebe01ada",
   "outputs": [],
   "execution_count": 11
  },
  {
   "metadata": {
    "ExecuteTime": {
     "end_time": "2024-08-24T13:29:44.111818Z",
     "start_time": "2024-08-24T13:29:33.656841Z"
    }
   },
   "cell_type": "code",
   "source": [
    "epochs = 300000\n",
    "\n",
    "W_train_poly, errors, val_errors = fit(X_train_poly, y_train, W_poly, X_val_poly, y_val, lr=0.0001, epochs=epochs, print_every=epochs/10, batch_size=32)\n",
    "\n",
    "plot_errors(errors, val_errors)\n",
    "\n",
    "y_pred = predict(X_val_poly, W_train_poly)\n",
    "y_pred_round = y_pred.round()\n",
    "mse(y_val, y_pred_round)"
   ],
   "id": "ed943654e030999e",
   "outputs": [
    {
     "name": "stdout",
     "output_type": "stream",
     "text": [
      "Epoch 0, Loss: 0.8939376687491218, Val Loss: 0.8698722453427313, Rounded Val Loss: 0.948556730494427\n",
      "Epoch 30000, Loss: 0.8929320053372688, Val Loss: 0.8692244692917621, Rounded Val Loss: 0.9465561589025436\n",
      "Epoch 60000, Loss: 0.8925326080432847, Val Loss: 0.8698841066325171, Rounded Val Loss: 0.9531294655615891\n",
      "Epoch 90000, Loss: 0.8925428295884198, Val Loss: 0.8681331197881361, Rounded Val Loss: 0.9476993426693341\n",
      "Epoch 120000, Loss: 0.8920606716102898, Val Loss: 0.8696597136390192, Rounded Val Loss: 0.9502715061446128\n",
      "Epoch 150000, Loss: 0.8915347174610333, Val Loss: 0.8682482954769237, Rounded Val Loss: 0.9474135467276364\n",
      "Epoch 180000, Loss: 0.8911671379047866, Val Loss: 0.8676751012748977, Rounded Val Loss: 0.9459845670191483\n",
      "Epoch 210000, Loss: 0.8908797950916196, Val Loss: 0.8671448961065406, Rounded Val Loss: 0.9476993426693341\n",
      "Epoch 240000, Loss: 0.8906352946268776, Val Loss: 0.8674741127599412, Rounded Val Loss: 0.9468419548442412\n",
      "Epoch 270000, Loss: 0.8903830279547885, Val Loss: 0.8674458014384347, Rounded Val Loss: 0.9488425264361247\n",
      "Epoch 299999, Loss: 0.8900494273532221, Val Loss: 0.867231611836957, Rounded Val Loss: 0.9442697913689626\n"
     ]
    },
    {
     "data": {
      "text/plain": [
       "<Figure size 640x480 with 1 Axes>"
      ],
      "image/png": "[encoded data removed]"
     },
     "metadata": {},
     "output_type": "display_data"
    },
    {
     "data": {
      "text/plain": [
       "0.9451271791940554"
      ]
     },
     "execution_count": 113,
     "metadata": {},
     "output_type": "execute_result"
    }
   ],
   "execution_count": 113
  },
  {
   "metadata": {
    "ExecuteTime": {
     "end_time": "2024-08-24T13:30:05.267630Z",
     "start_time": "2024-08-24T13:30:05.264523Z"
    }
   },
   "cell_type": "code",
   "source": [
    "# export weights\n",
    "np.save('weights6.npy', W_train_poly)\n",
    "W_backup = W_train_poly"
   ],
   "id": "bc4407bfda51ec3f",
   "outputs": [],
   "execution_count": 114
  },
  {
   "metadata": {
    "ExecuteTime": {
     "end_time": "2024-08-24T13:03:31.403706Z",
     "start_time": "2024-08-24T13:03:31.278559Z"
    }
   },
   "cell_type": "code",
   "source": [
    "X_val_poly = transform_input(X_val)\n",
    "y_pred = predict(X_val_poly, W_poly)\n",
    "\n",
    "rmse(y_val, y_pred)"
   ],
   "id": "2aea3318c3e290d1",
   "outputs": [
    {
     "data": {
      "text/plain": [
       "0.9318112443972046"
      ]
     },
     "execution_count": 98,
     "metadata": {},
     "output_type": "execute_result"
    }
   ],
   "execution_count": 98
  },
  {
   "metadata": {
    "ExecuteTime": {
     "end_time": "2024-08-24T13:04:08.769058Z",
     "start_time": "2024-08-24T13:04:08.650302Z"
    }
   },
   "cell_type": "code",
   "source": [
    "# Get output for final test data\n",
    "X_final_test = np.array(test.drop('ID', axis=1))\n",
    "X_final_test_poly = transform_input(X_final_test)\n",
    "y_final_test = predict(X_final_test_poly, W_poly)\n",
    "y_final_test = y_final_test.round()\n",
    "\n",
    "output = pd.DataFrame({'ID': test['ID'], 'score': y_final_test.flatten()})\n",
    "\n",
    "# output['score'] = output['score'].clip(0, 5)\n",
    "\n",
    "# count score < 0\n",
    "below0 = output[output['score'] < 0].shape[0]\n",
    "\n",
    "# count score > 5\n",
    "above5 = output[output['score'] > 5].shape[0]\n",
    "\n",
    "print(output.shape[0], below0, above5)\n",
    "\n",
    "output.to_csv('output.csv', index=False)"
   ],
   "id": "6a41c6871d40ef33",
   "outputs": [
    {
     "name": "stdout",
     "output_type": "stream",
     "text": [
      "14996 0 3\n"
     ]
    }
   ],
   "execution_count": 100
  },
  {
   "metadata": {
    "ExecuteTime": {
     "end_time": "2024-08-23T06:19:37.799872Z",
     "start_time": "2024-08-23T06:19:27.643080Z"
    }
   },
   "cell_type": "code",
   "source": [
    "import tensorflow as tf\n",
    "\n",
    "def gaussian_basis(x):\n",
    "    # Mean and variance\n",
    "    mu = np.mean(x)\n",
    "    sigma = np.std(x)\n",
    "    return np.exp(-0.5 * ((x - mu) / sigma)**2)\n",
    "\n",
    "def normalize(X):\n",
    "    return (X - X.mean(axis=0)) / X.std(axis=0)\n",
    "\n",
    "# Add polynomial features\n",
    "def transform_input(X, basis):\n",
    "    transormed_X = np.hstack([basis[i](X) for i in range(len(basis))])\n",
    "    transormed_X = np.hstack([X, transormed_X])\n",
    "    return transormed_X\n",
    "\n",
    "basis_funcs = [\n",
    "    [normalize],\n",
    "    [gaussian_basis],\n",
    "    [sigmoid],\n",
    "    [sigmoid, gaussian_basis, normalize],\n",
    "]\n",
    "\n",
    "for basis in basis_funcs:\n",
    "    transformed_X_train = transform_input(X_train, basis)\n",
    "    transformed_X_val = transform_input(X_val, basis)\n",
    "    \n",
    "    model = tf.keras.models.Sequential([\n",
    "        tf.keras.Input(shape=(transformed_X_train.shape[1],)),\n",
    "        tf.keras.layers.Dense(1)\n",
    "    ])\n",
    "    \n",
    "    opt = tf.keras.optimizers.Adam(learning_rate=0.001)\n",
    "    model.compile(optimizer=opt, loss='mse')\n",
    "    model.fit(transformed_X_train, y_train, validation_data=(transformed_X_val, y_val), epochs=10, verbose=0)\n",
    "    train_loss, val_loss = model.evaluate(transformed_X_train, y_train), model.evaluate(transformed_X_val, y_val)\n",
    "    print(basis, train_loss, val_loss)"
   ],
   "id": "f1d0246721ba13c7",
   "outputs": [
    {
     "name": "stdout",
     "output_type": "stream",
     "text": [
      "\u001B[1m875/875\u001B[0m \u001B[32m━━━━━━━━━━━━━━━━━━━━\u001B[0m\u001B[37m\u001B[0m \u001B[1m0s\u001B[0m 187us/step - loss: 0.8705\n",
      "\u001B[1m110/110\u001B[0m \u001B[32m━━━━━━━━━━━━━━━━━━━━\u001B[0m\u001B[37m\u001B[0m \u001B[1m0s\u001B[0m 206us/step - loss: 0.8961\n",
      "[<function normalize at 0x38ef3daf0>] 0.8870629668235779 0.8694994449615479\n",
      "\u001B[1m875/875\u001B[0m \u001B[32m━━━━━━━━━━━━━━━━━━━━\u001B[0m\u001B[37m\u001B[0m \u001B[1m0s\u001B[0m 188us/step - loss: 0.8607\n",
      "\u001B[1m110/110\u001B[0m \u001B[32m━━━━━━━━━━━━━━━━━━━━\u001B[0m\u001B[37m\u001B[0m \u001B[1m0s\u001B[0m 211us/step - loss: 0.8802\n",
      "[<function gaussian_basis at 0x3b3d63550>] 0.8777105212211609 0.8520484566688538\n",
      "\u001B[1m875/875\u001B[0m \u001B[32m━━━━━━━━━━━━━━━━━━━━\u001B[0m\u001B[37m\u001B[0m \u001B[1m0s\u001B[0m 189us/step - loss: 0.8657\n",
      "\u001B[1m110/110\u001B[0m \u001B[32m━━━━━━━━━━━━━━━━━━━━\u001B[0m\u001B[37m\u001B[0m \u001B[1m0s\u001B[0m 221us/step - loss: 0.8883\n",
      "[<function sigmoid at 0x38375dee0>] 0.882866621017456 0.8620593547821045\n",
      "\u001B[1m875/875\u001B[0m \u001B[32m━━━━━━━━━━━━━━━━━━━━\u001B[0m\u001B[37m\u001B[0m \u001B[1m0s\u001B[0m 189us/step - loss: 0.8679\n",
      "\u001B[1m110/110\u001B[0m \u001B[32m━━━━━━━━━━━━━━━━━━━━\u001B[0m\u001B[37m\u001B[0m \u001B[1m0s\u001B[0m 210us/step - loss: 0.8938\n",
      "[<function sigmoid at 0x38375dee0>, <function gaussian_basis at 0x3b3d63550>, <function normalize at 0x38ef3daf0>] 0.8849837779998779 0.8647343516349792\n"
     ]
    }
   ],
   "execution_count": 68
  },
  {
   "metadata": {
    "ExecuteTime": {
     "end_time": "2024-08-23T05:50:12.135187Z",
     "start_time": "2024-08-23T05:50:09.230259Z"
    }
   },
   "cell_type": "code",
   "source": [
    "opt = tf.keras.optimizers.Adam(learning_rate=0.001)\n",
    "model.compile(optimizer=opt, loss='mse')\n",
    "model.fit(transformed_X_train, y_train, validation_data=(transformed_X_val, y_val), epochs=10)"
   ],
   "id": "2b47c33d566cd0ef",
   "outputs": [
    {
     "name": "stdout",
     "output_type": "stream",
     "text": [
      "Epoch 1/10\n",
      "\u001B[1m875/875\u001B[0m \u001B[32m━━━━━━━━━━━━━━━━━━━━\u001B[0m\u001B[37m\u001B[0m \u001B[1m0s\u001B[0m 349us/step - loss: 1.3638 - val_loss: 1.0372\n",
      "Epoch 2/10\n",
      "\u001B[1m875/875\u001B[0m \u001B[32m━━━━━━━━━━━━━━━━━━━━\u001B[0m\u001B[37m\u001B[0m \u001B[1m0s\u001B[0m 296us/step - loss: 0.9448 - val_loss: 0.9532\n",
      "Epoch 3/10\n",
      "\u001B[1m875/875\u001B[0m \u001B[32m━━━━━━━━━━━━━━━━━━━━\u001B[0m\u001B[37m\u001B[0m \u001B[1m0s\u001B[0m 296us/step - loss: 0.9095 - val_loss: 0.9712\n",
      "Epoch 4/10\n",
      "\u001B[1m875/875\u001B[0m \u001B[32m━━━━━━━━━━━━━━━━━━━━\u001B[0m\u001B[37m\u001B[0m \u001B[1m0s\u001B[0m 291us/step - loss: 0.8788 - val_loss: 0.9324\n",
      "Epoch 5/10\n",
      "\u001B[1m875/875\u001B[0m \u001B[32m━━━━━━━━━━━━━━━━━━━━\u001B[0m\u001B[37m\u001B[0m \u001B[1m0s\u001B[0m 290us/step - loss: 0.8806 - val_loss: 0.8915\n",
      "Epoch 6/10\n",
      "\u001B[1m875/875\u001B[0m \u001B[32m━━━━━━━━━━━━━━━━━━━━\u001B[0m\u001B[37m\u001B[0m \u001B[1m0s\u001B[0m 289us/step - loss: 0.8550 - val_loss: 0.9437\n",
      "Epoch 7/10\n",
      "\u001B[1m875/875\u001B[0m \u001B[32m━━━━━━━━━━━━━━━━━━━━\u001B[0m\u001B[37m\u001B[0m \u001B[1m0s\u001B[0m 295us/step - loss: 0.8317 - val_loss: 0.8486\n",
      "Epoch 8/10\n",
      "\u001B[1m875/875\u001B[0m \u001B[32m━━━━━━━━━━━━━━━━━━━━\u001B[0m\u001B[37m\u001B[0m \u001B[1m0s\u001B[0m 292us/step - loss: 0.8230 - val_loss: 0.8512\n",
      "Epoch 9/10\n",
      "\u001B[1m875/875\u001B[0m \u001B[32m━━━━━━━━━━━━━━━━━━━━\u001B[0m\u001B[37m\u001B[0m \u001B[1m0s\u001B[0m 294us/step - loss: 0.8435 - val_loss: 0.8431\n",
      "Epoch 10/10\n",
      "\u001B[1m875/875\u001B[0m \u001B[32m━━━━━━━━━━━━━━━━━━━━\u001B[0m\u001B[37m\u001B[0m \u001B[1m0s\u001B[0m 301us/step - loss: 0.8142 - val_loss: 0.8732\n"
     ]
    },
    {
     "data": {
      "text/plain": [
       "<keras.src.callbacks.history.History at 0x381fb0f70>"
      ]
     },
     "execution_count": 40,
     "metadata": {},
     "output_type": "execute_result"
    }
   ],
   "execution_count": 40
  },
  {
   "metadata": {
    "ExecuteTime": {
     "end_time": "2024-08-23T07:12:49.563119Z",
     "start_time": "2024-08-23T07:12:49.532866Z"
    }
   },
   "cell_type": "code",
   "source": [
    "import tensorflow as tf\n",
    "\n",
    "# Add polynomial features\n",
    "def transform_input(X, basis):\n",
    "    transormed_X = np.hstack([basis[i](X) for i in range(len(basis))])\n",
    "    transormed_X = np.hstack([X, transormed_X])\n",
    "    return transormed_X\n",
    "\n",
    "def sigmoid(x):\n",
    "    return 1 / (1 + np.exp(-x))\n",
    "\n",
    "def gaussian_basis(x):\n",
    "    # Mean and variance\n",
    "    mu = np.mean(x)\n",
    "    sigma = np.std(x)\n",
    "    return np.exp(-0.5 * ((x - mu) / sigma)**2)\n",
    "\n",
    "basis = [gaussian_basis]\n",
    "\n",
    "transformed_X_train = transform_input(X_train, basis)\n",
    "transformed_X_val = transform_input(X_val, basis)\n",
    "\n",
    "model = tf.keras.models.Sequential([\n",
    "    tf.keras.Input(shape=(transformed_X_train.shape[1],)),\n",
    "    tf.keras.layers.Dense(1)\n",
    "])\n",
    "\n",
    "model.summary()"
   ],
   "id": "b0ae2f862bc0269d",
   "outputs": [
    {
     "data": {
      "text/plain": [
       "\u001B[1mModel: \"sequential_111\"\u001B[0m\n"
      ],
      "text/html": [
       "<pre style=\"white-space:pre;overflow-x:auto;line-height:normal;font-family:Menlo,'DejaVu Sans Mono',consolas,'Courier New',monospace\"><span style=\"font-weight: bold\">Model: \"sequential_111\"</span>\n",
       "</pre>\n"
      ]
     },
     "metadata": {},
     "output_type": "display_data"
    },
    {
     "data": {
      "text/plain": [
       "┏━━━━━━━━━━━━━━━━━━━━━━━━━━━━━━━━━┳━━━━━━━━━━━━━━━━━━━━━━━━┳━━━━━━━━━━━━━━━┓\n",
       "┃\u001B[1m \u001B[0m\u001B[1mLayer (type)                   \u001B[0m\u001B[1m \u001B[0m┃\u001B[1m \u001B[0m\u001B[1mOutput Shape          \u001B[0m\u001B[1m \u001B[0m┃\u001B[1m \u001B[0m\u001B[1m      Param #\u001B[0m\u001B[1m \u001B[0m┃\n",
       "┡━━━━━━━━━━━━━━━━━━━━━━━━━━━━━━━━━╇━━━━━━━━━━━━━━━━━━━━━━━━╇━━━━━━━━━━━━━━━┩\n",
       "│ dense_134 (\u001B[38;5;33mDense\u001B[0m)               │ (\u001B[38;5;45mNone\u001B[0m, \u001B[38;5;34m1\u001B[0m)              │           \u001B[38;5;34m129\u001B[0m │\n",
       "└─────────────────────────────────┴────────────────────────┴───────────────┘\n"
      ],
      "text/html": [
       "<pre style=\"white-space:pre;overflow-x:auto;line-height:normal;font-family:Menlo,'DejaVu Sans Mono',consolas,'Courier New',monospace\">┏━━━━━━━━━━━━━━━━━━━━━━━━━━━━━━━━━┳━━━━━━━━━━━━━━━━━━━━━━━━┳━━━━━━━━━━━━━━━┓\n",
       "┃<span style=\"font-weight: bold\"> Layer (type)                    </span>┃<span style=\"font-weight: bold\"> Output Shape           </span>┃<span style=\"font-weight: bold\">       Param # </span>┃\n",
       "┡━━━━━━━━━━━━━━━━━━━━━━━━━━━━━━━━━╇━━━━━━━━━━━━━━━━━━━━━━━━╇━━━━━━━━━━━━━━━┩\n",
       "│ dense_134 (<span style=\"color: #0087ff; text-decoration-color: #0087ff\">Dense</span>)               │ (<span style=\"color: #00d7ff; text-decoration-color: #00d7ff\">None</span>, <span style=\"color: #00af00; text-decoration-color: #00af00\">1</span>)              │           <span style=\"color: #00af00; text-decoration-color: #00af00\">129</span> │\n",
       "└─────────────────────────────────┴────────────────────────┴───────────────┘\n",
       "</pre>\n"
      ]
     },
     "metadata": {},
     "output_type": "display_data"
    },
    {
     "data": {
      "text/plain": [
       "\u001B[1m Total params: \u001B[0m\u001B[38;5;34m129\u001B[0m (516.00 B)\n"
      ],
      "text/html": [
       "<pre style=\"white-space:pre;overflow-x:auto;line-height:normal;font-family:Menlo,'DejaVu Sans Mono',consolas,'Courier New',monospace\"><span style=\"font-weight: bold\"> Total params: </span><span style=\"color: #00af00; text-decoration-color: #00af00\">129</span> (516.00 B)\n",
       "</pre>\n"
      ]
     },
     "metadata": {},
     "output_type": "display_data"
    },
    {
     "data": {
      "text/plain": [
       "\u001B[1m Trainable params: \u001B[0m\u001B[38;5;34m129\u001B[0m (516.00 B)\n"
      ],
      "text/html": [
       "<pre style=\"white-space:pre;overflow-x:auto;line-height:normal;font-family:Menlo,'DejaVu Sans Mono',consolas,'Courier New',monospace\"><span style=\"font-weight: bold\"> Trainable params: </span><span style=\"color: #00af00; text-decoration-color: #00af00\">129</span> (516.00 B)\n",
       "</pre>\n"
      ]
     },
     "metadata": {},
     "output_type": "display_data"
    },
    {
     "data": {
      "text/plain": [
       "\u001B[1m Non-trainable params: \u001B[0m\u001B[38;5;34m0\u001B[0m (0.00 B)\n"
      ],
      "text/html": [
       "<pre style=\"white-space:pre;overflow-x:auto;line-height:normal;font-family:Menlo,'DejaVu Sans Mono',consolas,'Courier New',monospace\"><span style=\"font-weight: bold\"> Non-trainable params: </span><span style=\"color: #00af00; text-decoration-color: #00af00\">0</span> (0.00 B)\n",
       "</pre>\n"
      ]
     },
     "metadata": {},
     "output_type": "display_data"
    }
   ],
   "execution_count": 214
  },
  {
   "metadata": {
    "ExecuteTime": {
     "end_time": "2024-08-23T07:13:32.103994Z",
     "start_time": "2024-08-23T07:13:05.310034Z"
    }
   },
   "cell_type": "code",
   "source": [
    "opt = tf.keras.optimizers.Adam(learning_rate=0.0001)\n",
    "model.compile(optimizer=opt, loss='mse')\n",
    "model.fit(transformed_X_train, y_train, validation_data=(transformed_X_val, y_val), epochs=100)"
   ],
   "id": "72800032e3ad2466",
   "outputs": [
    {
     "name": "stdout",
     "output_type": "stream",
     "text": [
      "Epoch 1/100\n",
      "\u001B[1m985/985\u001B[0m \u001B[32m━━━━━━━━━━━━━━━━━━━━\u001B[0m\u001B[37m\u001B[0m \u001B[1m0s\u001B[0m 344us/step - loss: 3.3207 - val_loss: 1.4445\n",
      "Epoch 2/100\n",
      "\u001B[1m985/985\u001B[0m \u001B[32m━━━━━━━━━━━━━━━━━━━━\u001B[0m\u001B[37m\u001B[0m \u001B[1m0s\u001B[0m 256us/step - loss: 1.3784 - val_loss: 1.3350\n",
      "Epoch 3/100\n",
      "\u001B[1m985/985\u001B[0m \u001B[32m━━━━━━━━━━━━━━━━━━━━\u001B[0m\u001B[37m\u001B[0m \u001B[1m0s\u001B[0m 253us/step - loss: 1.2782 - val_loss: 1.2485\n",
      "Epoch 4/100\n",
      "\u001B[1m985/985\u001B[0m \u001B[32m━━━━━━━━━━━━━━━━━━━━\u001B[0m\u001B[37m\u001B[0m \u001B[1m0s\u001B[0m 253us/step - loss: 1.2242 - val_loss: 1.1806\n",
      "Epoch 5/100\n",
      "\u001B[1m985/985\u001B[0m \u001B[32m━━━━━━━━━━━━━━━━━━━━\u001B[0m\u001B[37m\u001B[0m \u001B[1m0s\u001B[0m 248us/step - loss: 1.1312 - val_loss: 1.1279\n",
      "Epoch 6/100\n",
      "\u001B[1m985/985\u001B[0m \u001B[32m━━━━━━━━━━━━━━━━━━━━\u001B[0m\u001B[37m\u001B[0m \u001B[1m0s\u001B[0m 253us/step - loss: 1.0916 - val_loss: 1.0818\n",
      "Epoch 7/100\n",
      "\u001B[1m985/985\u001B[0m \u001B[32m━━━━━━━━━━━━━━━━━━━━\u001B[0m\u001B[37m\u001B[0m \u001B[1m0s\u001B[0m 248us/step - loss: 1.0511 - val_loss: 1.0465\n",
      "Epoch 8/100\n",
      "\u001B[1m985/985\u001B[0m \u001B[32m━━━━━━━━━━━━━━━━━━━━\u001B[0m\u001B[37m\u001B[0m \u001B[1m0s\u001B[0m 252us/step - loss: 1.0085 - val_loss: 1.0163\n",
      "Epoch 9/100\n",
      "\u001B[1m985/985\u001B[0m \u001B[32m━━━━━━━━━━━━━━━━━━━━\u001B[0m\u001B[37m\u001B[0m \u001B[1m0s\u001B[0m 254us/step - loss: 0.9937 - val_loss: 0.9920\n",
      "Epoch 10/100\n",
      "\u001B[1m985/985\u001B[0m \u001B[32m━━━━━━━━━━━━━━━━━━━━\u001B[0m\u001B[37m\u001B[0m \u001B[1m0s\u001B[0m 260us/step - loss: 0.9806 - val_loss: 0.9714\n",
      "Epoch 11/100\n",
      "\u001B[1m985/985\u001B[0m \u001B[32m━━━━━━━━━━━━━━━━━━━━\u001B[0m\u001B[37m\u001B[0m \u001B[1m0s\u001B[0m 261us/step - loss: 0.9652 - val_loss: 0.9547\n",
      "Epoch 12/100\n",
      "\u001B[1m985/985\u001B[0m \u001B[32m━━━━━━━━━━━━━━━━━━━━\u001B[0m\u001B[37m\u001B[0m \u001B[1m0s\u001B[0m 259us/step - loss: 0.9458 - val_loss: 0.9405\n",
      "Epoch 13/100\n",
      "\u001B[1m985/985\u001B[0m \u001B[32m━━━━━━━━━━━━━━━━━━━━\u001B[0m\u001B[37m\u001B[0m \u001B[1m0s\u001B[0m 260us/step - loss: 0.9507 - val_loss: 0.9318\n",
      "Epoch 14/100\n",
      "\u001B[1m985/985\u001B[0m \u001B[32m━━━━━━━━━━━━━━━━━━━━\u001B[0m\u001B[37m\u001B[0m \u001B[1m0s\u001B[0m 268us/step - loss: 0.9287 - val_loss: 0.9219\n",
      "Epoch 15/100\n",
      "\u001B[1m985/985\u001B[0m \u001B[32m━━━━━━━━━━━━━━━━━━━━\u001B[0m\u001B[37m\u001B[0m \u001B[1m0s\u001B[0m 261us/step - loss: 0.9134 - val_loss: 0.9119\n",
      "Epoch 16/100\n",
      "\u001B[1m985/985\u001B[0m \u001B[32m━━━━━━━━━━━━━━━━━━━━\u001B[0m\u001B[37m\u001B[0m \u001B[1m0s\u001B[0m 267us/step - loss: 0.9074 - val_loss: 0.9056\n",
      "Epoch 17/100\n",
      "\u001B[1m985/985\u001B[0m \u001B[32m━━━━━━━━━━━━━━━━━━━━\u001B[0m\u001B[37m\u001B[0m \u001B[1m0s\u001B[0m 261us/step - loss: 0.9017 - val_loss: 0.8995\n",
      "Epoch 18/100\n",
      "\u001B[1m985/985\u001B[0m \u001B[32m━━━━━━━━━━━━━━━━━━━━\u001B[0m\u001B[37m\u001B[0m \u001B[1m0s\u001B[0m 260us/step - loss: 0.9041 - val_loss: 0.8954\n",
      "Epoch 19/100\n",
      "\u001B[1m985/985\u001B[0m \u001B[32m━━━━━━━━━━━━━━━━━━━━\u001B[0m\u001B[37m\u001B[0m \u001B[1m0s\u001B[0m 260us/step - loss: 0.9011 - val_loss: 0.8911\n",
      "Epoch 20/100\n",
      "\u001B[1m985/985\u001B[0m \u001B[32m━━━━━━━━━━━━━━━━━━━━\u001B[0m\u001B[37m\u001B[0m \u001B[1m0s\u001B[0m 264us/step - loss: 0.8922 - val_loss: 0.8877\n",
      "Epoch 21/100\n",
      "\u001B[1m985/985\u001B[0m \u001B[32m━━━━━━━━━━━━━━━━━━━━\u001B[0m\u001B[37m\u001B[0m \u001B[1m0s\u001B[0m 264us/step - loss: 0.8963 - val_loss: 0.8861\n",
      "Epoch 22/100\n",
      "\u001B[1m985/985\u001B[0m \u001B[32m━━━━━━━━━━━━━━━━━━━━\u001B[0m\u001B[37m\u001B[0m \u001B[1m0s\u001B[0m 272us/step - loss: 0.8979 - val_loss: 0.8822\n",
      "Epoch 23/100\n",
      "\u001B[1m985/985\u001B[0m \u001B[32m━━━━━━━━━━━━━━━━━━━━\u001B[0m\u001B[37m\u001B[0m \u001B[1m0s\u001B[0m 264us/step - loss: 0.8853 - val_loss: 0.8811\n",
      "Epoch 24/100\n",
      "\u001B[1m985/985\u001B[0m \u001B[32m━━━━━━━━━━━━━━━━━━━━\u001B[0m\u001B[37m\u001B[0m \u001B[1m0s\u001B[0m 262us/step - loss: 0.8810 - val_loss: 0.8791\n",
      "Epoch 25/100\n",
      "\u001B[1m985/985\u001B[0m \u001B[32m━━━━━━━━━━━━━━━━━━━━\u001B[0m\u001B[37m\u001B[0m \u001B[1m0s\u001B[0m 258us/step - loss: 0.8789 - val_loss: 0.8770\n",
      "Epoch 26/100\n",
      "\u001B[1m985/985\u001B[0m \u001B[32m━━━━━━━━━━━━━━━━━━━━\u001B[0m\u001B[37m\u001B[0m \u001B[1m0s\u001B[0m 260us/step - loss: 0.9060 - val_loss: 0.8762\n",
      "Epoch 27/100\n",
      "\u001B[1m985/985\u001B[0m \u001B[32m━━━━━━━━━━━━━━━━━━━━\u001B[0m\u001B[37m\u001B[0m \u001B[1m0s\u001B[0m 260us/step - loss: 0.8769 - val_loss: 0.8758\n",
      "Epoch 28/100\n",
      "\u001B[1m985/985\u001B[0m \u001B[32m━━━━━━━━━━━━━━━━━━━━\u001B[0m\u001B[37m\u001B[0m \u001B[1m0s\u001B[0m 259us/step - loss: 0.8884 - val_loss: 0.8745\n",
      "Epoch 29/100\n",
      "\u001B[1m985/985\u001B[0m \u001B[32m━━━━━━━━━━━━━━━━━━━━\u001B[0m\u001B[37m\u001B[0m \u001B[1m0s\u001B[0m 271us/step - loss: 0.8828 - val_loss: 0.8731\n",
      "Epoch 30/100\n",
      "\u001B[1m985/985\u001B[0m \u001B[32m━━━━━━━━━━━━━━━━━━━━\u001B[0m\u001B[37m\u001B[0m \u001B[1m0s\u001B[0m 260us/step - loss: 0.8784 - val_loss: 0.8726\n",
      "Epoch 31/100\n",
      "\u001B[1m985/985\u001B[0m \u001B[32m━━━━━━━━━━━━━━━━━━━━\u001B[0m\u001B[37m\u001B[0m \u001B[1m0s\u001B[0m 262us/step - loss: 0.8863 - val_loss: 0.8718\n",
      "Epoch 32/100\n",
      "\u001B[1m985/985\u001B[0m \u001B[32m━━━━━━━━━━━━━━━━━━━━\u001B[0m\u001B[37m\u001B[0m \u001B[1m0s\u001B[0m 259us/step - loss: 0.8894 - val_loss: 0.8721\n",
      "Epoch 33/100\n",
      "\u001B[1m985/985\u001B[0m \u001B[32m━━━━━━━━━━━━━━━━━━━━\u001B[0m\u001B[37m\u001B[0m \u001B[1m0s\u001B[0m 261us/step - loss: 0.8856 - val_loss: 0.8709\n",
      "Epoch 34/100\n",
      "\u001B[1m985/985\u001B[0m \u001B[32m━━━━━━━━━━━━━━━━━━━━\u001B[0m\u001B[37m\u001B[0m \u001B[1m0s\u001B[0m 259us/step - loss: 0.8702 - val_loss: 0.8702\n",
      "Epoch 35/100\n",
      "\u001B[1m985/985\u001B[0m \u001B[32m━━━━━━━━━━━━━━━━━━━━\u001B[0m\u001B[37m\u001B[0m \u001B[1m0s\u001B[0m 263us/step - loss: 0.8668 - val_loss: 0.8705\n",
      "Epoch 36/100\n",
      "\u001B[1m985/985\u001B[0m \u001B[32m━━━━━━━━━━━━━━━━━━━━\u001B[0m\u001B[37m\u001B[0m \u001B[1m0s\u001B[0m 261us/step - loss: 0.8770 - val_loss: 0.8696\n",
      "Epoch 37/100\n",
      "\u001B[1m985/985\u001B[0m \u001B[32m━━━━━━━━━━━━━━━━━━━━\u001B[0m\u001B[37m\u001B[0m \u001B[1m0s\u001B[0m 263us/step - loss: 0.8893 - val_loss: 0.8697\n",
      "Epoch 38/100\n",
      "\u001B[1m985/985\u001B[0m \u001B[32m━━━━━━━━━━━━━━━━━━━━\u001B[0m\u001B[37m\u001B[0m \u001B[1m0s\u001B[0m 259us/step - loss: 0.8903 - val_loss: 0.8696\n",
      "Epoch 39/100\n",
      "\u001B[1m985/985\u001B[0m \u001B[32m━━━━━━━━━━━━━━━━━━━━\u001B[0m\u001B[37m\u001B[0m \u001B[1m0s\u001B[0m 261us/step - loss: 0.8714 - val_loss: 0.8701\n",
      "Epoch 40/100\n",
      "\u001B[1m985/985\u001B[0m \u001B[32m━━━━━━━━━━━━━━━━━━━━\u001B[0m\u001B[37m\u001B[0m \u001B[1m0s\u001B[0m 258us/step - loss: 0.8941 - val_loss: 0.8689\n",
      "Epoch 41/100\n",
      "\u001B[1m985/985\u001B[0m \u001B[32m━━━━━━━━━━━━━━━━━━━━\u001B[0m\u001B[37m\u001B[0m \u001B[1m0s\u001B[0m 260us/step - loss: 0.8711 - val_loss: 0.8685\n",
      "Epoch 42/100\n",
      "\u001B[1m985/985\u001B[0m \u001B[32m━━━━━━━━━━━━━━━━━━━━\u001B[0m\u001B[37m\u001B[0m \u001B[1m0s\u001B[0m 264us/step - loss: 0.8936 - val_loss: 0.8684\n",
      "Epoch 43/100\n",
      "\u001B[1m985/985\u001B[0m \u001B[32m━━━━━━━━━━━━━━━━━━━━\u001B[0m\u001B[37m\u001B[0m \u001B[1m0s\u001B[0m 263us/step - loss: 0.8632 - val_loss: 0.8685\n",
      "Epoch 44/100\n",
      "\u001B[1m985/985\u001B[0m \u001B[32m━━━━━━━━━━━━━━━━━━━━\u001B[0m\u001B[37m\u001B[0m \u001B[1m0s\u001B[0m 259us/step - loss: 0.8699 - val_loss: 0.8682\n",
      "Epoch 45/100\n",
      "\u001B[1m985/985\u001B[0m \u001B[32m━━━━━━━━━━━━━━━━━━━━\u001B[0m\u001B[37m\u001B[0m \u001B[1m0s\u001B[0m 259us/step - loss: 0.8823 - val_loss: 0.8687\n",
      "Epoch 46/100\n",
      "\u001B[1m985/985\u001B[0m \u001B[32m━━━━━━━━━━━━━━━━━━━━\u001B[0m\u001B[37m\u001B[0m \u001B[1m0s\u001B[0m 256us/step - loss: 0.8813 - val_loss: 0.8691\n",
      "Epoch 47/100\n",
      "\u001B[1m985/985\u001B[0m \u001B[32m━━━━━━━━━━━━━━━━━━━━\u001B[0m\u001B[37m\u001B[0m \u001B[1m0s\u001B[0m 265us/step - loss: 0.8703 - val_loss: 0.8682\n",
      "Epoch 48/100\n",
      "\u001B[1m985/985\u001B[0m \u001B[32m━━━━━━━━━━━━━━━━━━━━\u001B[0m\u001B[37m\u001B[0m \u001B[1m0s\u001B[0m 262us/step - loss: 0.8692 - val_loss: 0.8677\n",
      "Epoch 49/100\n",
      "\u001B[1m985/985\u001B[0m \u001B[32m━━━━━━━━━━━━━━━━━━━━\u001B[0m\u001B[37m\u001B[0m \u001B[1m0s\u001B[0m 260us/step - loss: 0.8730 - val_loss: 0.8678\n",
      "Epoch 50/100\n",
      "\u001B[1m985/985\u001B[0m \u001B[32m━━━━━━━━━━━━━━━━━━━━\u001B[0m\u001B[37m\u001B[0m \u001B[1m0s\u001B[0m 262us/step - loss: 0.8783 - val_loss: 0.8677\n",
      "Epoch 51/100\n",
      "\u001B[1m985/985\u001B[0m \u001B[32m━━━━━━━━━━━━━━━━━━━━\u001B[0m\u001B[37m\u001B[0m \u001B[1m0s\u001B[0m 261us/step - loss: 0.8776 - val_loss: 0.8691\n",
      "Epoch 52/100\n",
      "\u001B[1m985/985\u001B[0m \u001B[32m━━━━━━━━━━━━━━━━━━━━\u001B[0m\u001B[37m\u001B[0m \u001B[1m0s\u001B[0m 264us/step - loss: 0.8719 - val_loss: 0.8681\n",
      "Epoch 53/100\n",
      "\u001B[1m985/985\u001B[0m \u001B[32m━━━━━━━━━━━━━━━━━━━━\u001B[0m\u001B[37m\u001B[0m \u001B[1m0s\u001B[0m 260us/step - loss: 0.8642 - val_loss: 0.8678\n",
      "Epoch 54/100\n",
      "\u001B[1m985/985\u001B[0m \u001B[32m━━━━━━━━━━━━━━━━━━━━\u001B[0m\u001B[37m\u001B[0m \u001B[1m0s\u001B[0m 265us/step - loss: 0.8787 - val_loss: 0.8679\n",
      "Epoch 55/100\n",
      "\u001B[1m985/985\u001B[0m \u001B[32m━━━━━━━━━━━━━━━━━━━━\u001B[0m\u001B[37m\u001B[0m \u001B[1m0s\u001B[0m 261us/step - loss: 0.8862 - val_loss: 0.8676\n",
      "Epoch 56/100\n",
      "\u001B[1m985/985\u001B[0m \u001B[32m━━━━━━━━━━━━━━━━━━━━\u001B[0m\u001B[37m\u001B[0m \u001B[1m0s\u001B[0m 262us/step - loss: 0.8719 - val_loss: 0.8674\n",
      "Epoch 57/100\n",
      "\u001B[1m985/985\u001B[0m \u001B[32m━━━━━━━━━━━━━━━━━━━━\u001B[0m\u001B[37m\u001B[0m \u001B[1m0s\u001B[0m 256us/step - loss: 0.8867 - val_loss: 0.8690\n",
      "Epoch 58/100\n",
      "\u001B[1m985/985\u001B[0m \u001B[32m━━━━━━━━━━━━━━━━━━━━\u001B[0m\u001B[37m\u001B[0m \u001B[1m0s\u001B[0m 265us/step - loss: 0.8762 - val_loss: 0.8673\n",
      "Epoch 59/100\n",
      "\u001B[1m985/985\u001B[0m \u001B[32m━━━━━━━━━━━━━━━━━━━━\u001B[0m\u001B[37m\u001B[0m \u001B[1m0s\u001B[0m 258us/step - loss: 0.8781 - val_loss: 0.8677\n",
      "Epoch 60/100\n",
      "\u001B[1m985/985\u001B[0m \u001B[32m━━━━━━━━━━━━━━━━━━━━\u001B[0m\u001B[37m\u001B[0m \u001B[1m0s\u001B[0m 265us/step - loss: 0.8645 - val_loss: 0.8710\n",
      "Epoch 61/100\n",
      "\u001B[1m985/985\u001B[0m \u001B[32m━━━━━━━━━━━━━━━━━━━━\u001B[0m\u001B[37m\u001B[0m \u001B[1m0s\u001B[0m 260us/step - loss: 0.8807 - val_loss: 0.8680\n",
      "Epoch 62/100\n",
      "\u001B[1m985/985\u001B[0m \u001B[32m━━━━━━━━━━━━━━━━━━━━\u001B[0m\u001B[37m\u001B[0m \u001B[1m0s\u001B[0m 263us/step - loss: 0.8786 - val_loss: 0.8674\n",
      "Epoch 63/100\n",
      "\u001B[1m985/985\u001B[0m \u001B[32m━━━━━━━━━━━━━━━━━━━━\u001B[0m\u001B[37m\u001B[0m \u001B[1m0s\u001B[0m 261us/step - loss: 0.8830 - val_loss: 0.8675\n",
      "Epoch 64/100\n",
      "\u001B[1m985/985\u001B[0m \u001B[32m━━━━━━━━━━━━━━━━━━━━\u001B[0m\u001B[37m\u001B[0m \u001B[1m0s\u001B[0m 259us/step - loss: 0.8762 - val_loss: 0.8675\n",
      "Epoch 65/100\n",
      "\u001B[1m985/985\u001B[0m \u001B[32m━━━━━━━━━━━━━━━━━━━━\u001B[0m\u001B[37m\u001B[0m \u001B[1m0s\u001B[0m 258us/step - loss: 0.8861 - val_loss: 0.8674\n",
      "Epoch 66/100\n",
      "\u001B[1m985/985\u001B[0m \u001B[32m━━━━━━━━━━━━━━━━━━━━\u001B[0m\u001B[37m\u001B[0m \u001B[1m0s\u001B[0m 265us/step - loss: 0.8792 - val_loss: 0.8670\n",
      "Epoch 67/100\n",
      "\u001B[1m985/985\u001B[0m \u001B[32m━━━━━━━━━━━━━━━━━━━━\u001B[0m\u001B[37m\u001B[0m \u001B[1m0s\u001B[0m 260us/step - loss: 0.8819 - val_loss: 0.8677\n",
      "Epoch 68/100\n",
      "\u001B[1m985/985\u001B[0m \u001B[32m━━━━━━━━━━━━━━━━━━━━\u001B[0m\u001B[37m\u001B[0m \u001B[1m0s\u001B[0m 262us/step - loss: 0.8704 - val_loss: 0.8668\n",
      "Epoch 69/100\n",
      "\u001B[1m985/985\u001B[0m \u001B[32m━━━━━━━━━━━━━━━━━━━━\u001B[0m\u001B[37m\u001B[0m \u001B[1m0s\u001B[0m 265us/step - loss: 0.8904 - val_loss: 0.8671\n",
      "Epoch 70/100\n",
      "\u001B[1m985/985\u001B[0m \u001B[32m━━━━━━━━━━━━━━━━━━━━\u001B[0m\u001B[37m\u001B[0m \u001B[1m0s\u001B[0m 261us/step - loss: 0.8776 - val_loss: 0.8676\n",
      "Epoch 71/100\n",
      "\u001B[1m985/985\u001B[0m \u001B[32m━━━━━━━━━━━━━━━━━━━━\u001B[0m\u001B[37m\u001B[0m \u001B[1m0s\u001B[0m 262us/step - loss: 0.8804 - val_loss: 0.8676\n",
      "Epoch 72/100\n",
      "\u001B[1m985/985\u001B[0m \u001B[32m━━━━━━━━━━━━━━━━━━━━\u001B[0m\u001B[37m\u001B[0m \u001B[1m0s\u001B[0m 261us/step - loss: 0.8665 - val_loss: 0.8667\n",
      "Epoch 73/100\n",
      "\u001B[1m985/985\u001B[0m \u001B[32m━━━━━━━━━━━━━━━━━━━━\u001B[0m\u001B[37m\u001B[0m \u001B[1m0s\u001B[0m 262us/step - loss: 0.8711 - val_loss: 0.8668\n",
      "Epoch 74/100\n",
      "\u001B[1m985/985\u001B[0m \u001B[32m━━━━━━━━━━━━━━━━━━━━\u001B[0m\u001B[37m\u001B[0m \u001B[1m0s\u001B[0m 258us/step - loss: 0.8688 - val_loss: 0.8667\n",
      "Epoch 75/100\n",
      "\u001B[1m985/985\u001B[0m \u001B[32m━━━━━━━━━━━━━━━━━━━━\u001B[0m\u001B[37m\u001B[0m \u001B[1m0s\u001B[0m 261us/step - loss: 0.8703 - val_loss: 0.8689\n",
      "Epoch 76/100\n",
      "\u001B[1m985/985\u001B[0m \u001B[32m━━━━━━━━━━━━━━━━━━━━\u001B[0m\u001B[37m\u001B[0m \u001B[1m0s\u001B[0m 256us/step - loss: 0.8811 - val_loss: 0.8668\n",
      "Epoch 77/100\n",
      "\u001B[1m985/985\u001B[0m \u001B[32m━━━━━━━━━━━━━━━━━━━━\u001B[0m\u001B[37m\u001B[0m \u001B[1m0s\u001B[0m 266us/step - loss: 0.8867 - val_loss: 0.8671\n",
      "Epoch 78/100\n",
      "\u001B[1m985/985\u001B[0m \u001B[32m━━━━━━━━━━━━━━━━━━━━\u001B[0m\u001B[37m\u001B[0m \u001B[1m0s\u001B[0m 268us/step - loss: 0.8764 - val_loss: 0.8672\n",
      "Epoch 79/100\n",
      "\u001B[1m985/985\u001B[0m \u001B[32m━━━━━━━━━━━━━━━━━━━━\u001B[0m\u001B[37m\u001B[0m \u001B[1m0s\u001B[0m 265us/step - loss: 0.8724 - val_loss: 0.8683\n",
      "Epoch 80/100\n",
      "\u001B[1m985/985\u001B[0m \u001B[32m━━━━━━━━━━━━━━━━━━━━\u001B[0m\u001B[37m\u001B[0m \u001B[1m0s\u001B[0m 271us/step - loss: 0.8842 - val_loss: 0.8680\n",
      "Epoch 81/100\n",
      "\u001B[1m985/985\u001B[0m \u001B[32m━━━━━━━━━━━━━━━━━━━━\u001B[0m\u001B[37m\u001B[0m \u001B[1m0s\u001B[0m 270us/step - loss: 0.8747 - val_loss: 0.8670\n",
      "Epoch 82/100\n",
      "\u001B[1m985/985\u001B[0m \u001B[32m━━━━━━━━━━━━━━━━━━━━\u001B[0m\u001B[37m\u001B[0m \u001B[1m0s\u001B[0m 265us/step - loss: 0.8720 - val_loss: 0.8665\n",
      "Epoch 83/100\n",
      "\u001B[1m985/985\u001B[0m \u001B[32m━━━━━━━━━━━━━━━━━━━━\u001B[0m\u001B[37m\u001B[0m \u001B[1m0s\u001B[0m 267us/step - loss: 0.8739 - val_loss: 0.8667\n",
      "Epoch 84/100\n",
      "\u001B[1m985/985\u001B[0m \u001B[32m━━━━━━━━━━━━━━━━━━━━\u001B[0m\u001B[37m\u001B[0m \u001B[1m0s\u001B[0m 271us/step - loss: 0.8828 - val_loss: 0.8671\n",
      "Epoch 85/100\n",
      "\u001B[1m985/985\u001B[0m \u001B[32m━━━━━━━━━━━━━━━━━━━━\u001B[0m\u001B[37m\u001B[0m \u001B[1m0s\u001B[0m 261us/step - loss: 0.8790 - val_loss: 0.8669\n",
      "Epoch 86/100\n",
      "\u001B[1m985/985\u001B[0m \u001B[32m━━━━━━━━━━━━━━━━━━━━\u001B[0m\u001B[37m\u001B[0m \u001B[1m0s\u001B[0m 258us/step - loss: 0.8601 - val_loss: 0.8685\n",
      "Epoch 87/100\n",
      "\u001B[1m985/985\u001B[0m \u001B[32m━━━━━━━━━━━━━━━━━━━━\u001B[0m\u001B[37m\u001B[0m \u001B[1m0s\u001B[0m 260us/step - loss: 0.8786 - val_loss: 0.8683\n",
      "Epoch 88/100\n",
      "\u001B[1m985/985\u001B[0m \u001B[32m━━━━━━━━━━━━━━━━━━━━\u001B[0m\u001B[37m\u001B[0m \u001B[1m0s\u001B[0m 259us/step - loss: 0.8759 - val_loss: 0.8667\n",
      "Epoch 89/100\n",
      "\u001B[1m985/985\u001B[0m \u001B[32m━━━━━━━━━━━━━━━━━━━━\u001B[0m\u001B[37m\u001B[0m \u001B[1m0s\u001B[0m 259us/step - loss: 0.8769 - val_loss: 0.8667\n",
      "Epoch 90/100\n",
      "\u001B[1m985/985\u001B[0m \u001B[32m━━━━━━━━━━━━━━━━━━━━\u001B[0m\u001B[37m\u001B[0m \u001B[1m0s\u001B[0m 259us/step - loss: 0.8788 - val_loss: 0.8666\n",
      "Epoch 91/100\n",
      "\u001B[1m985/985\u001B[0m \u001B[32m━━━━━━━━━━━━━━━━━━━━\u001B[0m\u001B[37m\u001B[0m \u001B[1m0s\u001B[0m 257us/step - loss: 0.8724 - val_loss: 0.8667\n",
      "Epoch 92/100\n",
      "\u001B[1m985/985\u001B[0m \u001B[32m━━━━━━━━━━━━━━━━━━━━\u001B[0m\u001B[37m\u001B[0m \u001B[1m0s\u001B[0m 264us/step - loss: 0.8815 - val_loss: 0.8667\n",
      "Epoch 93/100\n",
      "\u001B[1m985/985\u001B[0m \u001B[32m━━━━━━━━━━━━━━━━━━━━\u001B[0m\u001B[37m\u001B[0m \u001B[1m0s\u001B[0m 258us/step - loss: 0.8773 - val_loss: 0.8664\n",
      "Epoch 94/100\n",
      "\u001B[1m985/985\u001B[0m \u001B[32m━━━━━━━━━━━━━━━━━━━━\u001B[0m\u001B[37m\u001B[0m \u001B[1m0s\u001B[0m 264us/step - loss: 0.8775 - val_loss: 0.8664\n",
      "Epoch 95/100\n",
      "\u001B[1m985/985\u001B[0m \u001B[32m━━━━━━━━━━━━━━━━━━━━\u001B[0m\u001B[37m\u001B[0m \u001B[1m0s\u001B[0m 260us/step - loss: 0.8723 - val_loss: 0.8664\n",
      "Epoch 96/100\n",
      "\u001B[1m985/985\u001B[0m \u001B[32m━━━━━━━━━━━━━━━━━━━━\u001B[0m\u001B[37m\u001B[0m \u001B[1m0s\u001B[0m 272us/step - loss: 0.8813 - val_loss: 0.8665\n",
      "Epoch 97/100\n",
      "\u001B[1m985/985\u001B[0m \u001B[32m━━━━━━━━━━━━━━━━━━━━\u001B[0m\u001B[37m\u001B[0m \u001B[1m0s\u001B[0m 268us/step - loss: 0.8668 - val_loss: 0.8684\n",
      "Epoch 98/100\n",
      "\u001B[1m985/985\u001B[0m \u001B[32m━━━━━━━━━━━━━━━━━━━━\u001B[0m\u001B[37m\u001B[0m \u001B[1m0s\u001B[0m 270us/step - loss: 0.8848 - val_loss: 0.8666\n",
      "Epoch 99/100\n",
      "\u001B[1m985/985\u001B[0m \u001B[32m━━━━━━━━━━━━━━━━━━━━\u001B[0m\u001B[37m\u001B[0m \u001B[1m0s\u001B[0m 271us/step - loss: 0.8650 - val_loss: 0.8664\n",
      "Epoch 100/100\n",
      "\u001B[1m985/985\u001B[0m \u001B[32m━━━━━━━━━━━━━━━━━━━━\u001B[0m\u001B[37m\u001B[0m \u001B[1m0s\u001B[0m 267us/step - loss: 0.8644 - val_loss: 0.8665\n"
     ]
    },
    {
     "data": {
      "text/plain": [
       "<keras.src.callbacks.history.History at 0x3b21817c0>"
      ]
     },
     "execution_count": 215,
     "metadata": {},
     "output_type": "execute_result"
    }
   ],
   "execution_count": 215
  },
  {
   "metadata": {
    "ExecuteTime": {
     "end_time": "2024-08-23T07:13:35.042685Z",
     "start_time": "2024-08-23T07:13:34.974191Z"
    }
   },
   "cell_type": "code",
   "source": [
    "# RMSE\n",
    "rmse = tf.keras.metrics.RootMeanSquaredError()\n",
    "rmse.update_state(y_val, model.predict(transformed_X_val))\n",
    "rmse.result().numpy()"
   ],
   "id": "d6195f3c11d05e9c",
   "outputs": [
    {
     "name": "stdout",
     "output_type": "stream",
     "text": [
      "\u001B[1m110/110\u001B[0m \u001B[32m━━━━━━━━━━━━━━━━━━━━\u001B[0m\u001B[37m\u001B[0m \u001B[1m0s\u001B[0m 248us/step\n"
     ]
    },
    {
     "data": {
      "text/plain": [
       "0.93085057"
      ]
     },
     "execution_count": 216,
     "metadata": {},
     "output_type": "execute_result"
    }
   ],
   "execution_count": 216
  },
  {
   "metadata": {},
   "cell_type": "markdown",
   "source": [
    "0.92 current best rmse on val set submitted\n",
    "0.87 ideally should be the best rmse on val set"
   ],
   "id": "17cadff8693a8a59"
  },
  {
   "metadata": {},
   "cell_type": "code",
   "outputs": [],
   "execution_count": null,
   "source": "",
   "id": "8ec6cb201d3ede94"
  }
 ],
 "metadata": {
  "kernelspec": {
   "display_name": "Python 3",
   "language": "python",
   "name": "python3"
  },
  "language_info": {
   "codemirror_mode": {
    "name": "ipython",
    "version": 2
   },
   "file_extension": ".py",
   "mimetype": "text/x-python",
   "name": "python",
   "nbconvert_exporter": "python",
   "pygments_lexer": "ipython2",
   "version": "2.7.6"
  }
 },
 "nbformat": 4,
 "nbformat_minor": 5
}
