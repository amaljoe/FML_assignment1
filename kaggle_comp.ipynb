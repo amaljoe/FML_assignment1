{
 "cells": [
  {
   "cell_type": "code",
   "id": "initial_id",
   "metadata": {
    "collapsed": true,
    "ExecuteTime": {
     "end_time": "2024-08-24T14:35:22.007140Z",
     "start_time": "2024-08-24T14:35:22.003232Z"
    }
   },
   "source": [
    "import numpy as np\n",
    "import pandas as pd\n",
    "import matplotlib.pyplot as plt\n",
    "\n",
    "np.set_printoptions(precision=3, suppress=True)"
   ],
   "outputs": [],
   "execution_count": 161
  },
  {
   "metadata": {
    "ExecuteTime": {
     "end_time": "2024-08-24T14:35:23.763028Z",
     "start_time": "2024-08-24T14:35:23.484945Z"
    }
   },
   "cell_type": "code",
   "source": [
    "# Load the data\n",
    "train = pd.read_csv('iitb-cs-725-1-2024/train.csv')\n",
    "test = pd.read_csv('iitb-cs-725-1-2024/test.csv')\n",
    "sample = pd.read_csv('iitb-cs-725-1-2024/sample.csv')"
   ],
   "id": "e22c4fd90e032e7a",
   "outputs": [],
   "execution_count": 162
  },
  {
   "metadata": {
    "ExecuteTime": {
     "end_time": "2024-08-24T14:35:33.348441Z",
     "start_time": "2024-08-24T14:35:33.330411Z"
    }
   },
   "cell_type": "code",
   "source": [
    "# Create datasets\n",
    "def create_datasets(data):\n",
    "    X = data.drop(['score', 'ID'], axis=1)\n",
    "    y = data['score']\n",
    "    X = np.array(X)\n",
    "    y = np.array(y).reshape(-1, 1)\n",
    "    return X, y\n",
    "\n",
    "# Shuffle the data\n",
    "train = train.sample(frac=1).reset_index(drop=True)\n",
    "\n",
    "n_train = int(0.8 * train.shape[0])\n",
    "n_val = int(0.9 * train.shape[0])\n",
    "X_train, y_train = create_datasets(train[:n_train])\n",
    "X_val, y_val = create_datasets(train[n_train:n_val])\n",
    "X_test, y_test = create_datasets(train[n_val:])\n",
    "\n",
    "X_train.shape, X_val.shape, X_test.shape"
   ],
   "id": "51514d8dfadf7680",
   "outputs": [
    {
     "data": {
      "text/plain": [
       "((27990, 64), (3499, 64), (3499, 64))"
      ]
     },
     "execution_count": 163,
     "metadata": {},
     "output_type": "execute_result"
    }
   ],
   "execution_count": 163
  },
  {
   "metadata": {
    "ExecuteTime": {
     "end_time": "2024-08-24T14:38:27.757120Z",
     "start_time": "2024-08-24T14:38:27.750612Z"
    }
   },
   "cell_type": "code",
   "source": [
    "def predict(X, W):\n",
    "    return X @ W\n",
    "\n",
    "def mse(y_true, y_pred):\n",
    "    return np.mean((y_true - y_pred)**2)\n",
    "\n",
    "def rmse(y_true, y_pred):\n",
    "    return np.sqrt(mse(y_true, y_pred))\n",
    "\n",
    "def compute_gradients(X, y, y_pred):\n",
    "    dW = -2 * X.T @ (y - y_pred) / X.shape[0]\n",
    "    return dW\n",
    "\n",
    "def fit(X, y, W, Xval, yval, lr=0.01, epochs=100, print_every=100):\n",
    "    # Error list\n",
    "    errors = []\n",
    "    val_errors = []\n",
    "    best_val_error = float('inf')\n",
    "    best_W = None\n",
    "    \n",
    "    for i in range(epochs):\n",
    "        y_pred = predict(X, W)\n",
    "        loss = mse(y, y_pred)\n",
    "        \n",
    "        y_val_pred = predict(Xval, W)\n",
    "        val_loss = mse(yval, y_val_pred)\n",
    "        \n",
    "        y_val_pred_rounded = y_val_pred.round()\n",
    "        val_rounded_loss = mse(yval, y_val_pred_rounded)\n",
    "        \n",
    "        dW = compute_gradients(X, y, y_pred)\n",
    "        W -= lr * dW\n",
    "        if i % print_every == 0 or i == epochs - 1:\n",
    "            print(f'Epoch {i}, Loss: {loss}, Val Loss: {val_loss}, Val Rounded Loss: {val_rounded_loss}')\n",
    "        errors.append(loss)\n",
    "        val_errors.append(val_loss)\n",
    "        if val_loss < best_val_error:\n",
    "            best_val_error = val_loss\n",
    "            best_W = W\n",
    "    return best_W, errors, val_errors"
   ],
   "id": "c180fbdca030deee",
   "outputs": [],
   "execution_count": 172
  },
  {
   "metadata": {
    "ExecuteTime": {
     "end_time": "2024-08-24T14:35:52.759024Z",
     "start_time": "2024-08-24T14:35:52.638689Z"
    }
   },
   "cell_type": "code",
   "source": [
    "# Closed form solution\n",
    "\n",
    "from closedForm import LinearRegressionClosedForm\n",
    "\n",
    "model = LinearRegressionClosedForm()\n",
    "\n",
    "model.fit(X_train, y_train)\n",
    "\n",
    "y_pred = model.predict(X_val)\n",
    "rmse(y_val, y_pred)"
   ],
   "id": "4c91e943fbd0d643",
   "outputs": [
    {
     "data": {
      "text/plain": [
       "3.278457375137263"
      ]
     },
     "execution_count": 165,
     "metadata": {},
     "output_type": "execute_result"
    }
   ],
   "execution_count": 165
  },
  {
   "metadata": {
    "ExecuteTime": {
     "end_time": "2024-08-24T14:36:02.524028Z",
     "start_time": "2024-08-24T14:36:02.519695Z"
    }
   },
   "cell_type": "code",
   "source": [
    "def plot_errors(errors, val_errors):\n",
    "    plt.plot(errors, label='Train')\n",
    "    plt.plot(val_errors, label='Validation')\n",
    "    plt.xlabel('Epochs')\n",
    "    plt.ylabel('Loss')\n",
    "    plt.legend()\n",
    "    plt.show()"
   ],
   "id": "b5a34a0664c55127",
   "outputs": [],
   "execution_count": 166
  },
  {
   "metadata": {
    "ExecuteTime": {
     "end_time": "2024-08-24T14:40:56.892633Z",
     "start_time": "2024-08-24T14:40:56.858793Z"
    }
   },
   "cell_type": "code",
   "source": [
    "# Feature engineering\n",
    "\n",
    "def gaussian_features(X):\n",
    "    mu = np.mean(X, axis=0)\n",
    "    sigma = np.std(X, axis=0)\n",
    "    return np.exp(-0.5 * ((X - mu) / sigma)**2)\n",
    "\n",
    "# Add polynomial features\n",
    "def transform_input(X):\n",
    "    X = np.hstack([X, X**2, np.sin(X), gaussian_features(X)])\n",
    "    return X\n",
    "\n",
    "X_train_poly = transform_input(X_train)\n",
    "X_val_poly = transform_input(X_val)\n",
    "\n",
    "X_train_poly.shape\n",
    "W_poly = np.random.randn(X_train_poly.shape[1], 1)"
   ],
   "id": "486672be6ba5336c",
   "outputs": [],
   "execution_count": 179
  },
  {
   "metadata": {
    "ExecuteTime": {
     "end_time": "2024-08-24T14:41:30.862263Z",
     "start_time": "2024-08-24T14:41:30.858698Z"
    }
   },
   "cell_type": "code",
   "source": "W_poly = np.load('weights3.npy')",
   "id": "88eca1d4ebe01ada",
   "outputs": [],
   "execution_count": 182
  },
  {
   "metadata": {
    "ExecuteTime": {
     "end_time": "2024-08-24T14:43:23.934731Z",
     "start_time": "2024-08-24T14:42:10.571623Z"
    }
   },
   "cell_type": "code",
   "source": [
    "W_train_poly, errors, val_errors = fit(X_train_poly, y_train, W_poly, X_val_poly, y_val, lr=0.003, epochs=10000, print_every=100)\n",
    "\n",
    "plot_errors(errors, val_errors)\n",
    "\n",
    "y_pred = predict(X_val_poly, W_train_poly)\n",
    "rmse(y_val, y_pred)"
   ],
   "id": "ed943654e030999e",
   "outputs": [
    {
     "name": "stdout",
     "output_type": "stream",
     "text": [
      "Epoch 0, Loss: 1.1202502412179836, Val Loss: 1.1270387654161573, Val Rounded Loss: 1.2186338953986853\n",
      "Epoch 100, Loss: 1.104743465379127, Val Loss: 1.1116841756860893, Val Rounded Loss: 1.1974849957130609\n",
      "Epoch 200, Loss: 1.0904675149786638, Val Loss: 1.0975494865234698, Val Rounded Loss: 1.1906258931123177\n",
      "Epoch 300, Loss: 1.0773204664012772, Val Loss: 1.0845335414762693, Val Rounded Loss: 1.179765647327808\n",
      "Epoch 400, Loss: 1.065208987439733, Val Loss: 1.0725437141765821, Val Rounded Loss: 1.1623320948842526\n",
      "Epoch 500, Loss: 1.0540476001948351, Val Loss: 1.061495176412106, Val Rounded Loss: 1.1437553586739069\n",
      "Epoch 600, Loss: 1.04375800889961, Val Loss: 1.05131023072061, Val Rounded Loss: 1.138896827665047\n",
      "Epoch 700, Loss: 1.0342684866845038, Val Loss: 1.0419177015422636, Val Rounded Loss: 1.119748499571306\n",
      "Epoch 800, Loss: 1.025513315898135, Val Loss: 1.0332523795658368, Val Rounded Loss: 1.1123178050871678\n",
      "Epoch 900, Loss: 1.017432277127535, Val Loss: 1.0252545144358143, Val Rounded Loss: 1.1000285795941698\n",
      "Epoch 1000, Loss: 1.0099701825322553, Val Loss: 1.0178693514584247, Val Rounded Loss: 1.0951700485853102\n",
      "Epoch 1100, Loss: 1.003076449526162, Val Loss: 1.0110467083637498, Val Rounded Loss: 1.086024578450986\n",
      "Epoch 1200, Loss: 0.9967047112156419, Val Loss: 1.004740588555263, Val Rounded Loss: 1.083738210917405\n",
      "Epoch 1300, Loss: 0.9908124603389584, Val Loss: 0.9989088276130894, Val Rounded Loss: 1.0748785367247784\n",
      "Epoch 1400, Loss: 0.9853607237531841, Val Loss: 0.9935127701177863, Val Rounded Loss: 1.0671620462989426\n",
      "Epoch 1500, Loss: 0.9803137647866199, Val Loss: 0.9885169741316149, Val Rounded Loss: 1.066018862532152\n",
      "Epoch 1600, Loss: 0.9756388110192572, Val Loss: 0.9838889409176246, Val Rounded Loss: 1.06144612746499\n",
      "Epoch 1700, Loss: 0.9713058052746607, Val Loss: 0.9795988676963946, Val Rounded Loss: 1.0580165761646185\n",
      "Epoch 1800, Loss: 0.9672871778062342, Val Loss: 0.9756194214386076, Val Rounded Loss: 1.0565875964561304\n",
      "Epoch 1900, Loss: 0.9635576378414197, Val Loss: 0.9719255318710314, Val Rounded Loss: 1.0534438410974565\n",
      "Epoch 2000, Loss: 0.9600939828109764, Val Loss: 0.9684942020359424, Val Rounded Loss: 1.052300657330666\n",
      "Epoch 2100, Loss: 0.9568749237388111, Val Loss: 0.965304334891295, Val Rounded Loss: 1.046870534438411\n",
      "Epoch 2200, Loss: 0.9538809254024383, Val Loss: 0.9623365745725528, Val Rounded Loss: 1.0420120034295512\n",
      "Epoch 2300, Loss: 0.9510940599963942, Val Loss: 0.9595731610584303, Val Rounded Loss: 1.039154044012575\n",
      "Epoch 2400, Loss: 0.9484978731420329, Val Loss: 0.9569977970930275, Val Rounded Loss: 1.0405830237210631\n",
      "Epoch 2500, Loss: 0.9460772611881637, Val Loss: 0.9545955263170993, Val Rounded Loss: 1.0382966561874822\n",
      "Epoch 2600, Loss: 0.9438183588389157, Val Loss: 0.9523526216523891, Val Rounded Loss: 1.036867676478994\n",
      "Epoch 2700, Loss: 0.941708436228917, Val Loss: 0.950256483065983, Val Rounded Loss: 1.0334381251786224\n",
      "Epoch 2800, Loss: 0.9397358046420887, Val Loss: 0.9482955439172528, Val Rounded Loss: 1.0357244927122036\n",
      "Epoch 2900, Loss: 0.9378897301398191, Val Loss: 0.9464591851588362, Val Rounded Loss: 1.0342955130037153\n",
      "Epoch 3000, Loss: 0.9361603544275925, Val Loss: 0.9447376567259024, Val Rounded Loss: 1.0308659617033438\n",
      "Epoch 3100, Loss: 0.9345386223468746, Val Loss: 0.9431220055052075, Val Rounded Loss: 1.0328665332952272\n",
      "Epoch 3200, Loss: 0.9330162154317257, Val Loss: 0.9416040093276665, Val Rounded Loss: 1.0302943698199485\n",
      "Epoch 3300, Loss: 0.9315854910176549, Val Loss: 0.9401761164758257, Val Rounded Loss: 1.0280080022863676\n",
      "Epoch 3400, Loss: 0.9302394264340875, Val Loss: 0.9388313902411114, Val Rounded Loss: 1.023721063160903\n",
      "Epoch 3500, Loss: 0.928971567851855, Val Loss: 0.9375634581054336, Val Rounded Loss: 1.0188625321520435\n",
      "Epoch 3600, Loss: 0.9277759833936733, Val Loss: 0.9363664651579882, Val Rounded Loss: 1.0180051443269507\n",
      "Epoch 3700, Loss: 0.9266472201489664, Val Loss: 0.9352350313912134, Val Rounded Loss: 1.015432980851672\n",
      "Epoch 3800, Loss: 0.9255802647649036, Val Loss: 0.9341642125501178, Val Rounded Loss: 1.0134324092597886\n",
      "Epoch 3900, Loss: 0.9245705073133804, Val Loss: 0.9331494642368366, Val Rounded Loss: 1.0134324092597886\n",
      "Epoch 4000, Loss: 0.9236137081591538, Val Loss: 0.9321866089975515, Val Rounded Loss: 1.012289225492998\n",
      "Epoch 4100, Loss: 0.9227059675776239, Val Loss: 0.9312718061419943, Val Rounded Loss: 1.0102886539011147\n",
      "Epoch 4200, Loss: 0.9218436978920367, Val Loss: 0.9304015240668847, Val Rounded Loss: 1.0085738782509288\n",
      "Epoch 4300, Loss: 0.9210235979193453, Val Loss: 0.929572514873947, Val Rounded Loss: 1.0040011431837668\n",
      "Epoch 4400, Loss: 0.920242629531768, Val Loss: 0.9287817910908274, Val Rounded Loss: 1.0028579594169762\n",
      "Epoch 4500, Loss: 0.9194979961573515, Val Loss: 0.9280266043193709, Val Rounded Loss: 1.0054301228922549\n",
      "Epoch 4600, Loss: 0.9187871230577435, Val Loss: 0.9273044256505036, Val Rounded Loss: 1.0071448985424407\n",
      "Epoch 4700, Loss: 0.9181076392349942, Val Loss: 0.9266129276984794, Val Rounded Loss: 1.0040011431837668\n",
      "Epoch 4800, Loss: 0.9174573608316741, Val Loss: 0.9259499681196255, Val Rounded Loss: 1.003143755358674\n",
      "Epoch 4900, Loss: 0.9168342758999938, Val Loss: 0.9253135744920397, Val Rounded Loss: 1.0025721634752787\n",
      "Epoch 5000, Loss: 0.9162365304260488, Val Loss: 0.924701930443052, Val Rounded Loss: 1.0008573878250928\n",
      "Epoch 5100, Loss: 0.9156624155048695, Val Loss: 0.9241133629207551, Val Rounded Loss: 1.002286367533581\n",
      "Epoch 5200, Loss: 0.9151103555706863, Val Loss: 0.9235463305145774, Val Rounded Loss: 1.0017147756501859\n",
      "Epoch 5300, Loss: 0.9145788975948405, Val Loss: 0.9229994127378384, Val Rounded Loss: 1.0025721634752787\n",
      "Epoch 5400, Loss: 0.9140667011710811, Val Loss: 0.9224713001924896, Val Rounded Loss: 1.0042869391254645\n",
      "Epoch 5500, Loss: 0.9135725294147126, Val Loss: 0.921960785542914, Val Rounded Loss: 1.003143755358674\n",
      "Epoch 5600, Loss: 0.9130952406081861, Val Loss: 0.9214667552317681, Val Rounded Loss: 1.0008573878250928\n",
      "Epoch 5700, Loss: 0.9126337805313702, Val Loss: 0.9209881818764257, Val Rounded Loss: 0.9994284081166047\n",
      "Epoch 5800, Loss: 0.9121871754198693, Val Loss: 0.9205241172897178, Val Rounded Loss: 0.9974278365247213\n",
      "Epoch 5900, Loss: 0.9117545254994945, Val Loss: 0.9200736860733423, Val Rounded Loss: 0.9974278365247213\n",
      "Epoch 6000, Loss: 0.911334999049304, Val Loss: 0.9196360797366188, Val Rounded Loss: 0.996856244641326\n",
      "Epoch 6100, Loss: 0.9109278269495934, Val Loss: 0.9192105512972024, Val Rounded Loss: 0.996856244641326\n",
      "Epoch 6200, Loss: 0.9105322976748401, Val Loss: 0.9187964103239674, Val Rounded Loss: 0.9962846527579309\n",
      "Epoch 6300, Loss: 0.9101477526949381, Val Loss: 0.9183930183855904, Val Rounded Loss: 0.9957130608745356\n",
      "Epoch 6400, Loss: 0.9097735822510933, Val Loss: 0.9179997848713769, Val Rounded Loss: 0.9939982852243499\n",
      "Epoch 6500, Loss: 0.9094092214755504, Val Loss: 0.9176161631536632, Val Rounded Loss: 0.9928551014575593\n",
      "Epoch 6600, Loss: 0.9090541468268695, Val Loss: 0.9172416470636557, Val Rounded Loss: 0.9925693055158616\n",
      "Epoch 6700, Loss: 0.9087078728148269, Val Loss: 0.9168757676549147, Val Rounded Loss: 0.9925693055158616\n",
      "Epoch 6800, Loss: 0.9083699489911458, Val Loss: 0.9165180902308135, Val Rounded Loss: 0.9911403258073735\n",
      "Epoch 6900, Loss: 0.9080399571842485, Val Loss: 0.9161682116142746, Val Rounded Loss: 0.9902829379822806\n",
      "Epoch 7000, Loss: 0.9077175089580123, Val Loss: 0.9158257576398672, Val Rounded Loss: 0.9908545298656759\n",
      "Epoch 7100, Loss: 0.9074022432761758, Val Loss: 0.9154903808500076, Val Rounded Loss: 0.9905687339239783\n",
      "Epoch 7200, Loss: 0.9070938243555495, Val Loss: 0.91516175837851, Val Rounded Loss: 0.989997142040583\n",
      "Epoch 7300, Loss: 0.9067919396925826, Val Loss: 0.9148395900061105, Val Rounded Loss: 0.9902829379822806\n",
      "Epoch 7400, Loss: 0.9064962982491114, Val Loss: 0.9145235963738709, Val Rounded Loss: 0.9902829379822806\n",
      "Epoch 7500, Loss: 0.9062066287842762, Val Loss: 0.9142135173415186, Val Rounded Loss: 0.9911403258073735\n",
      "Epoch 7600, Loss: 0.9059226783206763, Val Loss: 0.9139091104788543, Val Rounded Loss: 0.9888539582737925\n",
      "Epoch 7700, Loss: 0.9056442107338076, Val Loss: 0.9136101496793325, Val Rounded Loss: 0.989997142040583\n",
      "Epoch 7800, Loss: 0.9053710054547311, Val Loss: 0.91331642388582, Val Rounded Loss: 0.9882823663903972\n",
      "Epoch 7900, Loss: 0.9051028562767497, Val Loss: 0.91302773591936, Val Rounded Loss: 0.9882823663903972\n"
     ]
    },
    {
     "ename": "KeyboardInterrupt",
     "evalue": "",
     "output_type": "error",
     "traceback": [
      "\u001B[0;31m---------------------------------------------------------------------------\u001B[0m",
      "\u001B[0;31mKeyboardInterrupt\u001B[0m                         Traceback (most recent call last)",
      "Cell \u001B[0;32mIn[186], line 1\u001B[0m\n\u001B[0;32m----> 1\u001B[0m W_train_poly, errors, val_errors \u001B[38;5;241m=\u001B[39m \u001B[43mfit\u001B[49m\u001B[43m(\u001B[49m\u001B[43mX_train_poly\u001B[49m\u001B[43m,\u001B[49m\u001B[43m \u001B[49m\u001B[43my_train\u001B[49m\u001B[43m,\u001B[49m\u001B[43m \u001B[49m\u001B[43mW_poly\u001B[49m\u001B[43m,\u001B[49m\u001B[43m \u001B[49m\u001B[43mX_val_poly\u001B[49m\u001B[43m,\u001B[49m\u001B[43m \u001B[49m\u001B[43my_val\u001B[49m\u001B[43m,\u001B[49m\u001B[43m \u001B[49m\u001B[43mlr\u001B[49m\u001B[38;5;241;43m=\u001B[39;49m\u001B[38;5;241;43m0.003\u001B[39;49m\u001B[43m,\u001B[49m\u001B[43m \u001B[49m\u001B[43mepochs\u001B[49m\u001B[38;5;241;43m=\u001B[39;49m\u001B[38;5;241;43m10000\u001B[39;49m\u001B[43m,\u001B[49m\u001B[43m \u001B[49m\u001B[43mprint_every\u001B[49m\u001B[38;5;241;43m=\u001B[39;49m\u001B[38;5;241;43m100\u001B[39;49m\u001B[43m)\u001B[49m\n\u001B[1;32m      3\u001B[0m plot_errors(errors, val_errors)\n\u001B[1;32m      5\u001B[0m y_pred \u001B[38;5;241m=\u001B[39m predict(X_val_poly, W_train_poly)\n",
      "Cell \u001B[0;32mIn[172], line 31\u001B[0m, in \u001B[0;36mfit\u001B[0;34m(X, y, W, Xval, yval, lr, epochs, print_every)\u001B[0m\n\u001B[1;32m     28\u001B[0m y_val_pred_rounded \u001B[38;5;241m=\u001B[39m y_val_pred\u001B[38;5;241m.\u001B[39mround()\n\u001B[1;32m     29\u001B[0m val_rounded_loss \u001B[38;5;241m=\u001B[39m mse(yval, y_val_pred_rounded)\n\u001B[0;32m---> 31\u001B[0m dW \u001B[38;5;241m=\u001B[39m \u001B[43mcompute_gradients\u001B[49m\u001B[43m(\u001B[49m\u001B[43mX\u001B[49m\u001B[43m,\u001B[49m\u001B[43m \u001B[49m\u001B[43my\u001B[49m\u001B[43m,\u001B[49m\u001B[43m \u001B[49m\u001B[43my_pred\u001B[49m\u001B[43m)\u001B[49m\n\u001B[1;32m     32\u001B[0m W \u001B[38;5;241m-\u001B[39m\u001B[38;5;241m=\u001B[39m lr \u001B[38;5;241m*\u001B[39m dW\n\u001B[1;32m     33\u001B[0m \u001B[38;5;28;01mif\u001B[39;00m i \u001B[38;5;241m%\u001B[39m print_every \u001B[38;5;241m==\u001B[39m \u001B[38;5;241m0\u001B[39m \u001B[38;5;129;01mor\u001B[39;00m i \u001B[38;5;241m==\u001B[39m epochs \u001B[38;5;241m-\u001B[39m \u001B[38;5;241m1\u001B[39m:\n",
      "Cell \u001B[0;32mIn[172], line 11\u001B[0m, in \u001B[0;36mcompute_gradients\u001B[0;34m(X, y, y_pred)\u001B[0m\n\u001B[1;32m     10\u001B[0m \u001B[38;5;28;01mdef\u001B[39;00m \u001B[38;5;21mcompute_gradients\u001B[39m(X, y, y_pred):\n\u001B[0;32m---> 11\u001B[0m     dW \u001B[38;5;241m=\u001B[39m \u001B[38;5;241;43m-\u001B[39;49m\u001B[38;5;241;43m2\u001B[39;49m\u001B[43m \u001B[49m\u001B[38;5;241;43m*\u001B[39;49m\u001B[43m \u001B[49m\u001B[43mX\u001B[49m\u001B[38;5;241;43m.\u001B[39;49m\u001B[43mT\u001B[49m \u001B[38;5;241m@\u001B[39m (y \u001B[38;5;241m-\u001B[39m y_pred) \u001B[38;5;241m/\u001B[39m X\u001B[38;5;241m.\u001B[39mshape[\u001B[38;5;241m0\u001B[39m]\n\u001B[1;32m     12\u001B[0m     \u001B[38;5;28;01mreturn\u001B[39;00m dW\n",
      "\u001B[0;31mKeyboardInterrupt\u001B[0m: "
     ]
    }
   ],
   "execution_count": 186
  },
  {
   "metadata": {
    "ExecuteTime": {
     "end_time": "2024-08-20T10:54:23.698262Z",
     "start_time": "2024-08-20T10:54:23.695077Z"
    }
   },
   "cell_type": "code",
   "source": [
    "# export weights\n",
    "np.save('weights3.npy', W_train_poly)\n",
    "W_backup = W_train_poly"
   ],
   "id": "bc4407bfda51ec3f",
   "outputs": [],
   "execution_count": 159
  },
  {
   "metadata": {
    "ExecuteTime": {
     "end_time": "2024-08-24T14:36:50.726227Z",
     "start_time": "2024-08-24T14:36:50.696961Z"
    }
   },
   "cell_type": "code",
   "source": [
    "X_val_poly = transform_input(X_val)\n",
    "y_pred = predict(X_val_poly, W_poly)\n",
    "y_pred_round = y_pred.round()\n",
    "\n",
    "mse(y_val, y_pred_round)"
   ],
   "id": "2aea3318c3e290d1",
   "outputs": [
    {
     "data": {
      "text/plain": [
       "0.9534152615032867"
      ]
     },
     "execution_count": 171,
     "metadata": {},
     "output_type": "execute_result"
    }
   ],
   "execution_count": 171
  },
  {
   "metadata": {
    "ExecuteTime": {
     "end_time": "2024-08-20T10:54:35.338452Z",
     "start_time": "2024-08-20T10:54:35.330291Z"
    }
   },
   "cell_type": "code",
   "source": [
    "X_test_poly = transform_input(X_test)\n",
    "y_test_pred = predict(X_test_poly, W_poly)\n",
    "\n",
    "rmse(y_test, y_test_pred)"
   ],
   "id": "c72db1e8e483b502",
   "outputs": [
    {
     "data": {
      "text/plain": [
       "np.float64(0.9308557733835064)"
      ]
     },
     "execution_count": 161,
     "metadata": {},
     "output_type": "execute_result"
    }
   ],
   "execution_count": 161
  },
  {
   "metadata": {
    "ExecuteTime": {
     "end_time": "2024-08-20T10:54:40.030769Z",
     "start_time": "2024-08-20T10:54:40.002207Z"
    }
   },
   "cell_type": "code",
   "source": [
    "# Get output for final test data\n",
    "X_final_test = np.array(test.drop('ID', axis=1))\n",
    "X_final_test_poly = transform_input(X_final_test)\n",
    "y_final_test = predict(X_final_test_poly, W_poly)\n",
    "y_final_test = y_final_test.round()\n",
    "\n",
    "output = pd.DataFrame({'ID': test['ID'], 'score': y_final_test.flatten()})\n",
    "\n",
    "# output['score'] = output['score'].clip(0, 5)\n",
    "\n",
    "# count score < 0\n",
    "below0 = output[output['score'] < 0].shape[0]\n",
    "\n",
    "# count score > 5\n",
    "above5 = output[output['score'] > 5].shape[0]\n",
    "\n",
    "print(output.shape[0], below0, above5)\n",
    "\n",
    "output.to_csv('output.csv', index=False)"
   ],
   "id": "6a41c6871d40ef33",
   "outputs": [
    {
     "name": "stdout",
     "output_type": "stream",
     "text": [
      "14996 0 1\n"
     ]
    }
   ],
   "execution_count": 162
  }
 ],
 "metadata": {
  "kernelspec": {
   "display_name": "Python 3",
   "language": "python",
   "name": "python3"
  },
  "language_info": {
   "codemirror_mode": {
    "name": "ipython",
    "version": 2
   },
   "file_extension": ".py",
   "mimetype": "text/x-python",
   "name": "python",
   "nbconvert_exporter": "python",
   "pygments_lexer": "ipython2",
   "version": "2.7.6"
  }
 },
 "nbformat": 4,
 "nbformat_minor": 5
}
