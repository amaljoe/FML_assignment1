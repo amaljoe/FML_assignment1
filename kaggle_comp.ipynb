{
 "cells": [
  {
   "cell_type": "code",
   "id": "initial_id",
   "metadata": {
    "collapsed": true,
    "ExecuteTime": {
     "end_time": "2024-08-24T12:20:31.755490Z",
     "start_time": "2024-08-24T12:20:31.263652Z"
    }
   },
   "source": [
    "import numpy as np\n",
    "import pandas as pd\n",
    "import matplotlib.pyplot as plt\n",
    "from numpy.f2py.crackfortran import verbose\n",
    "\n",
    "np.set_printoptions(precision=3, suppress=True)"
   ],
   "outputs": [],
   "execution_count": 1
  },
  {
   "metadata": {
    "ExecuteTime": {
     "end_time": "2024-08-24T12:20:32.167149Z",
     "start_time": "2024-08-24T12:20:31.892390Z"
    }
   },
   "cell_type": "code",
   "source": [
    "# Load the data\n",
    "train = pd.read_csv('iitb-cs-725-1-2024/train.csv')\n",
    "test = pd.read_csv('iitb-cs-725-1-2024/test.csv')\n",
    "sample = pd.read_csv('iitb-cs-725-1-2024/sample.csv')"
   ],
   "id": "e22c4fd90e032e7a",
   "outputs": [],
   "execution_count": 2
  },
  {
   "metadata": {
    "ExecuteTime": {
     "end_time": "2024-08-24T12:22:38.927257Z",
     "start_time": "2024-08-24T12:22:38.909677Z"
    }
   },
   "cell_type": "code",
   "source": [
    "# Create datasets\n",
    "def create_datasets(data):\n",
    "    X = data.drop(['score', 'ID'], axis=1)\n",
    "    y = data['score']\n",
    "    X = np.array(X)\n",
    "    y = np.array(y).reshape(-1, 1)\n",
    "    return X, y\n",
    "\n",
    "# Shuffle the data\n",
    "train = train.sample(frac=1).reset_index(drop=True)\n",
    "\n",
    "n_train = int(0.9 * train.shape[0])\n",
    "X_train, y_train = create_datasets(train[:n_train])\n",
    "X_val, y_val = create_datasets(train[n_train:])\n",
    "\n",
    "X_train.shape, X_val.shape"
   ],
   "id": "51514d8dfadf7680",
   "outputs": [
    {
     "data": {
      "text/plain": [
       "((31489, 64), (3499, 64))"
      ]
     },
     "execution_count": 13,
     "metadata": {},
     "output_type": "execute_result"
    }
   ],
   "execution_count": 13
  },
  {
   "metadata": {
    "ExecuteTime": {
     "end_time": "2024-08-24T14:23:05.978853Z",
     "start_time": "2024-08-24T14:23:05.972248Z"
    }
   },
   "cell_type": "code",
   "source": [
    "import random\n",
    "\n",
    "def predict(X, W):\n",
    "    return X @ W\n",
    "\n",
    "def mse(y_true, y_pred):\n",
    "    return np.mean((y_true - y_pred)**2)\n",
    "\n",
    "# def rmse(y_true, y_pred):\n",
    "#     return np.sqrt(mse(y_true, y_pred))\n",
    "\n",
    "def compute_gradients(X, y, y_pred):\n",
    "    dW = -2 * X.T @ (y - y_pred) / X.shape[0]\n",
    "    return dW\n",
    "\n",
    "def fit(X, y, W, Xval, yval, lr=0.01, epochs=100, print_every=100, batch_size=32):\n",
    "    # Error list\n",
    "    errors = []\n",
    "    val_errors = []\n",
    "    best_val_error = float('inf')\n",
    "    best_W = None\n",
    "\n",
    "    for i in range(epochs):\n",
    "        # Mini-batch gradient descent\n",
    "        idx = random.sample(range(X.shape[0]), batch_size)\n",
    "        X_batch, y_batch = X[idx], y[idx]\n",
    "        y_pred = predict(X_batch, W)\n",
    "\n",
    "        if i % print_every == 0 or i == epochs - 1:\n",
    "            train_loss = mse(y, predict(X, W))\n",
    "            y_val_pred = predict(Xval, W)\n",
    "            val_loss = mse(yval, y_val_pred)\n",
    "            Y_val_round = y_val_pred.round()\n",
    "            Y_val_rounded_loss = mse(yval, Y_val_round)\n",
    "            print(f'Epoch {i}, Loss: {train_loss}, Val Loss: {val_loss}, Rounded Val Loss: {Y_val_rounded_loss}')\n",
    "            errors.append(train_loss)\n",
    "            val_errors.append(val_loss)\n",
    "            if val_loss < best_val_error:\n",
    "                best_val_error = val_loss\n",
    "                best_W = W\n",
    "            if train_loss < 0.8 and val_loss < 0.87:\n",
    "                print(f'Early stopping at epoch {i}, Loss: {train_loss}, Val Loss: {val_loss}')\n",
    "                break\n",
    "\n",
    "        dW = compute_gradients(X_batch, y_batch, y_pred)\n",
    "        W -= lr * dW\n",
    "\n",
    "    return best_W, errors, val_errors"
   ],
   "id": "c180fbdca030deee",
   "outputs": [],
   "execution_count": 125
  },
  {
   "metadata": {
    "ExecuteTime": {
     "end_time": "2024-08-24T12:20:47.842247Z",
     "start_time": "2024-08-24T12:20:47.807622Z"
    }
   },
   "cell_type": "code",
   "source": [
    "# Closed form solution\n",
    "\n",
    "from closedForm import LinearRegressionClosedForm\n",
    "\n",
    "model = LinearRegressionClosedForm()\n",
    "\n",
    "model.fit(X_train, y_train)\n",
    "\n",
    "y_pred = model.predict(X_val)\n",
    "rmse(y_val, y_pred)"
   ],
   "id": "4c91e943fbd0d643",
   "outputs": [
    {
     "data": {
      "text/plain": [
       "3.2682933059181574"
      ]
     },
     "execution_count": 6,
     "metadata": {},
     "output_type": "execute_result"
    }
   ],
   "execution_count": 6
  },
  {
   "metadata": {
    "ExecuteTime": {
     "end_time": "2024-08-24T12:20:46.293882Z",
     "start_time": "2024-08-24T12:20:46.290019Z"
    }
   },
   "cell_type": "code",
   "source": [
    "def plot_errors(errors, val_errors):\n",
    "    plt.plot(errors, label='Train')\n",
    "    plt.plot(val_errors, label='Validation')\n",
    "    plt.xlabel('Epochs')\n",
    "    plt.ylabel('Loss')\n",
    "    plt.legend()\n",
    "    plt.show()"
   ],
   "id": "b5a34a0664c55127",
   "outputs": [],
   "execution_count": 5
  },
  {
   "metadata": {
    "ExecuteTime": {
     "end_time": "2024-08-24T14:28:14.174575Z",
     "start_time": "2024-08-24T14:28:14.066879Z"
    }
   },
   "cell_type": "code",
   "source": [
    "# Feature engineering\n",
    "\n",
    "# Mean and variance\n",
    "mu = np.mean(X_train)\n",
    "sigma = np.std(X_train)\n",
    "\n",
    "def sigmoid(x):\n",
    "    return 1 / (1 + np.exp(-x))\n",
    "\n",
    "def gaussian_basis(x, mu, sigma):\n",
    "    return np.exp(-0.5 * ((x - mu) / sigma)**2)\n",
    "\n",
    "def normalize(X, mu, sigma):\n",
    "    return (X - mu) / sigma\n",
    "\n",
    "def relu(x):\n",
    "    return np.maximum(0, x)\n",
    "\n",
    "# Add polynomial features\n",
    "def transform_input(X):\n",
    "    mu = np.mean(X)\n",
    "    sigma = np.std(X)\n",
    "    X_new = X\n",
    "    for i in range(-3, 3):\n",
    "        j = i / 3\n",
    "        X_new = np.hstack([X_new, gaussian_basis(X, mu + j, sigma)])\n",
    "    return X_new\n",
    "        \n",
    "\n",
    "X_train_poly = transform_input(X_train)\n",
    "X_val_poly = transform_input(X_val)\n",
    "print(X_train_poly.shape, X_val_poly.shape)\n",
    "\n",
    "W_poly = np.random.randn(X_train_poly.shape[1], 1)"
   ],
   "id": "486672be6ba5336c",
   "outputs": [
    {
     "name": "stdout",
     "output_type": "stream",
     "text": [
      "(31489, 448) (3499, 448)\n"
     ]
    }
   ],
   "execution_count": 144
  },
  {
   "metadata": {
    "ExecuteTime": {
     "end_time": "2024-08-24T14:28:20.601050Z",
     "start_time": "2024-08-24T14:28:20.597809Z"
    }
   },
   "cell_type": "code",
   "source": "W_poly = np.load('weights7.npy')",
   "id": "88eca1d4ebe01ada",
   "outputs": [],
   "execution_count": 145
  },
  {
   "metadata": {
    "ExecuteTime": {
     "end_time": "2024-08-24T14:30:43.363553Z",
     "start_time": "2024-08-24T14:30:42.420160Z"
    }
   },
   "cell_type": "code",
   "source": [
    "epochs = 100\n",
    "\n",
    "W_train_poly, errors, val_errors = fit(X_train_poly, y_train, W_poly, X_val_poly, y_val, lr=0.0001, epochs=epochs, print_every=epochs/10, batch_size=256)\n",
    "\n",
    "plot_errors(errors, val_errors)\n",
    "\n",
    "y_pred = predict(X_val_poly, W_train_poly)\n",
    "y_pred_round = y_pred.round()\n",
    "mse(y_val, y_pred_round)"
   ],
   "id": "ed943654e030999e",
   "outputs": [
    {
     "name": "stdout",
     "output_type": "stream",
     "text": [
      "Epoch 0, Loss: 0.8873940578819758, Val Loss: 0.8811713097364335, Rounded Val Loss: 0.9548442412117748\n",
      "Epoch 10, Loss: 0.8873825472998529, Val Loss: 0.8805498866808852, Rounded Val Loss: 0.9528436696198914\n",
      "Epoch 20, Loss: 0.8874011500321545, Val Loss: 0.8812729552515218, Rounded Val Loss: 0.9554158330951701\n",
      "Epoch 30, Loss: 0.8873926663125085, Val Loss: 0.8811010320813764, Rounded Val Loss: 0.9525578736781938\n",
      "Epoch 40, Loss: 0.887382220736435, Val Loss: 0.8808842430021501, Rounded Val Loss: 0.9525578736781938\n",
      "Epoch 50, Loss: 0.8873865114191852, Val Loss: 0.8810066700837331, Rounded Val Loss: 0.9525578736781938\n",
      "Epoch 60, Loss: 0.8874471058010567, Val Loss: 0.8799364826134959, Rounded Val Loss: 0.9451271791940554\n",
      "Epoch 70, Loss: 0.8874448503545618, Val Loss: 0.8799496714707171, Rounded Val Loss: 0.9451271791940554\n",
      "Epoch 80, Loss: 0.8874520523462898, Val Loss: 0.8799200203992847, Rounded Val Loss: 0.9448413832523578\n",
      "Epoch 90, Loss: 0.8875422621567801, Val Loss: 0.8795323015929591, Rounded Val Loss: 0.9442697913689626\n",
      "Epoch 99, Loss: 0.8876152189869478, Val Loss: 0.8793119805700793, Rounded Val Loss: 0.943983995427265\n"
     ]
    },
    {
     "data": {
      "text/plain": [
       "<Figure size 640x480 with 1 Axes>"
      ],
      "image/png": "[encoded data removed]"
     },
     "metadata": {},
     "output_type": "display_data"
    },
    {
     "data": {
      "text/plain": [
       "0.9448413832523578"
      ]
     },
     "execution_count": 153,
     "metadata": {},
     "output_type": "execute_result"
    }
   ],
   "execution_count": 153
  },
  {
   "metadata": {
    "ExecuteTime": {
     "end_time": "2024-08-24T14:30:53.187829Z",
     "start_time": "2024-08-24T14:30:53.185159Z"
    }
   },
   "cell_type": "code",
   "source": [
    "# export weights\n",
    "np.save('weights8.npy', W_train_poly)\n",
    "W_backup = W_train_poly"
   ],
   "id": "bc4407bfda51ec3f",
   "outputs": [],
   "execution_count": 155
  },
  {
   "metadata": {
    "ExecuteTime": {
     "end_time": "2024-08-24T14:30:55.645185Z",
     "start_time": "2024-08-24T14:30:55.576407Z"
    }
   },
   "cell_type": "code",
   "source": [
    "X_val_poly = transform_input(X_val)\n",
    "y_pred = predict(X_val_poly, W_poly)\n",
    "y_pred_round = y_pred.round()\n",
    "\n",
    "mse(y_val, y_pred_round)"
   ],
   "id": "2aea3318c3e290d1",
   "outputs": [
    {
     "data": {
      "text/plain": [
       "0.9448413832523578"
      ]
     },
     "execution_count": 156,
     "metadata": {},
     "output_type": "execute_result"
    }
   ],
   "execution_count": 156
  },
  {
   "metadata": {
    "ExecuteTime": {
     "end_time": "2024-08-24T14:31:48.672402Z",
     "start_time": "2024-08-24T14:31:48.515936Z"
    }
   },
   "cell_type": "code",
   "source": [
    "# Get output for final test data\n",
    "X_final_test = np.array(test.drop('ID', axis=1))\n",
    "X_final_test_poly = transform_input(X_final_test)\n",
    "y_final_test = predict(X_final_test_poly, W_poly)\n",
    "y_final_test = y_final_test.round()\n",
    "\n",
    "output = pd.DataFrame({'ID': test['ID'], 'score': y_final_test.flatten()})\n",
    "\n",
    "output['score'] = output['score'].clip(0, 5)\n",
    "\n",
    "# count score < 0\n",
    "below0 = output[output['score'] < 0].shape[0]\n",
    "\n",
    "# count score > 5\n",
    "above5 = output[output['score'] > 5].shape[0]\n",
    "\n",
    "print(output.shape[0], below0, above5)\n",
    "\n",
    "output.to_csv('output8.csv', index=False)"
   ],
   "id": "6a41c6871d40ef33",
   "outputs": [
    {
     "name": "stdout",
     "output_type": "stream",
     "text": [
      "14996 0 0\n"
     ]
    }
   ],
   "execution_count": 159
  },
  {
   "metadata": {
    "ExecuteTime": {
     "end_time": "2024-08-24T14:32:34.057727Z",
     "start_time": "2024-08-24T14:32:34.047973Z"
    }
   },
   "cell_type": "code",
   "source": [
    "# compare output7 and output8\n",
    "output7 = pd.read_csv('output7.csv')\n",
    "output8 = pd.read_csv('output8.csv')\n",
    "\n",
    "(output7['score'] == output8['score']).sum()"
   ],
   "id": "8a88eae870e6d233",
   "outputs": [
    {
     "data": {
      "text/plain": [
       "14996"
      ]
     },
     "execution_count": 160,
     "metadata": {},
     "output_type": "execute_result"
    }
   ],
   "execution_count": 160
  },
  {
   "metadata": {
    "ExecuteTime": {
     "end_time": "2024-08-23T06:19:37.799872Z",
     "start_time": "2024-08-23T06:19:27.643080Z"
    }
   },
   "cell_type": "code",
   "source": [
    "import tensorflow as tf\n",
    "\n",
    "def gaussian_basis(x):\n",
    "    # Mean and variance\n",
    "    mu = np.mean(x)\n",
    "    sigma = np.std(x)\n",
    "    return np.exp(-0.5 * ((x - mu) / sigma)**2)\n",
    "\n",
    "def normalize(X):\n",
    "    return (X - X.mean(axis=0)) / X.std(axis=0)\n",
    "\n",
    "# Add polynomial features\n",
    "def transform_input(X, basis):\n",
    "    transormed_X = np.hstack([basis[i](X) for i in range(len(basis))])\n",
    "    transormed_X = np.hstack([X, transormed_X])\n",
    "    return transormed_X\n",
    "\n",
    "basis_funcs = [\n",
    "    [normalize],\n",
    "    [gaussian_basis],\n",
    "    [sigmoid],\n",
    "    [sigmoid, gaussian_basis, normalize],\n",
    "]\n",
    "\n",
    "for basis in basis_funcs:\n",
    "    transformed_X_train = transform_input(X_train, basis)\n",
    "    transformed_X_val = transform_input(X_val, basis)\n",
    "    \n",
    "    model = tf.keras.models.Sequential([\n",
    "        tf.keras.Input(shape=(transformed_X_train.shape[1],)),\n",
    "        tf.keras.layers.Dense(1)\n",
    "    ])\n",
    "    \n",
    "    opt = tf.keras.optimizers.Adam(learning_rate=0.001)\n",
    "    model.compile(optimizer=opt, loss='mse')\n",
    "    model.fit(transformed_X_train, y_train, validation_data=(transformed_X_val, y_val), epochs=10, verbose=0)\n",
    "    train_loss, val_loss = model.evaluate(transformed_X_train, y_train), model.evaluate(transformed_X_val, y_val)\n",
    "    print(basis, train_loss, val_loss)"
   ],
   "id": "f1d0246721ba13c7",
   "outputs": [
    {
     "name": "stdout",
     "output_type": "stream",
     "text": [
      "\u001B[1m875/875\u001B[0m \u001B[32m━━━━━━━━━━━━━━━━━━━━\u001B[0m\u001B[37m\u001B[0m \u001B[1m0s\u001B[0m 187us/step - loss: 0.8705\n",
      "\u001B[1m110/110\u001B[0m \u001B[32m━━━━━━━━━━━━━━━━━━━━\u001B[0m\u001B[37m\u001B[0m \u001B[1m0s\u001B[0m 206us/step - loss: 0.8961\n",
      "[<function normalize at 0x38ef3daf0>] 0.8870629668235779 0.8694994449615479\n",
      "\u001B[1m875/875\u001B[0m \u001B[32m━━━━━━━━━━━━━━━━━━━━\u001B[0m\u001B[37m\u001B[0m \u001B[1m0s\u001B[0m 188us/step - loss: 0.8607\n",
      "\u001B[1m110/110\u001B[0m \u001B[32m━━━━━━━━━━━━━━━━━━━━\u001B[0m\u001B[37m\u001B[0m \u001B[1m0s\u001B[0m 211us/step - loss: 0.8802\n",
      "[<function gaussian_basis at 0x3b3d63550>] 0.8777105212211609 0.8520484566688538\n",
      "\u001B[1m875/875\u001B[0m \u001B[32m━━━━━━━━━━━━━━━━━━━━\u001B[0m\u001B[37m\u001B[0m \u001B[1m0s\u001B[0m 189us/step - loss: 0.8657\n",
      "\u001B[1m110/110\u001B[0m \u001B[32m━━━━━━━━━━━━━━━━━━━━\u001B[0m\u001B[37m\u001B[0m \u001B[1m0s\u001B[0m 221us/step - loss: 0.8883\n",
      "[<function sigmoid at 0x38375dee0>] 0.882866621017456 0.8620593547821045\n",
      "\u001B[1m875/875\u001B[0m \u001B[32m━━━━━━━━━━━━━━━━━━━━\u001B[0m\u001B[37m\u001B[0m \u001B[1m0s\u001B[0m 189us/step - loss: 0.8679\n",
      "\u001B[1m110/110\u001B[0m \u001B[32m━━━━━━━━━━━━━━━━━━━━\u001B[0m\u001B[37m\u001B[0m \u001B[1m0s\u001B[0m 210us/step - loss: 0.8938\n",
      "[<function sigmoid at 0x38375dee0>, <function gaussian_basis at 0x3b3d63550>, <function normalize at 0x38ef3daf0>] 0.8849837779998779 0.8647343516349792\n"
     ]
    }
   ],
   "execution_count": 68
  },
  {
   "metadata": {
    "ExecuteTime": {
     "end_time": "2024-08-23T05:50:12.135187Z",
     "start_time": "2024-08-23T05:50:09.230259Z"
    }
   },
   "cell_type": "code",
   "source": [
    "opt = tf.keras.optimizers.Adam(learning_rate=0.001)\n",
    "model.compile(optimizer=opt, loss='mse')\n",
    "model.fit(transformed_X_train, y_train, validation_data=(transformed_X_val, y_val), epochs=10)"
   ],
   "id": "2b47c33d566cd0ef",
   "outputs": [
    {
     "name": "stdout",
     "output_type": "stream",
     "text": [
      "Epoch 1/10\n",
      "\u001B[1m875/875\u001B[0m \u001B[32m━━━━━━━━━━━━━━━━━━━━\u001B[0m\u001B[37m\u001B[0m \u001B[1m0s\u001B[0m 349us/step - loss: 1.3638 - val_loss: 1.0372\n",
      "Epoch 2/10\n",
      "\u001B[1m875/875\u001B[0m \u001B[32m━━━━━━━━━━━━━━━━━━━━\u001B[0m\u001B[37m\u001B[0m \u001B[1m0s\u001B[0m 296us/step - loss: 0.9448 - val_loss: 0.9532\n",
      "Epoch 3/10\n",
      "\u001B[1m875/875\u001B[0m \u001B[32m━━━━━━━━━━━━━━━━━━━━\u001B[0m\u001B[37m\u001B[0m \u001B[1m0s\u001B[0m 296us/step - loss: 0.9095 - val_loss: 0.9712\n",
      "Epoch 4/10\n",
      "\u001B[1m875/875\u001B[0m \u001B[32m━━━━━━━━━━━━━━━━━━━━\u001B[0m\u001B[37m\u001B[0m \u001B[1m0s\u001B[0m 291us/step - loss: 0.8788 - val_loss: 0.9324\n",
      "Epoch 5/10\n",
      "\u001B[1m875/875\u001B[0m \u001B[32m━━━━━━━━━━━━━━━━━━━━\u001B[0m\u001B[37m\u001B[0m \u001B[1m0s\u001B[0m 290us/step - loss: 0.8806 - val_loss: 0.8915\n",
      "Epoch 6/10\n",
      "\u001B[1m875/875\u001B[0m \u001B[32m━━━━━━━━━━━━━━━━━━━━\u001B[0m\u001B[37m\u001B[0m \u001B[1m0s\u001B[0m 289us/step - loss: 0.8550 - val_loss: 0.9437\n",
      "Epoch 7/10\n",
      "\u001B[1m875/875\u001B[0m \u001B[32m━━━━━━━━━━━━━━━━━━━━\u001B[0m\u001B[37m\u001B[0m \u001B[1m0s\u001B[0m 295us/step - loss: 0.8317 - val_loss: 0.8486\n",
      "Epoch 8/10\n",
      "\u001B[1m875/875\u001B[0m \u001B[32m━━━━━━━━━━━━━━━━━━━━\u001B[0m\u001B[37m\u001B[0m \u001B[1m0s\u001B[0m 292us/step - loss: 0.8230 - val_loss: 0.8512\n",
      "Epoch 9/10\n",
      "\u001B[1m875/875\u001B[0m \u001B[32m━━━━━━━━━━━━━━━━━━━━\u001B[0m\u001B[37m\u001B[0m \u001B[1m0s\u001B[0m 294us/step - loss: 0.8435 - val_loss: 0.8431\n",
      "Epoch 10/10\n",
      "\u001B[1m875/875\u001B[0m \u001B[32m━━━━━━━━━━━━━━━━━━━━\u001B[0m\u001B[37m\u001B[0m \u001B[1m0s\u001B[0m 301us/step - loss: 0.8142 - val_loss: 0.8732\n"
     ]
    },
    {
     "data": {
      "text/plain": [
       "<keras.src.callbacks.history.History at 0x381fb0f70>"
      ]
     },
     "execution_count": 40,
     "metadata": {},
     "output_type": "execute_result"
    }
   ],
   "execution_count": 40
  },
  {
   "metadata": {
    "ExecuteTime": {
     "end_time": "2024-08-23T07:12:49.563119Z",
     "start_time": "2024-08-23T07:12:49.532866Z"
    }
   },
   "cell_type": "code",
   "source": [
    "import tensorflow as tf\n",
    "\n",
    "# Add polynomial features\n",
    "def transform_input(X, basis):\n",
    "    transormed_X = np.hstack([basis[i](X) for i in range(len(basis))])\n",
    "    transormed_X = np.hstack([X, transormed_X])\n",
    "    return transormed_X\n",
    "\n",
    "def sigmoid(x):\n",
    "    return 1 / (1 + np.exp(-x))\n",
    "\n",
    "def gaussian_basis(x):\n",
    "    # Mean and variance\n",
    "    mu = np.mean(x)\n",
    "    sigma = np.std(x)\n",
    "    return np.exp(-0.5 * ((x - mu) / sigma)**2)\n",
    "\n",
    "basis = [gaussian_basis]\n",
    "\n",
    "transformed_X_train = transform_input(X_train, basis)\n",
    "transformed_X_val = transform_input(X_val, basis)\n",
    "\n",
    "model = tf.keras.models.Sequential([\n",
    "    tf.keras.Input(shape=(transformed_X_train.shape[1],)),\n",
    "    tf.keras.layers.Dense(1)\n",
    "])\n",
    "\n",
    "model.summary()"
   ],
   "id": "b0ae2f862bc0269d",
   "outputs": [
    {
     "data": {
      "text/plain": [
       "\u001B[1mModel: \"sequential_111\"\u001B[0m\n"
      ],
      "text/html": [
       "<pre style=\"white-space:pre;overflow-x:auto;line-height:normal;font-family:Menlo,'DejaVu Sans Mono',consolas,'Courier New',monospace\"><span style=\"font-weight: bold\">Model: \"sequential_111\"</span>\n",
       "</pre>\n"
      ]
     },
     "metadata": {},
     "output_type": "display_data"
    },
    {
     "data": {
      "text/plain": [
       "┏━━━━━━━━━━━━━━━━━━━━━━━━━━━━━━━━━┳━━━━━━━━━━━━━━━━━━━━━━━━┳━━━━━━━━━━━━━━━┓\n",
       "┃\u001B[1m \u001B[0m\u001B[1mLayer (type)                   \u001B[0m\u001B[1m \u001B[0m┃\u001B[1m \u001B[0m\u001B[1mOutput Shape          \u001B[0m\u001B[1m \u001B[0m┃\u001B[1m \u001B[0m\u001B[1m      Param #\u001B[0m\u001B[1m \u001B[0m┃\n",
       "┡━━━━━━━━━━━━━━━━━━━━━━━━━━━━━━━━━╇━━━━━━━━━━━━━━━━━━━━━━━━╇━━━━━━━━━━━━━━━┩\n",
       "│ dense_134 (\u001B[38;5;33mDense\u001B[0m)               │ (\u001B[38;5;45mNone\u001B[0m, \u001B[38;5;34m1\u001B[0m)              │           \u001B[38;5;34m129\u001B[0m │\n",
       "└─────────────────────────────────┴────────────────────────┴───────────────┘\n"
      ],
      "text/html": [
       "<pre style=\"white-space:pre;overflow-x:auto;line-height:normal;font-family:Menlo,'DejaVu Sans Mono',consolas,'Courier New',monospace\">┏━━━━━━━━━━━━━━━━━━━━━━━━━━━━━━━━━┳━━━━━━━━━━━━━━━━━━━━━━━━┳━━━━━━━━━━━━━━━┓\n",
       "┃<span style=\"font-weight: bold\"> Layer (type)                    </span>┃<span style=\"font-weight: bold\"> Output Shape           </span>┃<span style=\"font-weight: bold\">       Param # </span>┃\n",
       "┡━━━━━━━━━━━━━━━━━━━━━━━━━━━━━━━━━╇━━━━━━━━━━━━━━━━━━━━━━━━╇━━━━━━━━━━━━━━━┩\n",
       "│ dense_134 (<span style=\"color: #0087ff; text-decoration-color: #0087ff\">Dense</span>)               │ (<span style=\"color: #00d7ff; text-decoration-color: #00d7ff\">None</span>, <span style=\"color: #00af00; text-decoration-color: #00af00\">1</span>)              │           <span style=\"color: #00af00; text-decoration-color: #00af00\">129</span> │\n",
       "└─────────────────────────────────┴────────────────────────┴───────────────┘\n",
       "</pre>\n"
      ]
     },
     "metadata": {},
     "output_type": "display_data"
    },
    {
     "data": {
      "text/plain": [
       "\u001B[1m Total params: \u001B[0m\u001B[38;5;34m129\u001B[0m (516.00 B)\n"
      ],
      "text/html": [
       "<pre style=\"white-space:pre;overflow-x:auto;line-height:normal;font-family:Menlo,'DejaVu Sans Mono',consolas,'Courier New',monospace\"><span style=\"font-weight: bold\"> Total params: </span><span style=\"color: #00af00; text-decoration-color: #00af00\">129</span> (516.00 B)\n",
       "</pre>\n"
      ]
     },
     "metadata": {},
     "output_type": "display_data"
    },
    {
     "data": {
      "text/plain": [
       "\u001B[1m Trainable params: \u001B[0m\u001B[38;5;34m129\u001B[0m (516.00 B)\n"
      ],
      "text/html": [
       "<pre style=\"white-space:pre;overflow-x:auto;line-height:normal;font-family:Menlo,'DejaVu Sans Mono',consolas,'Courier New',monospace\"><span style=\"font-weight: bold\"> Trainable params: </span><span style=\"color: #00af00; text-decoration-color: #00af00\">129</span> (516.00 B)\n",
       "</pre>\n"
      ]
     },
     "metadata": {},
     "output_type": "display_data"
    },
    {
     "data": {
      "text/plain": [
       "\u001B[1m Non-trainable params: \u001B[0m\u001B[38;5;34m0\u001B[0m (0.00 B)\n"
      ],
      "text/html": [
       "<pre style=\"white-space:pre;overflow-x:auto;line-height:normal;font-family:Menlo,'DejaVu Sans Mono',consolas,'Courier New',monospace\"><span style=\"font-weight: bold\"> Non-trainable params: </span><span style=\"color: #00af00; text-decoration-color: #00af00\">0</span> (0.00 B)\n",
       "</pre>\n"
      ]
     },
     "metadata": {},
     "output_type": "display_data"
    }
   ],
   "execution_count": 214
  },
  {
   "metadata": {
    "ExecuteTime": {
     "end_time": "2024-08-23T07:13:32.103994Z",
     "start_time": "2024-08-23T07:13:05.310034Z"
    }
   },
   "cell_type": "code",
   "source": [
    "opt = tf.keras.optimizers.Adam(learning_rate=0.0001)\n",
    "model.compile(optimizer=opt, loss='mse')\n",
    "model.fit(transformed_X_train, y_train, validation_data=(transformed_X_val, y_val), epochs=100)"
   ],
   "id": "72800032e3ad2466",
   "outputs": [
    {
     "name": "stdout",
     "output_type": "stream",
     "text": [
      "Epoch 1/100\n",
      "\u001B[1m985/985\u001B[0m \u001B[32m━━━━━━━━━━━━━━━━━━━━\u001B[0m\u001B[37m\u001B[0m \u001B[1m0s\u001B[0m 344us/step - loss: 3.3207 - val_loss: 1.4445\n",
      "Epoch 2/100\n",
      "\u001B[1m985/985\u001B[0m \u001B[32m━━━━━━━━━━━━━━━━━━━━\u001B[0m\u001B[37m\u001B[0m \u001B[1m0s\u001B[0m 256us/step - loss: 1.3784 - val_loss: 1.3350\n",
      "Epoch 3/100\n",
      "\u001B[1m985/985\u001B[0m \u001B[32m━━━━━━━━━━━━━━━━━━━━\u001B[0m\u001B[37m\u001B[0m \u001B[1m0s\u001B[0m 253us/step - loss: 1.2782 - val_loss: 1.2485\n",
      "Epoch 4/100\n",
      "\u001B[1m985/985\u001B[0m \u001B[32m━━━━━━━━━━━━━━━━━━━━\u001B[0m\u001B[37m\u001B[0m \u001B[1m0s\u001B[0m 253us/step - loss: 1.2242 - val_loss: 1.1806\n",
      "Epoch 5/100\n",
      "\u001B[1m985/985\u001B[0m \u001B[32m━━━━━━━━━━━━━━━━━━━━\u001B[0m\u001B[37m\u001B[0m \u001B[1m0s\u001B[0m 248us/step - loss: 1.1312 - val_loss: 1.1279\n",
      "Epoch 6/100\n",
      "\u001B[1m985/985\u001B[0m \u001B[32m━━━━━━━━━━━━━━━━━━━━\u001B[0m\u001B[37m\u001B[0m \u001B[1m0s\u001B[0m 253us/step - loss: 1.0916 - val_loss: 1.0818\n",
      "Epoch 7/100\n",
      "\u001B[1m985/985\u001B[0m \u001B[32m━━━━━━━━━━━━━━━━━━━━\u001B[0m\u001B[37m\u001B[0m \u001B[1m0s\u001B[0m 248us/step - loss: 1.0511 - val_loss: 1.0465\n",
      "Epoch 8/100\n",
      "\u001B[1m985/985\u001B[0m \u001B[32m━━━━━━━━━━━━━━━━━━━━\u001B[0m\u001B[37m\u001B[0m \u001B[1m0s\u001B[0m 252us/step - loss: 1.0085 - val_loss: 1.0163\n",
      "Epoch 9/100\n",
      "\u001B[1m985/985\u001B[0m \u001B[32m━━━━━━━━━━━━━━━━━━━━\u001B[0m\u001B[37m\u001B[0m \u001B[1m0s\u001B[0m 254us/step - loss: 0.9937 - val_loss: 0.9920\n",
      "Epoch 10/100\n",
      "\u001B[1m985/985\u001B[0m \u001B[32m━━━━━━━━━━━━━━━━━━━━\u001B[0m\u001B[37m\u001B[0m \u001B[1m0s\u001B[0m 260us/step - loss: 0.9806 - val_loss: 0.9714\n",
      "Epoch 11/100\n",
      "\u001B[1m985/985\u001B[0m \u001B[32m━━━━━━━━━━━━━━━━━━━━\u001B[0m\u001B[37m\u001B[0m \u001B[1m0s\u001B[0m 261us/step - loss: 0.9652 - val_loss: 0.9547\n",
      "Epoch 12/100\n",
      "\u001B[1m985/985\u001B[0m \u001B[32m━━━━━━━━━━━━━━━━━━━━\u001B[0m\u001B[37m\u001B[0m \u001B[1m0s\u001B[0m 259us/step - loss: 0.9458 - val_loss: 0.9405\n",
      "Epoch 13/100\n",
      "\u001B[1m985/985\u001B[0m \u001B[32m━━━━━━━━━━━━━━━━━━━━\u001B[0m\u001B[37m\u001B[0m \u001B[1m0s\u001B[0m 260us/step - loss: 0.9507 - val_loss: 0.9318\n",
      "Epoch 14/100\n",
      "\u001B[1m985/985\u001B[0m \u001B[32m━━━━━━━━━━━━━━━━━━━━\u001B[0m\u001B[37m\u001B[0m \u001B[1m0s\u001B[0m 268us/step - loss: 0.9287 - val_loss: 0.9219\n",
      "Epoch 15/100\n",
      "\u001B[1m985/985\u001B[0m \u001B[32m━━━━━━━━━━━━━━━━━━━━\u001B[0m\u001B[37m\u001B[0m \u001B[1m0s\u001B[0m 261us/step - loss: 0.9134 - val_loss: 0.9119\n",
      "Epoch 16/100\n",
      "\u001B[1m985/985\u001B[0m \u001B[32m━━━━━━━━━━━━━━━━━━━━\u001B[0m\u001B[37m\u001B[0m \u001B[1m0s\u001B[0m 267us/step - loss: 0.9074 - val_loss: 0.9056\n",
      "Epoch 17/100\n",
      "\u001B[1m985/985\u001B[0m \u001B[32m━━━━━━━━━━━━━━━━━━━━\u001B[0m\u001B[37m\u001B[0m \u001B[1m0s\u001B[0m 261us/step - loss: 0.9017 - val_loss: 0.8995\n",
      "Epoch 18/100\n",
      "\u001B[1m985/985\u001B[0m \u001B[32m━━━━━━━━━━━━━━━━━━━━\u001B[0m\u001B[37m\u001B[0m \u001B[1m0s\u001B[0m 260us/step - loss: 0.9041 - val_loss: 0.8954\n",
      "Epoch 19/100\n",
      "\u001B[1m985/985\u001B[0m \u001B[32m━━━━━━━━━━━━━━━━━━━━\u001B[0m\u001B[37m\u001B[0m \u001B[1m0s\u001B[0m 260us/step - loss: 0.9011 - val_loss: 0.8911\n",
      "Epoch 20/100\n",
      "\u001B[1m985/985\u001B[0m \u001B[32m━━━━━━━━━━━━━━━━━━━━\u001B[0m\u001B[37m\u001B[0m \u001B[1m0s\u001B[0m 264us/step - loss: 0.8922 - val_loss: 0.8877\n",
      "Epoch 21/100\n",
      "\u001B[1m985/985\u001B[0m \u001B[32m━━━━━━━━━━━━━━━━━━━━\u001B[0m\u001B[37m\u001B[0m \u001B[1m0s\u001B[0m 264us/step - loss: 0.8963 - val_loss: 0.8861\n",
      "Epoch 22/100\n",
      "\u001B[1m985/985\u001B[0m \u001B[32m━━━━━━━━━━━━━━━━━━━━\u001B[0m\u001B[37m\u001B[0m \u001B[1m0s\u001B[0m 272us/step - loss: 0.8979 - val_loss: 0.8822\n",
      "Epoch 23/100\n",
      "\u001B[1m985/985\u001B[0m \u001B[32m━━━━━━━━━━━━━━━━━━━━\u001B[0m\u001B[37m\u001B[0m \u001B[1m0s\u001B[0m 264us/step - loss: 0.8853 - val_loss: 0.8811\n",
      "Epoch 24/100\n",
      "\u001B[1m985/985\u001B[0m \u001B[32m━━━━━━━━━━━━━━━━━━━━\u001B[0m\u001B[37m\u001B[0m \u001B[1m0s\u001B[0m 262us/step - loss: 0.8810 - val_loss: 0.8791\n",
      "Epoch 25/100\n",
      "\u001B[1m985/985\u001B[0m \u001B[32m━━━━━━━━━━━━━━━━━━━━\u001B[0m\u001B[37m\u001B[0m \u001B[1m0s\u001B[0m 258us/step - loss: 0.8789 - val_loss: 0.8770\n",
      "Epoch 26/100\n",
      "\u001B[1m985/985\u001B[0m \u001B[32m━━━━━━━━━━━━━━━━━━━━\u001B[0m\u001B[37m\u001B[0m \u001B[1m0s\u001B[0m 260us/step - loss: 0.9060 - val_loss: 0.8762\n",
      "Epoch 27/100\n",
      "\u001B[1m985/985\u001B[0m \u001B[32m━━━━━━━━━━━━━━━━━━━━\u001B[0m\u001B[37m\u001B[0m \u001B[1m0s\u001B[0m 260us/step - loss: 0.8769 - val_loss: 0.8758\n",
      "Epoch 28/100\n",
      "\u001B[1m985/985\u001B[0m \u001B[32m━━━━━━━━━━━━━━━━━━━━\u001B[0m\u001B[37m\u001B[0m \u001B[1m0s\u001B[0m 259us/step - loss: 0.8884 - val_loss: 0.8745\n",
      "Epoch 29/100\n",
      "\u001B[1m985/985\u001B[0m \u001B[32m━━━━━━━━━━━━━━━━━━━━\u001B[0m\u001B[37m\u001B[0m \u001B[1m0s\u001B[0m 271us/step - loss: 0.8828 - val_loss: 0.8731\n",
      "Epoch 30/100\n",
      "\u001B[1m985/985\u001B[0m \u001B[32m━━━━━━━━━━━━━━━━━━━━\u001B[0m\u001B[37m\u001B[0m \u001B[1m0s\u001B[0m 260us/step - loss: 0.8784 - val_loss: 0.8726\n",
      "Epoch 31/100\n",
      "\u001B[1m985/985\u001B[0m \u001B[32m━━━━━━━━━━━━━━━━━━━━\u001B[0m\u001B[37m\u001B[0m \u001B[1m0s\u001B[0m 262us/step - loss: 0.8863 - val_loss: 0.8718\n",
      "Epoch 32/100\n",
      "\u001B[1m985/985\u001B[0m \u001B[32m━━━━━━━━━━━━━━━━━━━━\u001B[0m\u001B[37m\u001B[0m \u001B[1m0s\u001B[0m 259us/step - loss: 0.8894 - val_loss: 0.8721\n",
      "Epoch 33/100\n",
      "\u001B[1m985/985\u001B[0m \u001B[32m━━━━━━━━━━━━━━━━━━━━\u001B[0m\u001B[37m\u001B[0m \u001B[1m0s\u001B[0m 261us/step - loss: 0.8856 - val_loss: 0.8709\n",
      "Epoch 34/100\n",
      "\u001B[1m985/985\u001B[0m \u001B[32m━━━━━━━━━━━━━━━━━━━━\u001B[0m\u001B[37m\u001B[0m \u001B[1m0s\u001B[0m 259us/step - loss: 0.8702 - val_loss: 0.8702\n",
      "Epoch 35/100\n",
      "\u001B[1m985/985\u001B[0m \u001B[32m━━━━━━━━━━━━━━━━━━━━\u001B[0m\u001B[37m\u001B[0m \u001B[1m0s\u001B[0m 263us/step - loss: 0.8668 - val_loss: 0.8705\n",
      "Epoch 36/100\n",
      "\u001B[1m985/985\u001B[0m \u001B[32m━━━━━━━━━━━━━━━━━━━━\u001B[0m\u001B[37m\u001B[0m \u001B[1m0s\u001B[0m 261us/step - loss: 0.8770 - val_loss: 0.8696\n",
      "Epoch 37/100\n",
      "\u001B[1m985/985\u001B[0m \u001B[32m━━━━━━━━━━━━━━━━━━━━\u001B[0m\u001B[37m\u001B[0m \u001B[1m0s\u001B[0m 263us/step - loss: 0.8893 - val_loss: 0.8697\n",
      "Epoch 38/100\n",
      "\u001B[1m985/985\u001B[0m \u001B[32m━━━━━━━━━━━━━━━━━━━━\u001B[0m\u001B[37m\u001B[0m \u001B[1m0s\u001B[0m 259us/step - loss: 0.8903 - val_loss: 0.8696\n",
      "Epoch 39/100\n",
      "\u001B[1m985/985\u001B[0m \u001B[32m━━━━━━━━━━━━━━━━━━━━\u001B[0m\u001B[37m\u001B[0m \u001B[1m0s\u001B[0m 261us/step - loss: 0.8714 - val_loss: 0.8701\n",
      "Epoch 40/100\n",
      "\u001B[1m985/985\u001B[0m \u001B[32m━━━━━━━━━━━━━━━━━━━━\u001B[0m\u001B[37m\u001B[0m \u001B[1m0s\u001B[0m 258us/step - loss: 0.8941 - val_loss: 0.8689\n",
      "Epoch 41/100\n",
      "\u001B[1m985/985\u001B[0m \u001B[32m━━━━━━━━━━━━━━━━━━━━\u001B[0m\u001B[37m\u001B[0m \u001B[1m0s\u001B[0m 260us/step - loss: 0.8711 - val_loss: 0.8685\n",
      "Epoch 42/100\n",
      "\u001B[1m985/985\u001B[0m \u001B[32m━━━━━━━━━━━━━━━━━━━━\u001B[0m\u001B[37m\u001B[0m \u001B[1m0s\u001B[0m 264us/step - loss: 0.8936 - val_loss: 0.8684\n",
      "Epoch 43/100\n",
      "\u001B[1m985/985\u001B[0m \u001B[32m━━━━━━━━━━━━━━━━━━━━\u001B[0m\u001B[37m\u001B[0m \u001B[1m0s\u001B[0m 263us/step - loss: 0.8632 - val_loss: 0.8685\n",
      "Epoch 44/100\n",
      "\u001B[1m985/985\u001B[0m \u001B[32m━━━━━━━━━━━━━━━━━━━━\u001B[0m\u001B[37m\u001B[0m \u001B[1m0s\u001B[0m 259us/step - loss: 0.8699 - val_loss: 0.8682\n",
      "Epoch 45/100\n",
      "\u001B[1m985/985\u001B[0m \u001B[32m━━━━━━━━━━━━━━━━━━━━\u001B[0m\u001B[37m\u001B[0m \u001B[1m0s\u001B[0m 259us/step - loss: 0.8823 - val_loss: 0.8687\n",
      "Epoch 46/100\n",
      "\u001B[1m985/985\u001B[0m \u001B[32m━━━━━━━━━━━━━━━━━━━━\u001B[0m\u001B[37m\u001B[0m \u001B[1m0s\u001B[0m 256us/step - loss: 0.8813 - val_loss: 0.8691\n",
      "Epoch 47/100\n",
      "\u001B[1m985/985\u001B[0m \u001B[32m━━━━━━━━━━━━━━━━━━━━\u001B[0m\u001B[37m\u001B[0m \u001B[1m0s\u001B[0m 265us/step - loss: 0.8703 - val_loss: 0.8682\n",
      "Epoch 48/100\n",
      "\u001B[1m985/985\u001B[0m \u001B[32m━━━━━━━━━━━━━━━━━━━━\u001B[0m\u001B[37m\u001B[0m \u001B[1m0s\u001B[0m 262us/step - loss: 0.8692 - val_loss: 0.8677\n",
      "Epoch 49/100\n",
      "\u001B[1m985/985\u001B[0m \u001B[32m━━━━━━━━━━━━━━━━━━━━\u001B[0m\u001B[37m\u001B[0m \u001B[1m0s\u001B[0m 260us/step - loss: 0.8730 - val_loss: 0.8678\n",
      "Epoch 50/100\n",
      "\u001B[1m985/985\u001B[0m \u001B[32m━━━━━━━━━━━━━━━━━━━━\u001B[0m\u001B[37m\u001B[0m \u001B[1m0s\u001B[0m 262us/step - loss: 0.8783 - val_loss: 0.8677\n",
      "Epoch 51/100\n",
      "\u001B[1m985/985\u001B[0m \u001B[32m━━━━━━━━━━━━━━━━━━━━\u001B[0m\u001B[37m\u001B[0m \u001B[1m0s\u001B[0m 261us/step - loss: 0.8776 - val_loss: 0.8691\n",
      "Epoch 52/100\n",
      "\u001B[1m985/985\u001B[0m \u001B[32m━━━━━━━━━━━━━━━━━━━━\u001B[0m\u001B[37m\u001B[0m \u001B[1m0s\u001B[0m 264us/step - loss: 0.8719 - val_loss: 0.8681\n",
      "Epoch 53/100\n",
      "\u001B[1m985/985\u001B[0m \u001B[32m━━━━━━━━━━━━━━━━━━━━\u001B[0m\u001B[37m\u001B[0m \u001B[1m0s\u001B[0m 260us/step - loss: 0.8642 - val_loss: 0.8678\n",
      "Epoch 54/100\n",
      "\u001B[1m985/985\u001B[0m \u001B[32m━━━━━━━━━━━━━━━━━━━━\u001B[0m\u001B[37m\u001B[0m \u001B[1m0s\u001B[0m 265us/step - loss: 0.8787 - val_loss: 0.8679\n",
      "Epoch 55/100\n",
      "\u001B[1m985/985\u001B[0m \u001B[32m━━━━━━━━━━━━━━━━━━━━\u001B[0m\u001B[37m\u001B[0m \u001B[1m0s\u001B[0m 261us/step - loss: 0.8862 - val_loss: 0.8676\n",
      "Epoch 56/100\n",
      "\u001B[1m985/985\u001B[0m \u001B[32m━━━━━━━━━━━━━━━━━━━━\u001B[0m\u001B[37m\u001B[0m \u001B[1m0s\u001B[0m 262us/step - loss: 0.8719 - val_loss: 0.8674\n",
      "Epoch 57/100\n",
      "\u001B[1m985/985\u001B[0m \u001B[32m━━━━━━━━━━━━━━━━━━━━\u001B[0m\u001B[37m\u001B[0m \u001B[1m0s\u001B[0m 256us/step - loss: 0.8867 - val_loss: 0.8690\n",
      "Epoch 58/100\n",
      "\u001B[1m985/985\u001B[0m \u001B[32m━━━━━━━━━━━━━━━━━━━━\u001B[0m\u001B[37m\u001B[0m \u001B[1m0s\u001B[0m 265us/step - loss: 0.8762 - val_loss: 0.8673\n",
      "Epoch 59/100\n",
      "\u001B[1m985/985\u001B[0m \u001B[32m━━━━━━━━━━━━━━━━━━━━\u001B[0m\u001B[37m\u001B[0m \u001B[1m0s\u001B[0m 258us/step - loss: 0.8781 - val_loss: 0.8677\n",
      "Epoch 60/100\n",
      "\u001B[1m985/985\u001B[0m \u001B[32m━━━━━━━━━━━━━━━━━━━━\u001B[0m\u001B[37m\u001B[0m \u001B[1m0s\u001B[0m 265us/step - loss: 0.8645 - val_loss: 0.8710\n",
      "Epoch 61/100\n",
      "\u001B[1m985/985\u001B[0m \u001B[32m━━━━━━━━━━━━━━━━━━━━\u001B[0m\u001B[37m\u001B[0m \u001B[1m0s\u001B[0m 260us/step - loss: 0.8807 - val_loss: 0.8680\n",
      "Epoch 62/100\n",
      "\u001B[1m985/985\u001B[0m \u001B[32m━━━━━━━━━━━━━━━━━━━━\u001B[0m\u001B[37m\u001B[0m \u001B[1m0s\u001B[0m 263us/step - loss: 0.8786 - val_loss: 0.8674\n",
      "Epoch 63/100\n",
      "\u001B[1m985/985\u001B[0m \u001B[32m━━━━━━━━━━━━━━━━━━━━\u001B[0m\u001B[37m\u001B[0m \u001B[1m0s\u001B[0m 261us/step - loss: 0.8830 - val_loss: 0.8675\n",
      "Epoch 64/100\n",
      "\u001B[1m985/985\u001B[0m \u001B[32m━━━━━━━━━━━━━━━━━━━━\u001B[0m\u001B[37m\u001B[0m \u001B[1m0s\u001B[0m 259us/step - loss: 0.8762 - val_loss: 0.8675\n",
      "Epoch 65/100\n",
      "\u001B[1m985/985\u001B[0m \u001B[32m━━━━━━━━━━━━━━━━━━━━\u001B[0m\u001B[37m\u001B[0m \u001B[1m0s\u001B[0m 258us/step - loss: 0.8861 - val_loss: 0.8674\n",
      "Epoch 66/100\n",
      "\u001B[1m985/985\u001B[0m \u001B[32m━━━━━━━━━━━━━━━━━━━━\u001B[0m\u001B[37m\u001B[0m \u001B[1m0s\u001B[0m 265us/step - loss: 0.8792 - val_loss: 0.8670\n",
      "Epoch 67/100\n",
      "\u001B[1m985/985\u001B[0m \u001B[32m━━━━━━━━━━━━━━━━━━━━\u001B[0m\u001B[37m\u001B[0m \u001B[1m0s\u001B[0m 260us/step - loss: 0.8819 - val_loss: 0.8677\n",
      "Epoch 68/100\n",
      "\u001B[1m985/985\u001B[0m \u001B[32m━━━━━━━━━━━━━━━━━━━━\u001B[0m\u001B[37m\u001B[0m \u001B[1m0s\u001B[0m 262us/step - loss: 0.8704 - val_loss: 0.8668\n",
      "Epoch 69/100\n",
      "\u001B[1m985/985\u001B[0m \u001B[32m━━━━━━━━━━━━━━━━━━━━\u001B[0m\u001B[37m\u001B[0m \u001B[1m0s\u001B[0m 265us/step - loss: 0.8904 - val_loss: 0.8671\n",
      "Epoch 70/100\n",
      "\u001B[1m985/985\u001B[0m \u001B[32m━━━━━━━━━━━━━━━━━━━━\u001B[0m\u001B[37m\u001B[0m \u001B[1m0s\u001B[0m 261us/step - loss: 0.8776 - val_loss: 0.8676\n",
      "Epoch 71/100\n",
      "\u001B[1m985/985\u001B[0m \u001B[32m━━━━━━━━━━━━━━━━━━━━\u001B[0m\u001B[37m\u001B[0m \u001B[1m0s\u001B[0m 262us/step - loss: 0.8804 - val_loss: 0.8676\n",
      "Epoch 72/100\n",
      "\u001B[1m985/985\u001B[0m \u001B[32m━━━━━━━━━━━━━━━━━━━━\u001B[0m\u001B[37m\u001B[0m \u001B[1m0s\u001B[0m 261us/step - loss: 0.8665 - val_loss: 0.8667\n",
      "Epoch 73/100\n",
      "\u001B[1m985/985\u001B[0m \u001B[32m━━━━━━━━━━━━━━━━━━━━\u001B[0m\u001B[37m\u001B[0m \u001B[1m0s\u001B[0m 262us/step - loss: 0.8711 - val_loss: 0.8668\n",
      "Epoch 74/100\n",
      "\u001B[1m985/985\u001B[0m \u001B[32m━━━━━━━━━━━━━━━━━━━━\u001B[0m\u001B[37m\u001B[0m \u001B[1m0s\u001B[0m 258us/step - loss: 0.8688 - val_loss: 0.8667\n",
      "Epoch 75/100\n",
      "\u001B[1m985/985\u001B[0m \u001B[32m━━━━━━━━━━━━━━━━━━━━\u001B[0m\u001B[37m\u001B[0m \u001B[1m0s\u001B[0m 261us/step - loss: 0.8703 - val_loss: 0.8689\n",
      "Epoch 76/100\n",
      "\u001B[1m985/985\u001B[0m \u001B[32m━━━━━━━━━━━━━━━━━━━━\u001B[0m\u001B[37m\u001B[0m \u001B[1m0s\u001B[0m 256us/step - loss: 0.8811 - val_loss: 0.8668\n",
      "Epoch 77/100\n",
      "\u001B[1m985/985\u001B[0m \u001B[32m━━━━━━━━━━━━━━━━━━━━\u001B[0m\u001B[37m\u001B[0m \u001B[1m0s\u001B[0m 266us/step - loss: 0.8867 - val_loss: 0.8671\n",
      "Epoch 78/100\n",
      "\u001B[1m985/985\u001B[0m \u001B[32m━━━━━━━━━━━━━━━━━━━━\u001B[0m\u001B[37m\u001B[0m \u001B[1m0s\u001B[0m 268us/step - loss: 0.8764 - val_loss: 0.8672\n",
      "Epoch 79/100\n",
      "\u001B[1m985/985\u001B[0m \u001B[32m━━━━━━━━━━━━━━━━━━━━\u001B[0m\u001B[37m\u001B[0m \u001B[1m0s\u001B[0m 265us/step - loss: 0.8724 - val_loss: 0.8683\n",
      "Epoch 80/100\n",
      "\u001B[1m985/985\u001B[0m \u001B[32m━━━━━━━━━━━━━━━━━━━━\u001B[0m\u001B[37m\u001B[0m \u001B[1m0s\u001B[0m 271us/step - loss: 0.8842 - val_loss: 0.8680\n",
      "Epoch 81/100\n",
      "\u001B[1m985/985\u001B[0m \u001B[32m━━━━━━━━━━━━━━━━━━━━\u001B[0m\u001B[37m\u001B[0m \u001B[1m0s\u001B[0m 270us/step - loss: 0.8747 - val_loss: 0.8670\n",
      "Epoch 82/100\n",
      "\u001B[1m985/985\u001B[0m \u001B[32m━━━━━━━━━━━━━━━━━━━━\u001B[0m\u001B[37m\u001B[0m \u001B[1m0s\u001B[0m 265us/step - loss: 0.8720 - val_loss: 0.8665\n",
      "Epoch 83/100\n",
      "\u001B[1m985/985\u001B[0m \u001B[32m━━━━━━━━━━━━━━━━━━━━\u001B[0m\u001B[37m\u001B[0m \u001B[1m0s\u001B[0m 267us/step - loss: 0.8739 - val_loss: 0.8667\n",
      "Epoch 84/100\n",
      "\u001B[1m985/985\u001B[0m \u001B[32m━━━━━━━━━━━━━━━━━━━━\u001B[0m\u001B[37m\u001B[0m \u001B[1m0s\u001B[0m 271us/step - loss: 0.8828 - val_loss: 0.8671\n",
      "Epoch 85/100\n",
      "\u001B[1m985/985\u001B[0m \u001B[32m━━━━━━━━━━━━━━━━━━━━\u001B[0m\u001B[37m\u001B[0m \u001B[1m0s\u001B[0m 261us/step - loss: 0.8790 - val_loss: 0.8669\n",
      "Epoch 86/100\n",
      "\u001B[1m985/985\u001B[0m \u001B[32m━━━━━━━━━━━━━━━━━━━━\u001B[0m\u001B[37m\u001B[0m \u001B[1m0s\u001B[0m 258us/step - loss: 0.8601 - val_loss: 0.8685\n",
      "Epoch 87/100\n",
      "\u001B[1m985/985\u001B[0m \u001B[32m━━━━━━━━━━━━━━━━━━━━\u001B[0m\u001B[37m\u001B[0m \u001B[1m0s\u001B[0m 260us/step - loss: 0.8786 - val_loss: 0.8683\n",
      "Epoch 88/100\n",
      "\u001B[1m985/985\u001B[0m \u001B[32m━━━━━━━━━━━━━━━━━━━━\u001B[0m\u001B[37m\u001B[0m \u001B[1m0s\u001B[0m 259us/step - loss: 0.8759 - val_loss: 0.8667\n",
      "Epoch 89/100\n",
      "\u001B[1m985/985\u001B[0m \u001B[32m━━━━━━━━━━━━━━━━━━━━\u001B[0m\u001B[37m\u001B[0m \u001B[1m0s\u001B[0m 259us/step - loss: 0.8769 - val_loss: 0.8667\n",
      "Epoch 90/100\n",
      "\u001B[1m985/985\u001B[0m \u001B[32m━━━━━━━━━━━━━━━━━━━━\u001B[0m\u001B[37m\u001B[0m \u001B[1m0s\u001B[0m 259us/step - loss: 0.8788 - val_loss: 0.8666\n",
      "Epoch 91/100\n",
      "\u001B[1m985/985\u001B[0m \u001B[32m━━━━━━━━━━━━━━━━━━━━\u001B[0m\u001B[37m\u001B[0m \u001B[1m0s\u001B[0m 257us/step - loss: 0.8724 - val_loss: 0.8667\n",
      "Epoch 92/100\n",
      "\u001B[1m985/985\u001B[0m \u001B[32m━━━━━━━━━━━━━━━━━━━━\u001B[0m\u001B[37m\u001B[0m \u001B[1m0s\u001B[0m 264us/step - loss: 0.8815 - val_loss: 0.8667\n",
      "Epoch 93/100\n",
      "\u001B[1m985/985\u001B[0m \u001B[32m━━━━━━━━━━━━━━━━━━━━\u001B[0m\u001B[37m\u001B[0m \u001B[1m0s\u001B[0m 258us/step - loss: 0.8773 - val_loss: 0.8664\n",
      "Epoch 94/100\n",
      "\u001B[1m985/985\u001B[0m \u001B[32m━━━━━━━━━━━━━━━━━━━━\u001B[0m\u001B[37m\u001B[0m \u001B[1m0s\u001B[0m 264us/step - loss: 0.8775 - val_loss: 0.8664\n",
      "Epoch 95/100\n",
      "\u001B[1m985/985\u001B[0m \u001B[32m━━━━━━━━━━━━━━━━━━━━\u001B[0m\u001B[37m\u001B[0m \u001B[1m0s\u001B[0m 260us/step - loss: 0.8723 - val_loss: 0.8664\n",
      "Epoch 96/100\n",
      "\u001B[1m985/985\u001B[0m \u001B[32m━━━━━━━━━━━━━━━━━━━━\u001B[0m\u001B[37m\u001B[0m \u001B[1m0s\u001B[0m 272us/step - loss: 0.8813 - val_loss: 0.8665\n",
      "Epoch 97/100\n",
      "\u001B[1m985/985\u001B[0m \u001B[32m━━━━━━━━━━━━━━━━━━━━\u001B[0m\u001B[37m\u001B[0m \u001B[1m0s\u001B[0m 268us/step - loss: 0.8668 - val_loss: 0.8684\n",
      "Epoch 98/100\n",
      "\u001B[1m985/985\u001B[0m \u001B[32m━━━━━━━━━━━━━━━━━━━━\u001B[0m\u001B[37m\u001B[0m \u001B[1m0s\u001B[0m 270us/step - loss: 0.8848 - val_loss: 0.8666\n",
      "Epoch 99/100\n",
      "\u001B[1m985/985\u001B[0m \u001B[32m━━━━━━━━━━━━━━━━━━━━\u001B[0m\u001B[37m\u001B[0m \u001B[1m0s\u001B[0m 271us/step - loss: 0.8650 - val_loss: 0.8664\n",
      "Epoch 100/100\n",
      "\u001B[1m985/985\u001B[0m \u001B[32m━━━━━━━━━━━━━━━━━━━━\u001B[0m\u001B[37m\u001B[0m \u001B[1m0s\u001B[0m 267us/step - loss: 0.8644 - val_loss: 0.8665\n"
     ]
    },
    {
     "data": {
      "text/plain": [
       "<keras.src.callbacks.history.History at 0x3b21817c0>"
      ]
     },
     "execution_count": 215,
     "metadata": {},
     "output_type": "execute_result"
    }
   ],
   "execution_count": 215
  },
  {
   "metadata": {
    "ExecuteTime": {
     "end_time": "2024-08-23T07:13:35.042685Z",
     "start_time": "2024-08-23T07:13:34.974191Z"
    }
   },
   "cell_type": "code",
   "source": [
    "# RMSE\n",
    "rmse = tf.keras.metrics.RootMeanSquaredError()\n",
    "rmse.update_state(y_val, model.predict(transformed_X_val))\n",
    "rmse.result().numpy()"
   ],
   "id": "d6195f3c11d05e9c",
   "outputs": [
    {
     "name": "stdout",
     "output_type": "stream",
     "text": [
      "\u001B[1m110/110\u001B[0m \u001B[32m━━━━━━━━━━━━━━━━━━━━\u001B[0m\u001B[37m\u001B[0m \u001B[1m0s\u001B[0m 248us/step\n"
     ]
    },
    {
     "data": {
      "text/plain": [
       "0.93085057"
      ]
     },
     "execution_count": 216,
     "metadata": {},
     "output_type": "execute_result"
    }
   ],
   "execution_count": 216
  },
  {
   "metadata": {},
   "cell_type": "markdown",
   "source": [
    "0.92 current best rmse on val set submitted\n",
    "0.87 ideally should be the best rmse on val set"
   ],
   "id": "17cadff8693a8a59"
  },
  {
   "metadata": {},
   "cell_type": "code",
   "outputs": [],
   "execution_count": null,
   "source": "",
   "id": "8ec6cb201d3ede94"
  }
 ],
 "metadata": {
  "kernelspec": {
   "display_name": "Python 3",
   "language": "python",
   "name": "python3"
  },
  "language_info": {
   "codemirror_mode": {
    "name": "ipython",
    "version": 2
   },
   "file_extension": ".py",
   "mimetype": "text/x-python",
   "name": "python",
   "nbconvert_exporter": "python",
   "pygments_lexer": "ipython2",
   "version": "2.7.6"
  }
 },
 "nbformat": 4,
 "nbformat_minor": 5
}
