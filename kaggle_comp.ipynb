{
 "cells": [
  {
   "cell_type": "code",
   "id": "initial_id",
   "metadata": {
    "collapsed": true,
    "ExecuteTime": {
     "end_time": "2024-08-20T08:39:03.772625Z",
     "start_time": "2024-08-20T08:39:03.078070Z"
    }
   },
   "source": [
    "import numpy as np\n",
    "import pandas as pd\n",
    "import matplotlib.pyplot as plt\n",
    "\n",
    "np.set_printoptions(precision=3, suppress=True)"
   ],
   "outputs": [],
   "execution_count": 1
  },
  {
   "metadata": {
    "ExecuteTime": {
     "end_time": "2024-08-20T08:42:38.818855Z",
     "start_time": "2024-08-20T08:42:38.558518Z"
    }
   },
   "cell_type": "code",
   "source": [
    "# Load the data\n",
    "train = pd.read_csv('iitb-cs-725-1-2024/train.csv')\n",
    "test = pd.read_csv('iitb-cs-725-1-2024/test.csv')\n",
    "sample = pd.read_csv('iitb-cs-725-1-2024/sample.csv')"
   ],
   "id": "e22c4fd90e032e7a",
   "outputs": [],
   "execution_count": 2
  },
  {
   "metadata": {
    "ExecuteTime": {
     "end_time": "2024-08-20T08:43:46.536195Z",
     "start_time": "2024-08-20T08:43:46.519869Z"
    }
   },
   "cell_type": "code",
   "source": [
    "# Display the data\n",
    "train.head()"
   ],
   "id": "fb0600bd244c422f",
   "outputs": [
    {
     "data": {
      "text/plain": [
       "   ID  feature_0  feature_1  feature_2  feature_3  feature_4  feature_5  \\\n",
       "0   0   0.040776   2.247366   0.486094  -1.791148  -0.260466  -0.693494   \n",
       "1   1   2.885314  -1.228567  -0.023254   1.243954  -0.276285   0.791822   \n",
       "2   2   2.612578   0.978922   0.402049   0.628482   0.481488  -0.421969   \n",
       "3   3   0.333623   0.658054  -0.747531  -0.505702   0.359609   0.459562   \n",
       "4   4  -0.873343  -0.650602   0.336838   0.100677  -0.317427  -0.072732   \n",
       "\n",
       "   feature_6  feature_7  feature_8  ...  feature_55  feature_56  feature_57  \\\n",
       "0  -0.007988  -0.390353   0.342489  ...    0.116905    0.004497    0.045408   \n",
       "1  -0.390133   0.048296  -0.007136  ...    0.111936   -0.050685   -0.163769   \n",
       "2  -0.090971  -0.496587   0.314399  ...   -0.066646   -0.092024   -0.078880   \n",
       "3   0.278906   0.078858   0.330526  ...    0.121561    0.065324    0.114508   \n",
       "4  -0.187683   0.493616  -0.234106  ...    0.143080    0.051453    0.032550   \n",
       "\n",
       "   feature_58  feature_59  feature_60  feature_61  feature_62  feature_63  \\\n",
       "0   -0.160795    0.018927    0.038400   -0.224252   -0.095052   -0.060982   \n",
       "1   -0.068437    0.082455   -0.013019   -0.052774   -0.042545   -0.027698   \n",
       "2   -0.005543    0.104462    0.136459   -0.064776    0.074138    0.030638   \n",
       "3    0.007231    0.055410    0.016136   -0.049182   -0.059409   -0.144704   \n",
       "4   -0.088987    0.003385    0.097682   -0.020679   -0.115271   -0.014201   \n",
       "\n",
       "   score  \n",
       "0    0.0  \n",
       "1    3.0  \n",
       "2    0.0  \n",
       "3    3.0  \n",
       "4    3.0  \n",
       "\n",
       "[5 rows x 66 columns]"
      ],
      "text/html": [
       "<div>\n",
       "<style scoped>\n",
       "    .dataframe tbody tr th:only-of-type {\n",
       "        vertical-align: middle;\n",
       "    }\n",
       "\n",
       "    .dataframe tbody tr th {\n",
       "        vertical-align: top;\n",
       "    }\n",
       "\n",
       "    .dataframe thead th {\n",
       "        text-align: right;\n",
       "    }\n",
       "</style>\n",
       "<table border=\"1\" class=\"dataframe\">\n",
       "  <thead>\n",
       "    <tr style=\"text-align: right;\">\n",
       "      <th></th>\n",
       "      <th>ID</th>\n",
       "      <th>feature_0</th>\n",
       "      <th>feature_1</th>\n",
       "      <th>feature_2</th>\n",
       "      <th>feature_3</th>\n",
       "      <th>feature_4</th>\n",
       "      <th>feature_5</th>\n",
       "      <th>feature_6</th>\n",
       "      <th>feature_7</th>\n",
       "      <th>feature_8</th>\n",
       "      <th>...</th>\n",
       "      <th>feature_55</th>\n",
       "      <th>feature_56</th>\n",
       "      <th>feature_57</th>\n",
       "      <th>feature_58</th>\n",
       "      <th>feature_59</th>\n",
       "      <th>feature_60</th>\n",
       "      <th>feature_61</th>\n",
       "      <th>feature_62</th>\n",
       "      <th>feature_63</th>\n",
       "      <th>score</th>\n",
       "    </tr>\n",
       "  </thead>\n",
       "  <tbody>\n",
       "    <tr>\n",
       "      <th>0</th>\n",
       "      <td>0</td>\n",
       "      <td>0.040776</td>\n",
       "      <td>2.247366</td>\n",
       "      <td>0.486094</td>\n",
       "      <td>-1.791148</td>\n",
       "      <td>-0.260466</td>\n",
       "      <td>-0.693494</td>\n",
       "      <td>-0.007988</td>\n",
       "      <td>-0.390353</td>\n",
       "      <td>0.342489</td>\n",
       "      <td>...</td>\n",
       "      <td>0.116905</td>\n",
       "      <td>0.004497</td>\n",
       "      <td>0.045408</td>\n",
       "      <td>-0.160795</td>\n",
       "      <td>0.018927</td>\n",
       "      <td>0.038400</td>\n",
       "      <td>-0.224252</td>\n",
       "      <td>-0.095052</td>\n",
       "      <td>-0.060982</td>\n",
       "      <td>0.0</td>\n",
       "    </tr>\n",
       "    <tr>\n",
       "      <th>1</th>\n",
       "      <td>1</td>\n",
       "      <td>2.885314</td>\n",
       "      <td>-1.228567</td>\n",
       "      <td>-0.023254</td>\n",
       "      <td>1.243954</td>\n",
       "      <td>-0.276285</td>\n",
       "      <td>0.791822</td>\n",
       "      <td>-0.390133</td>\n",
       "      <td>0.048296</td>\n",
       "      <td>-0.007136</td>\n",
       "      <td>...</td>\n",
       "      <td>0.111936</td>\n",
       "      <td>-0.050685</td>\n",
       "      <td>-0.163769</td>\n",
       "      <td>-0.068437</td>\n",
       "      <td>0.082455</td>\n",
       "      <td>-0.013019</td>\n",
       "      <td>-0.052774</td>\n",
       "      <td>-0.042545</td>\n",
       "      <td>-0.027698</td>\n",
       "      <td>3.0</td>\n",
       "    </tr>\n",
       "    <tr>\n",
       "      <th>2</th>\n",
       "      <td>2</td>\n",
       "      <td>2.612578</td>\n",
       "      <td>0.978922</td>\n",
       "      <td>0.402049</td>\n",
       "      <td>0.628482</td>\n",
       "      <td>0.481488</td>\n",
       "      <td>-0.421969</td>\n",
       "      <td>-0.090971</td>\n",
       "      <td>-0.496587</td>\n",
       "      <td>0.314399</td>\n",
       "      <td>...</td>\n",
       "      <td>-0.066646</td>\n",
       "      <td>-0.092024</td>\n",
       "      <td>-0.078880</td>\n",
       "      <td>-0.005543</td>\n",
       "      <td>0.104462</td>\n",
       "      <td>0.136459</td>\n",
       "      <td>-0.064776</td>\n",
       "      <td>0.074138</td>\n",
       "      <td>0.030638</td>\n",
       "      <td>0.0</td>\n",
       "    </tr>\n",
       "    <tr>\n",
       "      <th>3</th>\n",
       "      <td>3</td>\n",
       "      <td>0.333623</td>\n",
       "      <td>0.658054</td>\n",
       "      <td>-0.747531</td>\n",
       "      <td>-0.505702</td>\n",
       "      <td>0.359609</td>\n",
       "      <td>0.459562</td>\n",
       "      <td>0.278906</td>\n",
       "      <td>0.078858</td>\n",
       "      <td>0.330526</td>\n",
       "      <td>...</td>\n",
       "      <td>0.121561</td>\n",
       "      <td>0.065324</td>\n",
       "      <td>0.114508</td>\n",
       "      <td>0.007231</td>\n",
       "      <td>0.055410</td>\n",
       "      <td>0.016136</td>\n",
       "      <td>-0.049182</td>\n",
       "      <td>-0.059409</td>\n",
       "      <td>-0.144704</td>\n",
       "      <td>3.0</td>\n",
       "    </tr>\n",
       "    <tr>\n",
       "      <th>4</th>\n",
       "      <td>4</td>\n",
       "      <td>-0.873343</td>\n",
       "      <td>-0.650602</td>\n",
       "      <td>0.336838</td>\n",
       "      <td>0.100677</td>\n",
       "      <td>-0.317427</td>\n",
       "      <td>-0.072732</td>\n",
       "      <td>-0.187683</td>\n",
       "      <td>0.493616</td>\n",
       "      <td>-0.234106</td>\n",
       "      <td>...</td>\n",
       "      <td>0.143080</td>\n",
       "      <td>0.051453</td>\n",
       "      <td>0.032550</td>\n",
       "      <td>-0.088987</td>\n",
       "      <td>0.003385</td>\n",
       "      <td>0.097682</td>\n",
       "      <td>-0.020679</td>\n",
       "      <td>-0.115271</td>\n",
       "      <td>-0.014201</td>\n",
       "      <td>3.0</td>\n",
       "    </tr>\n",
       "  </tbody>\n",
       "</table>\n",
       "<p>5 rows × 66 columns</p>\n",
       "</div>"
      ]
     },
     "execution_count": 3,
     "metadata": {},
     "output_type": "execute_result"
    }
   ],
   "execution_count": 3
  },
  {
   "metadata": {
    "ExecuteTime": {
     "end_time": "2024-08-20T08:44:12.456655Z",
     "start_time": "2024-08-20T08:44:12.372112Z"
    }
   },
   "cell_type": "code",
   "source": "train.describe()",
   "id": "9fbeacd7f2c52355",
   "outputs": [
    {
     "data": {
      "text/plain": [
       "                 ID     feature_0     feature_1     feature_2     feature_3  \\\n",
       "count  34988.000000  34988.000000  34988.000000  34988.000000  34988.000000   \n",
       "mean   17493.500000     -0.025667      0.005326     -0.015741     -0.004780   \n",
       "std    10100.309946      3.030748      2.171696      0.909885      0.676247   \n",
       "min        0.000000    -15.945959     -6.853446     -3.450916     -3.371233   \n",
       "25%     8746.750000     -2.061522     -1.405245     -0.617246     -0.439032   \n",
       "50%    17493.500000      0.230517     -0.278906     -0.073073     -0.033572   \n",
       "75%    26240.250000      2.271520      1.090409      0.530538      0.414171   \n",
       "max    34987.000000      8.828334     20.064835      7.041929      4.111352   \n",
       "\n",
       "          feature_4     feature_5     feature_6     feature_7     feature_8  \\\n",
       "count  34988.000000  34988.000000  34988.000000  34988.000000  34988.000000   \n",
       "mean      -0.008944     -0.004670     -0.018182      0.004407     -0.006715   \n",
       "std        0.625618      0.529283      0.490776      0.446237      0.411561   \n",
       "min       -6.351802     -2.003163     -1.482526     -2.353964     -1.659474   \n",
       "25%       -0.372987     -0.368630     -0.356968     -0.241367     -0.279038   \n",
       "50%        0.030238     -0.033410     -0.055696      0.040935     -0.012411   \n",
       "75%        0.409971      0.330293      0.281676      0.280784      0.260926   \n",
       "max        1.978701      2.511990      6.510805      8.411146      2.536084   \n",
       "\n",
       "       ...    feature_55    feature_56    feature_57    feature_58  \\\n",
       "count  ...  34988.000000  34988.000000  34988.000000  34988.000000   \n",
       "mean   ...     -0.000510      0.000518      0.000264     -0.001224   \n",
       "std    ...      0.095402      0.093816      0.093434      0.091614   \n",
       "min    ...     -0.942247     -0.588330     -0.771596     -0.597644   \n",
       "25%    ...     -0.058841     -0.060398     -0.060151     -0.058916   \n",
       "50%    ...     -0.000265     -0.000856      0.000478     -0.000103   \n",
       "75%    ...      0.058520      0.059978      0.061082      0.057753   \n",
       "max    ...      0.975914      0.696887      0.532025      0.622193   \n",
       "\n",
       "         feature_59    feature_60    feature_61    feature_62    feature_63  \\\n",
       "count  34988.000000  34988.000000  34988.000000  34988.000000  34988.000000   \n",
       "mean       0.001429      0.001177      0.000770      0.000382      0.000216   \n",
       "std        0.090396      0.089828      0.088973      0.087636      0.087134   \n",
       "min       -0.495204     -0.429300     -0.509795     -0.415701     -0.629959   \n",
       "25%       -0.056803     -0.055921     -0.056793     -0.056750     -0.055648   \n",
       "50%        0.002216      0.001734      0.000313     -0.000057      0.000577   \n",
       "75%        0.059987      0.058986      0.057766      0.057200      0.056666   \n",
       "max        0.452759      0.549956      0.471785      0.565583      0.621282   \n",
       "\n",
       "              score  \n",
       "count  34988.000000  \n",
       "mean       3.144707  \n",
       "std        1.162853  \n",
       "min        0.000000  \n",
       "25%        3.000000  \n",
       "50%        4.000000  \n",
       "75%        4.000000  \n",
       "max        4.000000  \n",
       "\n",
       "[8 rows x 66 columns]"
      ],
      "text/html": [
       "<div>\n",
       "<style scoped>\n",
       "    .dataframe tbody tr th:only-of-type {\n",
       "        vertical-align: middle;\n",
       "    }\n",
       "\n",
       "    .dataframe tbody tr th {\n",
       "        vertical-align: top;\n",
       "    }\n",
       "\n",
       "    .dataframe thead th {\n",
       "        text-align: right;\n",
       "    }\n",
       "</style>\n",
       "<table border=\"1\" class=\"dataframe\">\n",
       "  <thead>\n",
       "    <tr style=\"text-align: right;\">\n",
       "      <th></th>\n",
       "      <th>ID</th>\n",
       "      <th>feature_0</th>\n",
       "      <th>feature_1</th>\n",
       "      <th>feature_2</th>\n",
       "      <th>feature_3</th>\n",
       "      <th>feature_4</th>\n",
       "      <th>feature_5</th>\n",
       "      <th>feature_6</th>\n",
       "      <th>feature_7</th>\n",
       "      <th>feature_8</th>\n",
       "      <th>...</th>\n",
       "      <th>feature_55</th>\n",
       "      <th>feature_56</th>\n",
       "      <th>feature_57</th>\n",
       "      <th>feature_58</th>\n",
       "      <th>feature_59</th>\n",
       "      <th>feature_60</th>\n",
       "      <th>feature_61</th>\n",
       "      <th>feature_62</th>\n",
       "      <th>feature_63</th>\n",
       "      <th>score</th>\n",
       "    </tr>\n",
       "  </thead>\n",
       "  <tbody>\n",
       "    <tr>\n",
       "      <th>count</th>\n",
       "      <td>34988.000000</td>\n",
       "      <td>34988.000000</td>\n",
       "      <td>34988.000000</td>\n",
       "      <td>34988.000000</td>\n",
       "      <td>34988.000000</td>\n",
       "      <td>34988.000000</td>\n",
       "      <td>34988.000000</td>\n",
       "      <td>34988.000000</td>\n",
       "      <td>34988.000000</td>\n",
       "      <td>34988.000000</td>\n",
       "      <td>...</td>\n",
       "      <td>34988.000000</td>\n",
       "      <td>34988.000000</td>\n",
       "      <td>34988.000000</td>\n",
       "      <td>34988.000000</td>\n",
       "      <td>34988.000000</td>\n",
       "      <td>34988.000000</td>\n",
       "      <td>34988.000000</td>\n",
       "      <td>34988.000000</td>\n",
       "      <td>34988.000000</td>\n",
       "      <td>34988.000000</td>\n",
       "    </tr>\n",
       "    <tr>\n",
       "      <th>mean</th>\n",
       "      <td>17493.500000</td>\n",
       "      <td>-0.025667</td>\n",
       "      <td>0.005326</td>\n",
       "      <td>-0.015741</td>\n",
       "      <td>-0.004780</td>\n",
       "      <td>-0.008944</td>\n",
       "      <td>-0.004670</td>\n",
       "      <td>-0.018182</td>\n",
       "      <td>0.004407</td>\n",
       "      <td>-0.006715</td>\n",
       "      <td>...</td>\n",
       "      <td>-0.000510</td>\n",
       "      <td>0.000518</td>\n",
       "      <td>0.000264</td>\n",
       "      <td>-0.001224</td>\n",
       "      <td>0.001429</td>\n",
       "      <td>0.001177</td>\n",
       "      <td>0.000770</td>\n",
       "      <td>0.000382</td>\n",
       "      <td>0.000216</td>\n",
       "      <td>3.144707</td>\n",
       "    </tr>\n",
       "    <tr>\n",
       "      <th>std</th>\n",
       "      <td>10100.309946</td>\n",
       "      <td>3.030748</td>\n",
       "      <td>2.171696</td>\n",
       "      <td>0.909885</td>\n",
       "      <td>0.676247</td>\n",
       "      <td>0.625618</td>\n",
       "      <td>0.529283</td>\n",
       "      <td>0.490776</td>\n",
       "      <td>0.446237</td>\n",
       "      <td>0.411561</td>\n",
       "      <td>...</td>\n",
       "      <td>0.095402</td>\n",
       "      <td>0.093816</td>\n",
       "      <td>0.093434</td>\n",
       "      <td>0.091614</td>\n",
       "      <td>0.090396</td>\n",
       "      <td>0.089828</td>\n",
       "      <td>0.088973</td>\n",
       "      <td>0.087636</td>\n",
       "      <td>0.087134</td>\n",
       "      <td>1.162853</td>\n",
       "    </tr>\n",
       "    <tr>\n",
       "      <th>min</th>\n",
       "      <td>0.000000</td>\n",
       "      <td>-15.945959</td>\n",
       "      <td>-6.853446</td>\n",
       "      <td>-3.450916</td>\n",
       "      <td>-3.371233</td>\n",
       "      <td>-6.351802</td>\n",
       "      <td>-2.003163</td>\n",
       "      <td>-1.482526</td>\n",
       "      <td>-2.353964</td>\n",
       "      <td>-1.659474</td>\n",
       "      <td>...</td>\n",
       "      <td>-0.942247</td>\n",
       "      <td>-0.588330</td>\n",
       "      <td>-0.771596</td>\n",
       "      <td>-0.597644</td>\n",
       "      <td>-0.495204</td>\n",
       "      <td>-0.429300</td>\n",
       "      <td>-0.509795</td>\n",
       "      <td>-0.415701</td>\n",
       "      <td>-0.629959</td>\n",
       "      <td>0.000000</td>\n",
       "    </tr>\n",
       "    <tr>\n",
       "      <th>25%</th>\n",
       "      <td>8746.750000</td>\n",
       "      <td>-2.061522</td>\n",
       "      <td>-1.405245</td>\n",
       "      <td>-0.617246</td>\n",
       "      <td>-0.439032</td>\n",
       "      <td>-0.372987</td>\n",
       "      <td>-0.368630</td>\n",
       "      <td>-0.356968</td>\n",
       "      <td>-0.241367</td>\n",
       "      <td>-0.279038</td>\n",
       "      <td>...</td>\n",
       "      <td>-0.058841</td>\n",
       "      <td>-0.060398</td>\n",
       "      <td>-0.060151</td>\n",
       "      <td>-0.058916</td>\n",
       "      <td>-0.056803</td>\n",
       "      <td>-0.055921</td>\n",
       "      <td>-0.056793</td>\n",
       "      <td>-0.056750</td>\n",
       "      <td>-0.055648</td>\n",
       "      <td>3.000000</td>\n",
       "    </tr>\n",
       "    <tr>\n",
       "      <th>50%</th>\n",
       "      <td>17493.500000</td>\n",
       "      <td>0.230517</td>\n",
       "      <td>-0.278906</td>\n",
       "      <td>-0.073073</td>\n",
       "      <td>-0.033572</td>\n",
       "      <td>0.030238</td>\n",
       "      <td>-0.033410</td>\n",
       "      <td>-0.055696</td>\n",
       "      <td>0.040935</td>\n",
       "      <td>-0.012411</td>\n",
       "      <td>...</td>\n",
       "      <td>-0.000265</td>\n",
       "      <td>-0.000856</td>\n",
       "      <td>0.000478</td>\n",
       "      <td>-0.000103</td>\n",
       "      <td>0.002216</td>\n",
       "      <td>0.001734</td>\n",
       "      <td>0.000313</td>\n",
       "      <td>-0.000057</td>\n",
       "      <td>0.000577</td>\n",
       "      <td>4.000000</td>\n",
       "    </tr>\n",
       "    <tr>\n",
       "      <th>75%</th>\n",
       "      <td>26240.250000</td>\n",
       "      <td>2.271520</td>\n",
       "      <td>1.090409</td>\n",
       "      <td>0.530538</td>\n",
       "      <td>0.414171</td>\n",
       "      <td>0.409971</td>\n",
       "      <td>0.330293</td>\n",
       "      <td>0.281676</td>\n",
       "      <td>0.280784</td>\n",
       "      <td>0.260926</td>\n",
       "      <td>...</td>\n",
       "      <td>0.058520</td>\n",
       "      <td>0.059978</td>\n",
       "      <td>0.061082</td>\n",
       "      <td>0.057753</td>\n",
       "      <td>0.059987</td>\n",
       "      <td>0.058986</td>\n",
       "      <td>0.057766</td>\n",
       "      <td>0.057200</td>\n",
       "      <td>0.056666</td>\n",
       "      <td>4.000000</td>\n",
       "    </tr>\n",
       "    <tr>\n",
       "      <th>max</th>\n",
       "      <td>34987.000000</td>\n",
       "      <td>8.828334</td>\n",
       "      <td>20.064835</td>\n",
       "      <td>7.041929</td>\n",
       "      <td>4.111352</td>\n",
       "      <td>1.978701</td>\n",
       "      <td>2.511990</td>\n",
       "      <td>6.510805</td>\n",
       "      <td>8.411146</td>\n",
       "      <td>2.536084</td>\n",
       "      <td>...</td>\n",
       "      <td>0.975914</td>\n",
       "      <td>0.696887</td>\n",
       "      <td>0.532025</td>\n",
       "      <td>0.622193</td>\n",
       "      <td>0.452759</td>\n",
       "      <td>0.549956</td>\n",
       "      <td>0.471785</td>\n",
       "      <td>0.565583</td>\n",
       "      <td>0.621282</td>\n",
       "      <td>4.000000</td>\n",
       "    </tr>\n",
       "  </tbody>\n",
       "</table>\n",
       "<p>8 rows × 66 columns</p>\n",
       "</div>"
      ]
     },
     "execution_count": 4,
     "metadata": {},
     "output_type": "execute_result"
    }
   ],
   "execution_count": 4
  },
  {
   "metadata": {
    "ExecuteTime": {
     "end_time": "2024-08-20T08:45:03.026283Z",
     "start_time": "2024-08-20T08:45:03.019663Z"
    }
   },
   "cell_type": "code",
   "source": [
    "# Check for missing values\n",
    "train.isnull().sum()"
   ],
   "id": "ea89dda4c1f12f25",
   "outputs": [
    {
     "data": {
      "text/plain": [
       "ID            0\n",
       "feature_0     0\n",
       "feature_1     0\n",
       "feature_2     0\n",
       "feature_3     0\n",
       "             ..\n",
       "feature_60    0\n",
       "feature_61    0\n",
       "feature_62    0\n",
       "feature_63    0\n",
       "score         0\n",
       "Length: 66, dtype: int64"
      ]
     },
     "execution_count": 5,
     "metadata": {},
     "output_type": "execute_result"
    }
   ],
   "execution_count": 5
  },
  {
   "metadata": {
    "ExecuteTime": {
     "end_time": "2024-08-20T09:24:45.250627Z",
     "start_time": "2024-08-20T09:24:45.230321Z"
    }
   },
   "cell_type": "code",
   "source": [
    "# Create datasets\n",
    "def create_datasets(data):\n",
    "    X = data.drop(['score', 'ID'], axis=1)\n",
    "    y = data['score']\n",
    "    X = np.array(X)\n",
    "    y = np.array(y).reshape(-1, 1)\n",
    "    return X, y\n",
    "\n",
    "# Shuffle the data\n",
    "train = train.sample(frac=1).reset_index(drop=True)\n",
    "\n",
    "n_train = int(0.8 * train.shape[0])\n",
    "n_val = int(0.9 * train.shape[0])\n",
    "X_train, y_train = create_datasets(train[:n_train])\n",
    "X_val, y_val = create_datasets(train[n_train:n_val])\n",
    "X_test, y_test = create_datasets(train[n_val:])\n",
    "\n",
    "X_train.shape, X_val.shape, X_test.shape"
   ],
   "id": "51514d8dfadf7680",
   "outputs": [
    {
     "data": {
      "text/plain": [
       "((27990, 64), (3499, 64), (3499, 64))"
      ]
     },
     "execution_count": 42,
     "metadata": {},
     "output_type": "execute_result"
    }
   ],
   "execution_count": 42
  },
  {
   "metadata": {
    "ExecuteTime": {
     "end_time": "2024-08-20T09:57:10.300464Z",
     "start_time": "2024-08-20T09:57:10.296486Z"
    }
   },
   "cell_type": "code",
   "source": [
    "# No. of features\n",
    "N = X_train.shape[1]\n",
    "\n",
    "# Weight vector (N x 1)\n",
    "W = np.random.randn(N, 1)"
   ],
   "id": "e762e814123f10dc",
   "outputs": [],
   "execution_count": 87
  },
  {
   "metadata": {
    "ExecuteTime": {
     "end_time": "2024-08-20T10:15:54.913896Z",
     "start_time": "2024-08-20T10:15:54.907669Z"
    }
   },
   "cell_type": "code",
   "source": [
    "def predict(X, W):\n",
    "    return X @ W\n",
    "\n",
    "def mse(y_true, y_pred):\n",
    "    return np.mean((y_true - y_pred)**2)\n",
    "\n",
    "def rmse(y_true, y_pred):\n",
    "    return np.sqrt(mse(y_true, y_pred))\n",
    "\n",
    "def compute_gradients(X, y, y_pred):\n",
    "    dW = -2 * X.T @ (y - y_pred) / X.shape[0]\n",
    "    return dW\n",
    "\n",
    "def fit(X, y, W, Xval, yval, lr=0.01, epochs=100, print_every=100):\n",
    "    # Error list\n",
    "    errors = []\n",
    "    val_errors = []\n",
    "    best_val_error = float('inf')\n",
    "    best_W = None\n",
    "    \n",
    "    for i in range(epochs):\n",
    "        y_pred = predict(X, W)\n",
    "        loss = mse(y, y_pred)\n",
    "        \n",
    "        y_val_pred = predict(Xval, W)\n",
    "        val_loss = mse(yval, y_val_pred)\n",
    "        \n",
    "        dW = compute_gradients(X, y, y_pred)\n",
    "        W -= lr * dW\n",
    "        if i % print_every == 0 or i == epochs - 1:\n",
    "            print(f'Epoch {i}, Loss: {loss}, Val Loss: {val_loss}')\n",
    "        errors.append(loss)\n",
    "        val_errors.append(val_loss)\n",
    "        if val_loss < best_val_error:\n",
    "            best_val_error = val_loss\n",
    "            best_W = W\n",
    "    return best_W, errors, val_errors"
   ],
   "id": "c180fbdca030deee",
   "outputs": [],
   "execution_count": 131
  },
  {
   "metadata": {
    "ExecuteTime": {
     "end_time": "2024-08-20T10:07:33.410372Z",
     "start_time": "2024-08-20T10:07:33.399881Z"
    }
   },
   "cell_type": "code",
   "source": [
    "# Closed form solution\n",
    "\n",
    "from closedForm import LinearRegressionClosedForm\n",
    "\n",
    "model = LinearRegressionClosedForm()\n",
    "\n",
    "model.fit(X_train, y_train)\n",
    "\n",
    "y_pred = model.predict(X_val)\n",
    "rmse(y_val, y_pred)"
   ],
   "id": "4c91e943fbd0d643",
   "outputs": [
    {
     "data": {
      "text/plain": [
       "np.float64(3.2574874159442597)"
      ]
     },
     "execution_count": 107,
     "metadata": {},
     "output_type": "execute_result"
    }
   ],
   "execution_count": 107
  },
  {
   "metadata": {
    "ExecuteTime": {
     "end_time": "2024-08-20T10:10:45.323668Z",
     "start_time": "2024-08-20T10:10:45.316396Z"
    }
   },
   "cell_type": "code",
   "source": [
    "def plot_errors(errors, val_errors):\n",
    "    plt.plot(errors, label='Train')\n",
    "    plt.plot(val_errors, label='Validation')\n",
    "    plt.xlabel('Epochs')\n",
    "    plt.ylabel('Loss')\n",
    "    plt.legend()\n",
    "    plt.show()"
   ],
   "id": "b5a34a0664c55127",
   "outputs": [],
   "execution_count": 116
  },
  {
   "metadata": {
    "ExecuteTime": {
     "end_time": "2024-08-20T10:10:47.910991Z",
     "start_time": "2024-08-20T10:10:46.493171Z"
    }
   },
   "cell_type": "code",
   "source": [
    "# Gradient Descent\n",
    "W, errors, val_errors = fit(X_train, y_train, W, X_val, y_val, lr=0.0001, epochs=1000)\n",
    "\n",
    "y_pred = predict(X_val, W)\n",
    "\n",
    "plot_errors(errors, val_errors)\n",
    "\n",
    "rmse(y_val, y_pred)"
   ],
   "id": "a9b9a9aed346322b",
   "outputs": [
    {
     "name": "stdout",
     "output_type": "stream",
     "text": [
      "Epoch 0, Loss: 13.834314636160364, Val Loss: 13.725767209741297\n",
      "Epoch 100, Loss: 13.805404835269599, Val Loss: 13.695528009531348\n",
      "Epoch 200, Loss: 13.776884625399743, Val Loss: 13.665711515678634\n",
      "Epoch 300, Loss: 13.748747894030053, Val Loss: 13.63631023886606\n",
      "Epoch 400, Loss: 13.720988660518975, Val Loss: 13.607316933610562\n",
      "Epoch 500, Loss: 13.693601068117367, Val Loss: 13.578724578058932\n",
      "Epoch 600, Loss: 13.66657937716698, Val Loss: 13.550526356487698\n",
      "Epoch 700, Loss: 13.639917959263753, Val Loss: 13.522715644079856\n",
      "Epoch 800, Loss: 13.613611292209729, Val Loss: 13.495285993625496\n",
      "Epoch 900, Loss: 13.587653955612288, Val Loss: 13.468231123853862\n"
     ]
    },
    {
     "data": {
      "text/plain": [
       "<Figure size 640x480 with 1 Axes>"
      ],
      "image/png": "[encoded data removed]"
     },
     "metadata": {},
     "output_type": "display_data"
    },
    {
     "data": {
      "text/plain": [
       "np.float64(3.666271254170027)"
      ]
     },
     "execution_count": 117,
     "metadata": {},
     "output_type": "execute_result"
    }
   ],
   "execution_count": 117
  },
  {
   "metadata": {
    "ExecuteTime": {
     "end_time": "2024-08-20T10:12:35.328554Z",
     "start_time": "2024-08-20T10:12:35.301088Z"
    }
   },
   "cell_type": "code",
   "source": [
    "# Feature engineering\n",
    "\n",
    "# Add polynomial features\n",
    "def transform_input(X):\n",
    "    X = np.hstack([X, X**2, np.sin(X), np.cos(X)])\n",
    "    return X\n",
    "\n",
    "X_train_poly = transform_input(X_train)\n",
    "X_val_poly = transform_input(X_val)\n",
    "\n",
    "X_train_poly.shape\n",
    "W_poly = np.random.randn(X_train_poly.shape[1], 1)"
   ],
   "id": "486672be6ba5336c",
   "outputs": [],
   "execution_count": 126
  },
  {
   "metadata": {
    "ExecuteTime": {
     "end_time": "2024-08-20T10:40:01.376530Z",
     "start_time": "2024-08-20T10:40:01.373339Z"
    }
   },
   "cell_type": "code",
   "source": "W_poly = np.load('weights1.npy')",
   "id": "88eca1d4ebe01ada",
   "outputs": [],
   "execution_count": 153
  },
  {
   "metadata": {
    "ExecuteTime": {
     "end_time": "2024-08-20T10:53:56.447625Z",
     "start_time": "2024-08-20T10:44:59.256065Z"
    }
   },
   "cell_type": "code",
   "source": [
    "W_train_poly, errors, val_errors = fit(X_train_poly, y_train, W_poly, X_val_poly, y_val, lr=0.003, epochs=100000, print_every=1000)\n",
    "\n",
    "plot_errors(errors, val_errors)\n",
    "\n",
    "y_pred = predict(X_val_poly, W_train_poly)\n",
    "rmse(y_val, y_pred)"
   ],
   "id": "ed943654e030999e",
   "outputs": [
    {
     "name": "stdout",
     "output_type": "stream",
     "text": [
      "Epoch 0, Loss: 0.887516508686186, Val Loss: 0.8901316717695933\n",
      "Epoch 1000, Loss: 0.8873680408005094, Val Loss: 0.8899724799714331\n",
      "Epoch 2000, Loss: 0.8872226363816219, Val Loss: 0.889818403688561\n",
      "Epoch 3000, Loss: 0.887080202881083, Val Loss: 0.8896692351864373\n",
      "Epoch 4000, Loss: 0.886940651524212, Val Loss: 0.8895247760988856\n",
      "Epoch 5000, Loss: 0.8868038971162454, Val Loss: 0.889384836965019\n",
      "Epoch 6000, Loss: 0.8866698578603716, Val Loss: 0.8892492367913476\n",
      "Epoch 7000, Loss: 0.8865384551867982, Val Loss: 0.8891178026375213\n",
      "Epoch 8000, Loss: 0.8864096135920758, Val Loss: 0.8889903692242668\n",
      "Epoch 9000, Loss: 0.8862832604879647, Val Loss: 0.888866778562189\n",
      "Epoch 10000, Loss: 0.8861593260591862, Val Loss: 0.8887468796001933\n",
      "Epoch 11000, Loss: 0.8860377431294598, Val Loss: 0.8886305278923772\n",
      "Epoch 12000, Loss: 0.8859184470352618, Val Loss: 0.8885175852823185\n",
      "Epoch 13000, Loss: 0.8858013755067966, Val Loss: 0.8884079196037482\n",
      "Epoch 14000, Loss: 0.8856864685557031, Val Loss: 0.888301404396682\n",
      "Epoch 15000, Loss: 0.8855736683690567, Val Loss: 0.8881979186381288\n",
      "Epoch 16000, Loss: 0.8854629192092616, Val Loss: 0.8880973464865562\n",
      "Epoch 17000, Loss: 0.8853541673194553, Val Loss: 0.887999577039349\n",
      "Epoch 18000, Loss: 0.8852473608340748, Val Loss: 0.8879045041025407\n",
      "Epoch 19000, Loss: 0.885142449694263, Val Loss: 0.8878120259721417\n",
      "Epoch 20000, Loss: 0.8850393855678118, Val Loss: 0.8877220452264329\n",
      "Epoch 21000, Loss: 0.8849381217733617, Val Loss: 0.8876344685286295\n",
      "Epoch 22000, Loss: 0.8848386132085986, Val Loss: 0.8875492064393562\n",
      "Epoch 23000, Loss: 0.8847408162822048, Val Loss: 0.8874661732384067\n",
      "Epoch 24000, Loss: 0.884644688849338, Val Loss: 0.8873852867552952\n",
      "Epoch 25000, Loss: 0.884550190150427, Val Loss: 0.8873064682081289\n",
      "Epoch 26000, Loss: 0.8844572807530907, Val Loss: 0.8872296420503736\n",
      "Epoch 27000, Loss: 0.8843659224969918, Val Loss: 0.8871547358250808\n",
      "Epoch 28000, Loss: 0.884276078441459, Val Loss: 0.8870816800262055\n",
      "Epoch 29000, Loss: 0.884187712815716, Val Loss: 0.8870104079666314\n",
      "Epoch 30000, Loss: 0.884100790971565, Val Loss: 0.8869408556525662\n",
      "Epoch 31000, Loss: 0.8840152793383893, Val Loss: 0.886872961663972\n",
      "Epoch 32000, Loss: 0.883931145380341, Val Loss: 0.886806667040725\n",
      "Epoch 33000, Loss: 0.8838483575555908, Val Loss: 0.8867419151742111\n",
      "Epoch 34000, Loss: 0.8837668852775283, Val Loss: 0.8866786517040782\n",
      "Epoch 35000, Loss: 0.8836866988777996, Val Loss: 0.8866168244198869\n",
      "Epoch 36000, Loss: 0.8836077695710876, Val Loss: 0.8865563831674101\n",
      "Epoch 37000, Loss: 0.8835300694215331, Val Loss: 0.8864972797593479\n",
      "Epoch 38000, Loss: 0.8834535713107153, Val Loss: 0.8864394678902341\n",
      "Epoch 39000, Loss: 0.8833782489071013, Val Loss: 0.8863829030553301\n",
      "Epoch 40000, Loss: 0.8833040766368884, Val Loss: 0.8863275424733005\n",
      "Epoch 41000, Loss: 0.8832310296561693, Val Loss: 0.8862733450124886\n",
      "Epoch 42000, Loss: 0.8831590838243434, Val Loss: 0.8862202711206064\n",
      "Epoch 43000, Loss: 0.8830882156787146, Val Loss: 0.8861682827576809\n",
      "Epoch 44000, Loss: 0.8830184024102125, Val Loss: 0.8861173433320849\n",
      "Epoch 45000, Loss: 0.8829496218401763, Val Loss: 0.8860674176395076\n",
      "Epoch 46000, Loss: 0.8828818523981538, Val Loss: 0.8860184718047215\n",
      "Epoch 47000, Loss: 0.8828150731006542, Val Loss: 0.8859704732260063\n",
      "Epoch 48000, Loss: 0.8827492635308161, Val Loss: 0.8859233905220993\n",
      "Epoch 49000, Loss: 0.8826844038189382, Val Loss: 0.8858771934815558\n",
      "Epoch 50000, Loss: 0.8826204746238323, Val Loss: 0.8858318530143965\n",
      "Epoch 51000, Loss: 0.8825574571149583, Val Loss: 0.885787341105936\n",
      "Epoch 52000, Loss: 0.8824953329553011, Val Loss: 0.8857436307726831\n",
      "Epoch 53000, Loss: 0.882434084284955, Val Loss: 0.8857006960202182\n",
      "Epoch 54000, Loss: 0.8823736937053784, Val Loss: 0.8856585118029501\n",
      "Epoch 55000, Loss: 0.8823141442642919, Val Loss: 0.8856170539856641\n",
      "Epoch 56000, Loss: 0.8822554194411816, Val Loss: 0.8855762993067746\n",
      "Epoch 57000, Loss: 0.8821975031333855, Val Loss: 0.885536225343202\n",
      "Epoch 58000, Loss: 0.8821403796427324, Val Loss: 0.8854968104767991\n",
      "Epoch 59000, Loss: 0.8820840336627055, Val Loss: 0.8854580338622499\n",
      "Epoch 60000, Loss: 0.8820284502661118, Val Loss: 0.8854198753963745\n",
      "Epoch 61000, Loss: 0.8819736148932272, Val Loss: 0.8853823156887727\n",
      "Epoch 62000, Loss: 0.8819195133404022, Val Loss: 0.8853453360337452\n",
      "Epoch 63000, Loss: 0.8818661317491001, Val Loss: 0.8853089183834303\n",
      "Epoch 64000, Loss: 0.8818134565953543, Val Loss: 0.8852730453221013\n",
      "Epoch 65000, Loss: 0.8817614746796214, Val Loss: 0.8852377000415699\n",
      "Epoch 66000, Loss: 0.8817101731170162, Val Loss: 0.8852028663176454\n",
      "Epoch 67000, Loss: 0.8816595393279074, Val Loss: 0.885168528487601\n",
      "Epoch 68000, Loss: 0.8816095610288615, Val Loss: 0.8851346714285951\n",
      "Epoch 69000, Loss: 0.8815602262239172, Val Loss: 0.8851012805370163\n",
      "Epoch 70000, Loss: 0.8815115231961789, Val Loss: 0.8850683417086964\n",
      "Epoch 71000, Loss: 0.8814634404997116, Val Loss: 0.8850358413199584\n",
      "Epoch 72000, Loss: 0.8814159669517265, Val Loss: 0.8850037662094624\n",
      "Epoch 73000, Loss: 0.8813690916250461, Val Loss: 0.8849721036608094\n",
      "Epoch 74000, Loss: 0.8813228038408336, Val Loss: 0.8849408413858719\n",
      "Epoch 75000, Loss: 0.8812770931615774, Val Loss: 0.8849099675088156\n",
      "Epoch 76000, Loss: 0.8812319493843214, Val Loss: 0.8848794705507834\n",
      "Epoch 77000, Loss: 0.8811873625341272, Val Loss: 0.8848493394152107\n",
      "Epoch 78000, Loss: 0.8811433228577621, Val Loss: 0.8848195633737451\n",
      "Epoch 79000, Loss: 0.8810998208176015, Val Loss: 0.8847901320527407\n",
      "Epoch 80000, Loss: 0.8810568470857383, Val Loss: 0.884761035420305\n",
      "Epoch 81000, Loss: 0.8810143925382887, Val Loss: 0.8847322637738702\n",
      "Epoch 82000, Loss: 0.8809724482498905, Val Loss: 0.8847038077282692\n",
      "Epoch 83000, Loss: 0.8809310054883817, Val Loss: 0.8846756582042913\n",
      "Epoch 84000, Loss: 0.880890055709654, Val Loss: 0.8846478064176979\n",
      "Epoch 85000, Loss: 0.8808495905526766, Val Loss: 0.8846202438686789\n",
      "Epoch 86000, Loss: 0.8808096018346798, Val Loss: 0.8845929623317244\n",
      "Epoch 87000, Loss: 0.8807700815464943, Val Loss: 0.8845659538459066\n",
      "Epoch 88000, Loss: 0.8807310218480393, Val Loss: 0.8845392107055379\n",
      "Epoch 89000, Loss: 0.8806924150639553, Val Loss: 0.8845127254512009\n",
      "Epoch 90000, Loss: 0.8806542536793743, Val Loss: 0.8844864908611303\n",
      "Epoch 91000, Loss: 0.8806165303358221, Val Loss: 0.8844604999429305\n",
      "Epoch 92000, Loss: 0.8805792378272483, Val Loss: 0.8844347459256151\n",
      "Epoch 93000, Loss: 0.8805423690961819, Val Loss: 0.8844092222519555\n",
      "Epoch 94000, Loss: 0.8805059172300008, Val Loss: 0.8843839225711253\n",
      "Epoch 95000, Loss: 0.8804698754573191, Val Loss: 0.8843588407316259\n",
      "Epoch 96000, Loss: 0.8804342371444827, Val Loss: 0.8843339707744835\n",
      "Epoch 97000, Loss: 0.880398995792169, Val Loss: 0.8843093069267071\n",
      "Epoch 98000, Loss: 0.8803641450320933, Val Loss: 0.8842848435949915\n",
      "Epoch 99000, Loss: 0.8803296786238073, Val Loss: 0.8842605753596606\n",
      "Epoch 99999, Loss: 0.8802956243528453, Val Loss: 0.8842365209541092\n"
     ]
    },
    {
     "data": {
      "text/plain": [
       "<Figure size 640x480 with 1 Axes>"
      ],
      "image/png": "[encoded data removed]"
     },
     "metadata": {},
     "output_type": "display_data"
    },
    {
     "data": {
      "text/plain": [
       "np.float64(0.940338501269005)"
      ]
     },
     "execution_count": 157,
     "metadata": {},
     "output_type": "execute_result"
    }
   ],
   "execution_count": 157
  },
  {
   "metadata": {
    "ExecuteTime": {
     "end_time": "2024-08-20T10:54:23.698262Z",
     "start_time": "2024-08-20T10:54:23.695077Z"
    }
   },
   "cell_type": "code",
   "source": [
    "# export weights\n",
    "np.save('weights3.npy', W_train_poly)\n",
    "W_backup = W_train_poly"
   ],
   "id": "bc4407bfda51ec3f",
   "outputs": [],
   "execution_count": 159
  },
  {
   "metadata": {
    "ExecuteTime": {
     "end_time": "2024-08-20T10:54:31.127841Z",
     "start_time": "2024-08-20T10:54:31.118358Z"
    }
   },
   "cell_type": "code",
   "source": [
    "X_val_poly = transform_input(X_val)\n",
    "y_pred = predict(X_val_poly, W_poly)\n",
    "\n",
    "rmse(y_val, y_pred)"
   ],
   "id": "2aea3318c3e290d1",
   "outputs": [
    {
     "data": {
      "text/plain": [
       "np.float64(0.940338501269005)"
      ]
     },
     "execution_count": 160,
     "metadata": {},
     "output_type": "execute_result"
    }
   ],
   "execution_count": 160
  },
  {
   "metadata": {
    "ExecuteTime": {
     "end_time": "2024-08-20T10:54:35.338452Z",
     "start_time": "2024-08-20T10:54:35.330291Z"
    }
   },
   "cell_type": "code",
   "source": [
    "X_test_poly = transform_input(X_test)\n",
    "y_test_pred = predict(X_test_poly, W_poly)\n",
    "\n",
    "rmse(y_test, y_test_pred)"
   ],
   "id": "c72db1e8e483b502",
   "outputs": [
    {
     "data": {
      "text/plain": [
       "np.float64(0.9308557733835064)"
      ]
     },
     "execution_count": 161,
     "metadata": {},
     "output_type": "execute_result"
    }
   ],
   "execution_count": 161
  },
  {
   "metadata": {
    "ExecuteTime": {
     "end_time": "2024-08-20T10:54:40.030769Z",
     "start_time": "2024-08-20T10:54:40.002207Z"
    }
   },
   "cell_type": "code",
   "source": [
    "# Get output for final test data\n",
    "X_final_test = np.array(test.drop('ID', axis=1))\n",
    "X_final_test_poly = transform_input(X_final_test)\n",
    "y_final_test = predict(X_final_test_poly, W_poly)\n",
    "y_final_test = y_final_test.round()\n",
    "\n",
    "output = pd.DataFrame({'ID': test['ID'], 'score': y_final_test.flatten()})\n",
    "\n",
    "# output['score'] = output['score'].clip(0, 5)\n",
    "\n",
    "# count score < 0\n",
    "below0 = output[output['score'] < 0].shape[0]\n",
    "\n",
    "# count score > 5\n",
    "above5 = output[output['score'] > 5].shape[0]\n",
    "\n",
    "print(output.shape[0], below0, above5)\n",
    "\n",
    "output.to_csv('output.csv', index=False)"
   ],
   "id": "6a41c6871d40ef33",
   "outputs": [
    {
     "name": "stdout",
     "output_type": "stream",
     "text": [
      "14996 0 1\n"
     ]
    }
   ],
   "execution_count": 162
  }
 ],
 "metadata": {
  "kernelspec": {
   "display_name": "Python 3",
   "language": "python",
   "name": "python3"
  },
  "language_info": {
   "codemirror_mode": {
    "name": "ipython",
    "version": 2
   },
   "file_extension": ".py",
   "mimetype": "text/x-python",
   "name": "python",
   "nbconvert_exporter": "python",
   "pygments_lexer": "ipython2",
   "version": "2.7.6"
  }
 },
 "nbformat": 4,
 "nbformat_minor": 5
}
